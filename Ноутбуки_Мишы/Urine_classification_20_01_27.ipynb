{
 "cells": [
  {
   "cell_type": "code",
   "execution_count": 40,
   "metadata": {},
   "outputs": [],
   "source": [
    "%config InlineBackend.figure_format = 'retina'"
   ]
  },
  {
   "cell_type": "code",
   "execution_count": 67,
   "metadata": {},
   "outputs": [],
   "source": [
    "import pandas as pd\n",
    "import numpy as np\n",
    "\n",
    "from sklearn.decomposition import PCA\n",
    "from sklearn.preprocessing import MinMaxScaler\n",
    "from sklearn import model_selection, linear_model, metrics\n",
    "from sklearn.svm import LinearSVC\n",
    "\n",
    "from sklearn.metrics import classification_report"
   ]
  },
  {
   "cell_type": "code",
   "execution_count": 2,
   "metadata": {},
   "outputs": [],
   "source": [
    "samples = pd.read_excel(u'20.01.23 список образцов Моча.xlsx', header=2)\n",
    "samples.dropna(subset=['Gender'], inplace=True)\n",
    "\n",
    "samples.fillna(0, inplace=True)\n",
    "samples.reset_index(drop=True, inplace=True)"
   ]
  },
  {
   "cell_type": "code",
   "execution_count": 55,
   "metadata": {},
   "outputs": [],
   "source": [
    "spectra1 = pd.read_csv('urine_chm001-250.csv')\n",
    "spectra2 = pd.read_csv('urine_chm251-500.csv')\n",
    "spectra_init = pd.concat([spectra1, spectra2],  ignore_index=True)\n",
    "\n",
    "spectra = spectra_init.filter(regex='^Ch')\n",
    "\n",
    "mmscaler = MinMaxScaler()\n",
    "spectra = pd.DataFrame(mmscaler.fit_transform(spectra.T).T)"
   ]
  },
  {
   "cell_type": "code",
   "execution_count": 56,
   "metadata": {},
   "outputs": [],
   "source": [
    "# pca = PCA(n_components=6)\n",
    "# spectra_PCA = pd.DataFrame(pca.fit_transform(spectra))\n",
    "# spectra_PCA['Dataset'] = spectra_init['Dataset']\n",
    "\n",
    "# spectra_PCA = pd.merge(left=spectra_PCA, right=frame_lol, how='left', on='Dataset')\n",
    "# spectra_PCA.dropna(subset=['TOTAL_a'], inplace=True)"
   ]
  },
  {
   "cell_type": "code",
   "execution_count": 57,
   "metadata": {},
   "outputs": [],
   "source": [
    "frame_lol = samples[['Dataset', 'TOTAL_a']]\n",
    "\n",
    "spectra['Dataset'] = spectra_init['Dataset']\n",
    "spectra = pd.merge(left=spectra, right=frame_lol, how='left', on='Dataset')\n",
    "spectra.dropna(subset=['TOTAL_a'], inplace=True)\n"
   ]
  },
  {
   "cell_type": "code",
   "execution_count": 58,
   "metadata": {},
   "outputs": [
    {
     "data": {
      "text/plain": [
       "0.0     2037\n",
       "1.0      890\n",
       "2.0      500\n",
       "3.0      350\n",
       "4.0      183\n",
       "5.0      111\n",
       "7.0       70\n",
       "6.0       57\n",
       "8.0       30\n",
       "11.0      10\n",
       "10.0       9\n",
       "14.0       4\n",
       "Name: TOTAL_a, dtype: int64"
      ]
     },
     "execution_count": 58,
     "metadata": {},
     "output_type": "execute_result"
    }
   ],
   "source": [
    "spectra['TOTAL_a'].value_counts()"
   ]
  },
  {
   "cell_type": "code",
   "execution_count": 59,
   "metadata": {},
   "outputs": [],
   "source": [
    "from seaborn import barplot"
   ]
  },
  {
   "cell_type": "code",
   "execution_count": 60,
   "metadata": {},
   "outputs": [
    {
     "data": {
      "text/plain": [
       "<matplotlib.axes._subplots.AxesSubplot at 0x128930a90>"
      ]
     },
     "execution_count": 60,
     "metadata": {},
     "output_type": "execute_result"
    },
    {
     "data": {
      "image/png": "[encoded data removed]",
      "text/plain": [
       "<Figure size 432x288 with 1 Axes>"
      ]
     },
     "metadata": {
      "image/png": {
       "height": 251,
       "width": 381
      },
      "needs_background": "light"
     },
     "output_type": "display_data"
    }
   ],
   "source": [
    "df = spectra['TOTAL_a'].value_counts()\n",
    "barplot(df.index, df.values)"
   ]
  },
  {
   "cell_type": "code",
   "execution_count": 61,
   "metadata": {},
   "outputs": [
    {
     "data": {
      "text/html": [
       "<div>\n",
       "<style scoped>\n",
       "    .dataframe tbody tr th:only-of-type {\n",
       "        vertical-align: middle;\n",
       "    }\n",
       "\n",
       "    .dataframe tbody tr th {\n",
       "        vertical-align: top;\n",
       "    }\n",
       "\n",
       "    .dataframe thead th {\n",
       "        text-align: right;\n",
       "    }\n",
       "</style>\n",
       "<table border=\"1\" class=\"dataframe\">\n",
       "  <thead>\n",
       "    <tr style=\"text-align: right;\">\n",
       "      <th></th>\n",
       "      <th>0</th>\n",
       "      <th>1</th>\n",
       "      <th>2</th>\n",
       "      <th>3</th>\n",
       "      <th>4</th>\n",
       "      <th>5</th>\n",
       "      <th>6</th>\n",
       "      <th>7</th>\n",
       "      <th>8</th>\n",
       "      <th>9</th>\n",
       "      <th>...</th>\n",
       "      <th>28</th>\n",
       "      <th>29</th>\n",
       "      <th>30</th>\n",
       "      <th>31</th>\n",
       "      <th>32</th>\n",
       "      <th>33</th>\n",
       "      <th>34</th>\n",
       "      <th>35</th>\n",
       "      <th>Dataset</th>\n",
       "      <th>TOTAL_a</th>\n",
       "    </tr>\n",
       "  </thead>\n",
       "  <tbody>\n",
       "    <tr>\n",
       "      <th>0</th>\n",
       "      <td>0.009548</td>\n",
       "      <td>0.006474</td>\n",
       "      <td>0.049685</td>\n",
       "      <td>0.202149</td>\n",
       "      <td>0.123593</td>\n",
       "      <td>0.387389</td>\n",
       "      <td>0.041195</td>\n",
       "      <td>0.104526</td>\n",
       "      <td>0.142864</td>\n",
       "      <td>0.021804</td>\n",
       "      <td>...</td>\n",
       "      <td>0.074371</td>\n",
       "      <td>0.075371</td>\n",
       "      <td>0.041148</td>\n",
       "      <td>0.060607</td>\n",
       "      <td>0.009314</td>\n",
       "      <td>0.018939</td>\n",
       "      <td>0.008189</td>\n",
       "      <td>0.012748</td>\n",
       "      <td>Chm1</td>\n",
       "      <td>8.0</td>\n",
       "    </tr>\n",
       "    <tr>\n",
       "      <th>1</th>\n",
       "      <td>0.008944</td>\n",
       "      <td>0.006740</td>\n",
       "      <td>0.049408</td>\n",
       "      <td>0.213435</td>\n",
       "      <td>0.125622</td>\n",
       "      <td>0.417335</td>\n",
       "      <td>0.040500</td>\n",
       "      <td>0.107062</td>\n",
       "      <td>0.146123</td>\n",
       "      <td>0.023081</td>\n",
       "      <td>...</td>\n",
       "      <td>0.074040</td>\n",
       "      <td>0.071008</td>\n",
       "      <td>0.040300</td>\n",
       "      <td>0.061966</td>\n",
       "      <td>0.009789</td>\n",
       "      <td>0.019652</td>\n",
       "      <td>0.008480</td>\n",
       "      <td>0.013700</td>\n",
       "      <td>Chm1</td>\n",
       "      <td>8.0</td>\n",
       "    </tr>\n",
       "    <tr>\n",
       "      <th>2</th>\n",
       "      <td>0.007399</td>\n",
       "      <td>0.005264</td>\n",
       "      <td>0.044529</td>\n",
       "      <td>0.188678</td>\n",
       "      <td>0.115589</td>\n",
       "      <td>0.379931</td>\n",
       "      <td>0.036340</td>\n",
       "      <td>0.098683</td>\n",
       "      <td>0.138609</td>\n",
       "      <td>0.021477</td>\n",
       "      <td>...</td>\n",
       "      <td>0.070242</td>\n",
       "      <td>0.069050</td>\n",
       "      <td>0.036341</td>\n",
       "      <td>0.059691</td>\n",
       "      <td>0.008832</td>\n",
       "      <td>0.019432</td>\n",
       "      <td>0.007714</td>\n",
       "      <td>0.010939</td>\n",
       "      <td>Chm1</td>\n",
       "      <td>8.0</td>\n",
       "    </tr>\n",
       "    <tr>\n",
       "      <th>3</th>\n",
       "      <td>0.008285</td>\n",
       "      <td>0.005911</td>\n",
       "      <td>0.048244</td>\n",
       "      <td>0.200886</td>\n",
       "      <td>0.123995</td>\n",
       "      <td>0.399413</td>\n",
       "      <td>0.038485</td>\n",
       "      <td>0.102645</td>\n",
       "      <td>0.144699</td>\n",
       "      <td>0.022199</td>\n",
       "      <td>...</td>\n",
       "      <td>0.072781</td>\n",
       "      <td>0.069820</td>\n",
       "      <td>0.038771</td>\n",
       "      <td>0.060423</td>\n",
       "      <td>0.009440</td>\n",
       "      <td>0.019763</td>\n",
       "      <td>0.008134</td>\n",
       "      <td>0.013665</td>\n",
       "      <td>Chm1</td>\n",
       "      <td>8.0</td>\n",
       "    </tr>\n",
       "    <tr>\n",
       "      <th>4</th>\n",
       "      <td>0.007441</td>\n",
       "      <td>0.005255</td>\n",
       "      <td>0.044043</td>\n",
       "      <td>0.185445</td>\n",
       "      <td>0.113481</td>\n",
       "      <td>0.372787</td>\n",
       "      <td>0.036393</td>\n",
       "      <td>0.096989</td>\n",
       "      <td>0.136853</td>\n",
       "      <td>0.021068</td>\n",
       "      <td>...</td>\n",
       "      <td>0.070491</td>\n",
       "      <td>0.069071</td>\n",
       "      <td>0.036398</td>\n",
       "      <td>0.052239</td>\n",
       "      <td>0.008726</td>\n",
       "      <td>0.019684</td>\n",
       "      <td>0.007567</td>\n",
       "      <td>0.010917</td>\n",
       "      <td>Chm1</td>\n",
       "      <td>8.0</td>\n",
       "    </tr>\n",
       "    <tr>\n",
       "      <th>...</th>\n",
       "      <td>...</td>\n",
       "      <td>...</td>\n",
       "      <td>...</td>\n",
       "      <td>...</td>\n",
       "      <td>...</td>\n",
       "      <td>...</td>\n",
       "      <td>...</td>\n",
       "      <td>...</td>\n",
       "      <td>...</td>\n",
       "      <td>...</td>\n",
       "      <td>...</td>\n",
       "      <td>...</td>\n",
       "      <td>...</td>\n",
       "      <td>...</td>\n",
       "      <td>...</td>\n",
       "      <td>...</td>\n",
       "      <td>...</td>\n",
       "      <td>...</td>\n",
       "      <td>...</td>\n",
       "      <td>...</td>\n",
       "      <td>...</td>\n",
       "    </tr>\n",
       "    <tr>\n",
       "      <th>4869</th>\n",
       "      <td>0.011690</td>\n",
       "      <td>0.009324</td>\n",
       "      <td>0.068256</td>\n",
       "      <td>0.311768</td>\n",
       "      <td>0.175930</td>\n",
       "      <td>0.650618</td>\n",
       "      <td>0.048589</td>\n",
       "      <td>0.123997</td>\n",
       "      <td>0.158752</td>\n",
       "      <td>0.025448</td>\n",
       "      <td>...</td>\n",
       "      <td>0.075448</td>\n",
       "      <td>0.069925</td>\n",
       "      <td>0.043486</td>\n",
       "      <td>0.063455</td>\n",
       "      <td>0.009789</td>\n",
       "      <td>0.019200</td>\n",
       "      <td>0.008056</td>\n",
       "      <td>0.012671</td>\n",
       "      <td>Chm500</td>\n",
       "      <td>5.0</td>\n",
       "    </tr>\n",
       "    <tr>\n",
       "      <th>4870</th>\n",
       "      <td>0.011664</td>\n",
       "      <td>0.009292</td>\n",
       "      <td>0.068482</td>\n",
       "      <td>0.312936</td>\n",
       "      <td>0.176323</td>\n",
       "      <td>0.655573</td>\n",
       "      <td>0.048768</td>\n",
       "      <td>0.123926</td>\n",
       "      <td>0.159101</td>\n",
       "      <td>0.025267</td>\n",
       "      <td>...</td>\n",
       "      <td>0.075288</td>\n",
       "      <td>0.071531</td>\n",
       "      <td>0.043415</td>\n",
       "      <td>0.058873</td>\n",
       "      <td>0.009759</td>\n",
       "      <td>0.021257</td>\n",
       "      <td>0.008021</td>\n",
       "      <td>0.011546</td>\n",
       "      <td>Chm500</td>\n",
       "      <td>5.0</td>\n",
       "    </tr>\n",
       "    <tr>\n",
       "      <th>4871</th>\n",
       "      <td>0.011725</td>\n",
       "      <td>0.009244</td>\n",
       "      <td>0.068675</td>\n",
       "      <td>0.309914</td>\n",
       "      <td>0.176345</td>\n",
       "      <td>0.651669</td>\n",
       "      <td>0.048845</td>\n",
       "      <td>0.124147</td>\n",
       "      <td>0.159036</td>\n",
       "      <td>0.025429</td>\n",
       "      <td>...</td>\n",
       "      <td>0.075476</td>\n",
       "      <td>0.070926</td>\n",
       "      <td>0.043489</td>\n",
       "      <td>0.065800</td>\n",
       "      <td>0.009745</td>\n",
       "      <td>0.019847</td>\n",
       "      <td>0.008080</td>\n",
       "      <td>0.010946</td>\n",
       "      <td>Chm500</td>\n",
       "      <td>5.0</td>\n",
       "    </tr>\n",
       "    <tr>\n",
       "      <th>4872</th>\n",
       "      <td>0.011847</td>\n",
       "      <td>0.009256</td>\n",
       "      <td>0.068976</td>\n",
       "      <td>0.310944</td>\n",
       "      <td>0.176901</td>\n",
       "      <td>0.650243</td>\n",
       "      <td>0.049016</td>\n",
       "      <td>0.124191</td>\n",
       "      <td>0.159807</td>\n",
       "      <td>0.025461</td>\n",
       "      <td>...</td>\n",
       "      <td>0.075471</td>\n",
       "      <td>0.074381</td>\n",
       "      <td>0.043671</td>\n",
       "      <td>0.061440</td>\n",
       "      <td>0.009757</td>\n",
       "      <td>0.018765</td>\n",
       "      <td>0.008091</td>\n",
       "      <td>0.012283</td>\n",
       "      <td>Chm500</td>\n",
       "      <td>5.0</td>\n",
       "    </tr>\n",
       "    <tr>\n",
       "      <th>4873</th>\n",
       "      <td>0.011850</td>\n",
       "      <td>0.009366</td>\n",
       "      <td>0.068885</td>\n",
       "      <td>0.312096</td>\n",
       "      <td>0.176945</td>\n",
       "      <td>0.653654</td>\n",
       "      <td>0.049028</td>\n",
       "      <td>0.124112</td>\n",
       "      <td>0.159752</td>\n",
       "      <td>0.025563</td>\n",
       "      <td>...</td>\n",
       "      <td>0.075688</td>\n",
       "      <td>0.072419</td>\n",
       "      <td>0.043428</td>\n",
       "      <td>0.059043</td>\n",
       "      <td>0.009759</td>\n",
       "      <td>0.020542</td>\n",
       "      <td>0.008093</td>\n",
       "      <td>0.011183</td>\n",
       "      <td>Chm500</td>\n",
       "      <td>5.0</td>\n",
       "    </tr>\n",
       "  </tbody>\n",
       "</table>\n",
       "<p>4251 rows × 38 columns</p>\n",
       "</div>"
      ],
      "text/plain": [
       "             0         1         2         3         4         5         6  \\\n",
       "0     0.009548  0.006474  0.049685  0.202149  0.123593  0.387389  0.041195   \n",
       "1     0.008944  0.006740  0.049408  0.213435  0.125622  0.417335  0.040500   \n",
       "2     0.007399  0.005264  0.044529  0.188678  0.115589  0.379931  0.036340   \n",
       "3     0.008285  0.005911  0.048244  0.200886  0.123995  0.399413  0.038485   \n",
       "4     0.007441  0.005255  0.044043  0.185445  0.113481  0.372787  0.036393   \n",
       "...        ...       ...       ...       ...       ...       ...       ...   \n",
       "4869  0.011690  0.009324  0.068256  0.311768  0.175930  0.650618  0.048589   \n",
       "4870  0.011664  0.009292  0.068482  0.312936  0.176323  0.655573  0.048768   \n",
       "4871  0.011725  0.009244  0.068675  0.309914  0.176345  0.651669  0.048845   \n",
       "4872  0.011847  0.009256  0.068976  0.310944  0.176901  0.650243  0.049016   \n",
       "4873  0.011850  0.009366  0.068885  0.312096  0.176945  0.653654  0.049028   \n",
       "\n",
       "             7         8         9  ...        28        29        30  \\\n",
       "0     0.104526  0.142864  0.021804  ...  0.074371  0.075371  0.041148   \n",
       "1     0.107062  0.146123  0.023081  ...  0.074040  0.071008  0.040300   \n",
       "2     0.098683  0.138609  0.021477  ...  0.070242  0.069050  0.036341   \n",
       "3     0.102645  0.144699  0.022199  ...  0.072781  0.069820  0.038771   \n",
       "4     0.096989  0.136853  0.021068  ...  0.070491  0.069071  0.036398   \n",
       "...        ...       ...       ...  ...       ...       ...       ...   \n",
       "4869  0.123997  0.158752  0.025448  ...  0.075448  0.069925  0.043486   \n",
       "4870  0.123926  0.159101  0.025267  ...  0.075288  0.071531  0.043415   \n",
       "4871  0.124147  0.159036  0.025429  ...  0.075476  0.070926  0.043489   \n",
       "4872  0.124191  0.159807  0.025461  ...  0.075471  0.074381  0.043671   \n",
       "4873  0.124112  0.159752  0.025563  ...  0.075688  0.072419  0.043428   \n",
       "\n",
       "            31        32        33        34        35  Dataset  TOTAL_a  \n",
       "0     0.060607  0.009314  0.018939  0.008189  0.012748     Chm1      8.0  \n",
       "1     0.061966  0.009789  0.019652  0.008480  0.013700     Chm1      8.0  \n",
       "2     0.059691  0.008832  0.019432  0.007714  0.010939     Chm1      8.0  \n",
       "3     0.060423  0.009440  0.019763  0.008134  0.013665     Chm1      8.0  \n",
       "4     0.052239  0.008726  0.019684  0.007567  0.010917     Chm1      8.0  \n",
       "...        ...       ...       ...       ...       ...      ...      ...  \n",
       "4869  0.063455  0.009789  0.019200  0.008056  0.012671   Chm500      5.0  \n",
       "4870  0.058873  0.009759  0.021257  0.008021  0.011546   Chm500      5.0  \n",
       "4871  0.065800  0.009745  0.019847  0.008080  0.010946   Chm500      5.0  \n",
       "4872  0.061440  0.009757  0.018765  0.008091  0.012283   Chm500      5.0  \n",
       "4873  0.059043  0.009759  0.020542  0.008093  0.011183   Chm500      5.0  \n",
       "\n",
       "[4251 rows x 38 columns]"
      ]
     },
     "execution_count": 61,
     "metadata": {},
     "output_type": "execute_result"
    }
   ],
   "source": [
    "spectra"
   ]
  },
  {
   "cell_type": "code",
   "execution_count": 62,
   "metadata": {
    "scrolled": false
   },
   "outputs": [
    {
     "data": {
      "text/plain": [
       "154     0.0\n",
       "1064    3.0\n",
       "473     1.0\n",
       "4184    0.0\n",
       "359     0.0\n",
       "       ... \n",
       "3518    0.0\n",
       "3386    3.0\n",
       "918     2.0\n",
       "4603    0.0\n",
       "238     0.0\n",
       "Name: TOTAL_a, Length: 2975, dtype: float64"
      ]
     },
     "execution_count": 62,
     "metadata": {},
     "output_type": "execute_result"
    }
   ],
   "source": [
    "train_data, test_data, train_labels, test_labels = model_selection.train_test_split(spectra.iloc[:,0:36],\n",
    "                            spectra['TOTAL_a'], test_size = 0.3, random_state = 1)\n",
    "train_labels"
   ]
  },
  {
   "cell_type": "code",
   "execution_count": 63,
   "metadata": {},
   "outputs": [
    {
     "name": "stderr",
     "output_type": "stream",
     "text": [
      "/opt/miniconda3/envs/sphere-py37/lib/python3.7/site-packages/sklearn/linear_model/coordinate_descent.py:475: ConvergenceWarning: Objective did not converge. You might want to increase the number of iterations. Duality gap: 1.2654882042688769, tolerance: 0.9681731092436985\n",
      "  positive)\n"
     ]
    },
    {
     "data": {
      "text/plain": [
       "LassoCV(alphas=None, copy_X=True, cv=5, eps=0.001, fit_intercept=True,\n",
       "        max_iter=1000, n_alphas=100, n_jobs=None, normalize=False,\n",
       "        positive=False, precompute='auto', random_state=None,\n",
       "        selection='cyclic', tol=0.0001, verbose=False)"
      ]
     },
     "execution_count": 63,
     "metadata": {},
     "output_type": "execute_result"
    }
   ],
   "source": [
    "lasso_model = linear_model.LassoCV(cv=5)\n",
    "lasso_model.fit(train_data, train_labels)"
   ]
  },
  {
   "cell_type": "code",
   "execution_count": 64,
   "metadata": {},
   "outputs": [
    {
     "data": {
      "text/plain": [
       "array([0.77379421, 0.02770775, 0.3255362 , ..., 1.10405046, 1.18391748,\n",
       "       0.44735228])"
      ]
     },
     "execution_count": 64,
     "metadata": {},
     "output_type": "execute_result"
    }
   ],
   "source": [
    "lasso_model.predict(test_data)"
   ]
  },
  {
   "cell_type": "code",
   "execution_count": 65,
   "metadata": {},
   "outputs": [
    {
     "data": {
      "text/plain": [
       "4052    0.0\n",
       "1820    0.0\n",
       "222     0.0\n",
       "4563    1.0\n",
       "3618    0.0\n",
       "       ... \n",
       "1605    0.0\n",
       "1077    0.0\n",
       "2188    0.0\n",
       "3703    1.0\n",
       "1911    0.0\n",
       "Name: TOTAL_a, Length: 1276, dtype: float64"
      ]
     },
     "execution_count": 65,
     "metadata": {},
     "output_type": "execute_result"
    }
   ],
   "source": [
    "test_labels"
   ]
  },
  {
   "cell_type": "code",
   "execution_count": 66,
   "metadata": {
    "scrolled": true
   },
   "outputs": [
    {
     "data": {
      "text/plain": [
       "0.5240850226217043"
      ]
     },
     "execution_count": 66,
     "metadata": {},
     "output_type": "execute_result"
    }
   ],
   "source": [
    "lasso_model.score(test_data, test_labels) #R^2"
   ]
  },
  {
   "cell_type": "code",
   "execution_count": 49,
   "metadata": {},
   "outputs": [
    {
     "data": {
      "text/plain": [
       "array([  -0.        ,   -0.        ,   -0.        ,    2.56188998,\n",
       "          3.50587061,   -0.99005496,   -0.        ,    4.74424009,\n",
       "        -22.21639938,    0.        ,   -0.        ,    0.        ,\n",
       "         13.0967487 ,    0.        ,  -18.93210776,    0.        ,\n",
       "          0.        ,   -0.        ,   27.01544041,    0.        ,\n",
       "          0.4103963 ,   -0.        ,  -31.351836  ,    0.        ,\n",
       "        247.27594541,  -87.8619762 , -163.1270843 ,   11.62851993,\n",
       "        112.90930004,   -0.        ,   -0.        ,    5.30404136,\n",
       "          0.        ,   43.9779968 ,    0.        ,   26.73629787])"
      ]
     },
     "execution_count": 49,
     "metadata": {},
     "output_type": "execute_result"
    }
   ],
   "source": [
    "lasso_model.coef_"
   ]
  },
  {
   "cell_type": "code",
   "execution_count": 81,
   "metadata": {},
   "outputs": [
    {
     "data": {
      "text/plain": [
       "array([  -0.        ,   -0.        ,   -0.        ,    2.56188998,\n",
       "          3.50587061,   -0.99005496,   -0.        ,    4.74424009,\n",
       "        -22.21639938,    0.        ,   -0.        ,    0.        ,\n",
       "         13.0967487 ,    0.        ,  -18.93210776,    0.        ,\n",
       "          0.        ,   -0.        ,   27.01544041,    0.        ,\n",
       "          0.4103963 ,   -0.        ,  -31.351836  ,    0.        ,\n",
       "        247.27594541,  -87.8619762 , -163.1270843 ,   11.62851993,\n",
       "        112.90930004,   -0.        ,   -0.        ,    5.30404136,\n",
       "          0.        ,   43.9779968 ,    0.        ,   26.73629787])"
      ]
     },
     "execution_count": 81,
     "metadata": {},
     "output_type": "execute_result"
    }
   ],
   "source": [
    "lasso_model.coef_"
   ]
  },
  {
   "cell_type": "code",
   "execution_count": 68,
   "metadata": {},
   "outputs": [
    {
     "name": "stdout",
     "output_type": "stream",
     "text": [
      "              precision    recall  f1-score   support\n",
      "\n",
      "        -2.0       0.00      0.00      0.00         0\n",
      "        -1.0       0.00      0.00      0.00         0\n",
      "         0.0       0.77      0.37      0.50       606\n",
      "         1.0       0.26      0.63      0.37       267\n",
      "         2.0       0.26      0.29      0.27       142\n",
      "         3.0       0.21      0.24      0.22        91\n",
      "         4.0       0.11      0.04      0.06        70\n",
      "         5.0       0.04      0.03      0.03        39\n",
      "         6.0       0.29      0.11      0.15        19\n",
      "         7.0       0.38      0.16      0.22        19\n",
      "         8.0       1.00      0.25      0.40        12\n",
      "         9.0       0.00      0.00      0.00         0\n",
      "        10.0       0.00      0.00      0.00         4\n",
      "        11.0       0.00      0.00      0.00         5\n",
      "        14.0       0.00      0.00      0.00         2\n",
      "\n",
      "    accuracy                           0.37      1276\n",
      "   macro avg       0.22      0.14      0.15      1276\n",
      "weighted avg       0.49      0.37      0.38      1276\n",
      "\n"
     ]
    },
    {
     "name": "stderr",
     "output_type": "stream",
     "text": [
      "/opt/miniconda3/envs/sphere-py37/lib/python3.7/site-packages/sklearn/metrics/classification.py:1437: UndefinedMetricWarning: Precision and F-score are ill-defined and being set to 0.0 in labels with no predicted samples.\n",
      "  'precision', 'predicted', average, warn_for)\n",
      "/opt/miniconda3/envs/sphere-py37/lib/python3.7/site-packages/sklearn/metrics/classification.py:1439: UndefinedMetricWarning: Recall and F-score are ill-defined and being set to 0.0 in labels with no true samples.\n",
      "  'recall', 'true', average, warn_for)\n"
     ]
    }
   ],
   "source": [
    "preds = lasso_model.predict(test_data).round(0)\n",
    "print(classification_report(test_labels, preds))"
   ]
  },
  {
   "cell_type": "code",
   "execution_count": null,
   "metadata": {},
   "outputs": [],
   "source": []
  },
  {
   "cell_type": "code",
   "execution_count": null,
   "metadata": {},
   "outputs": [],
   "source": []
  },
  {
   "cell_type": "code",
   "execution_count": 69,
   "metadata": {},
   "outputs": [
    {
     "data": {
      "text/plain": [
       "RidgeClassifier(alpha=1.0, class_weight=None, copy_X=True, fit_intercept=True,\n",
       "                max_iter=None, normalize=False, random_state=None,\n",
       "                solver='auto', tol=0.001)"
      ]
     },
     "execution_count": 69,
     "metadata": {},
     "output_type": "execute_result"
    }
   ],
   "source": [
    "ridge_model = linear_model.RidgeClassifier()\n",
    "ridge_model.fit(train_data, train_labels)"
   ]
  },
  {
   "cell_type": "code",
   "execution_count": 70,
   "metadata": {},
   "outputs": [
    {
     "data": {
      "text/html": [
       "<div>\n",
       "<style scoped>\n",
       "    .dataframe tbody tr th:only-of-type {\n",
       "        vertical-align: middle;\n",
       "    }\n",
       "\n",
       "    .dataframe tbody tr th {\n",
       "        vertical-align: top;\n",
       "    }\n",
       "\n",
       "    .dataframe thead th {\n",
       "        text-align: right;\n",
       "    }\n",
       "</style>\n",
       "<table border=\"1\" class=\"dataframe\">\n",
       "  <thead>\n",
       "    <tr style=\"text-align: right;\">\n",
       "      <th></th>\n",
       "      <th>0</th>\n",
       "      <th>1</th>\n",
       "    </tr>\n",
       "  </thead>\n",
       "  <tbody>\n",
       "    <tr>\n",
       "      <th>0</th>\n",
       "      <td>0.0</td>\n",
       "      <td>0.0</td>\n",
       "    </tr>\n",
       "    <tr>\n",
       "      <th>1</th>\n",
       "      <td>0.0</td>\n",
       "      <td>0.0</td>\n",
       "    </tr>\n",
       "    <tr>\n",
       "      <th>2</th>\n",
       "      <td>0.0</td>\n",
       "      <td>0.0</td>\n",
       "    </tr>\n",
       "    <tr>\n",
       "      <th>3</th>\n",
       "      <td>0.0</td>\n",
       "      <td>1.0</td>\n",
       "    </tr>\n",
       "    <tr>\n",
       "      <th>4</th>\n",
       "      <td>0.0</td>\n",
       "      <td>0.0</td>\n",
       "    </tr>\n",
       "    <tr>\n",
       "      <th>5</th>\n",
       "      <td>3.0</td>\n",
       "      <td>1.0</td>\n",
       "    </tr>\n",
       "    <tr>\n",
       "      <th>6</th>\n",
       "      <td>0.0</td>\n",
       "      <td>0.0</td>\n",
       "    </tr>\n",
       "    <tr>\n",
       "      <th>7</th>\n",
       "      <td>0.0</td>\n",
       "      <td>0.0</td>\n",
       "    </tr>\n",
       "    <tr>\n",
       "      <th>8</th>\n",
       "      <td>3.0</td>\n",
       "      <td>2.0</td>\n",
       "    </tr>\n",
       "    <tr>\n",
       "      <th>9</th>\n",
       "      <td>0.0</td>\n",
       "      <td>0.0</td>\n",
       "    </tr>\n",
       "    <tr>\n",
       "      <th>10</th>\n",
       "      <td>0.0</td>\n",
       "      <td>1.0</td>\n",
       "    </tr>\n",
       "    <tr>\n",
       "      <th>11</th>\n",
       "      <td>0.0</td>\n",
       "      <td>0.0</td>\n",
       "    </tr>\n",
       "    <tr>\n",
       "      <th>12</th>\n",
       "      <td>0.0</td>\n",
       "      <td>0.0</td>\n",
       "    </tr>\n",
       "    <tr>\n",
       "      <th>13</th>\n",
       "      <td>2.0</td>\n",
       "      <td>3.0</td>\n",
       "    </tr>\n",
       "    <tr>\n",
       "      <th>14</th>\n",
       "      <td>0.0</td>\n",
       "      <td>0.0</td>\n",
       "    </tr>\n",
       "    <tr>\n",
       "      <th>15</th>\n",
       "      <td>0.0</td>\n",
       "      <td>0.0</td>\n",
       "    </tr>\n",
       "    <tr>\n",
       "      <th>16</th>\n",
       "      <td>0.0</td>\n",
       "      <td>1.0</td>\n",
       "    </tr>\n",
       "    <tr>\n",
       "      <th>17</th>\n",
       "      <td>1.0</td>\n",
       "      <td>6.0</td>\n",
       "    </tr>\n",
       "    <tr>\n",
       "      <th>18</th>\n",
       "      <td>0.0</td>\n",
       "      <td>0.0</td>\n",
       "    </tr>\n",
       "    <tr>\n",
       "      <th>19</th>\n",
       "      <td>0.0</td>\n",
       "      <td>4.0</td>\n",
       "    </tr>\n",
       "  </tbody>\n",
       "</table>\n",
       "</div>"
      ],
      "text/plain": [
       "      0    1\n",
       "0   0.0  0.0\n",
       "1   0.0  0.0\n",
       "2   0.0  0.0\n",
       "3   0.0  1.0\n",
       "4   0.0  0.0\n",
       "5   3.0  1.0\n",
       "6   0.0  0.0\n",
       "7   0.0  0.0\n",
       "8   3.0  2.0\n",
       "9   0.0  0.0\n",
       "10  0.0  1.0\n",
       "11  0.0  0.0\n",
       "12  0.0  0.0\n",
       "13  2.0  3.0\n",
       "14  0.0  0.0\n",
       "15  0.0  0.0\n",
       "16  0.0  1.0\n",
       "17  1.0  6.0\n",
       "18  0.0  0.0\n",
       "19  0.0  4.0"
      ]
     },
     "execution_count": 70,
     "metadata": {},
     "output_type": "execute_result"
    }
   ],
   "source": [
    "pd.DataFrame(zip(ridge_model.predict(test_data), test_labels)).head(20)"
   ]
  },
  {
   "cell_type": "code",
   "execution_count": 71,
   "metadata": {
    "scrolled": false
   },
   "outputs": [
    {
     "data": {
      "text/plain": [
       "0.48589341692789967"
      ]
     },
     "execution_count": 71,
     "metadata": {},
     "output_type": "execute_result"
    }
   ],
   "source": [
    "ridge_model.score(test_data, test_labels) #accuracy"
   ]
  },
  {
   "cell_type": "code",
   "execution_count": 72,
   "metadata": {
    "collapsed": true
   },
   "outputs": [
    {
     "data": {
      "text/plain": [
       "array([[-2.98560820e-01, -5.83622303e-02, -2.53357753e-01,\n",
       "         2.79069836e-01,  1.11895402e+00, -1.83608397e+00,\n",
       "        -1.91862211e-01,  1.71638337e+00,  8.90712463e-01,\n",
       "         3.18107681e-01,  1.54735117e+00,  4.18938323e-03,\n",
       "         2.19807399e+00,  2.14932050e-02,  1.39180810e+00,\n",
       "        -1.09120252e-02,  9.70428462e-16,  3.02385059e-02,\n",
       "        -4.78554508e+00,  1.59420953e-03, -4.78393794e+00,\n",
       "         7.79552757e-02, -5.85321820e-01, -2.58424177e-01,\n",
       "        -1.23288938e+00,  1.14685428e-01, -5.47538899e-01,\n",
       "        -3.44831841e-01, -7.17794280e-01, -6.32357102e-01,\n",
       "        -2.93441390e-01, -8.73792916e-01, -1.13782285e-01,\n",
       "        -7.03812106e-01, -7.39154786e-02, -3.46533187e-01],\n",
       "       [ 1.34794374e-01,  9.26313810e-02,  4.26724604e-01,\n",
       "         1.18015031e+00,  3.28780050e-01, -1.04783621e+00,\n",
       "        -5.80559375e-02, -8.82769450e-01, -2.60785894e-01,\n",
       "        -2.33344181e-01,  8.26491943e-01, -3.98763405e-02,\n",
       "        -3.90709320e-01, -3.34860637e-02,  2.31409954e-01,\n",
       "        -2.92274297e-02,  3.89880561e-16,  2.24837753e-02,\n",
       "        -7.67980143e-01,  1.09111097e-04, -1.69603752e+00,\n",
       "         8.78534871e-02, -4.54348410e-01, -1.67029282e-01,\n",
       "        -5.59754129e-01, -2.13973844e-01, -1.80114823e-01,\n",
       "        -1.45821139e-02,  4.44477705e-02, -6.04232476e-01,\n",
       "         2.82483292e-01, -1.76314318e-01,  3.18701914e-02,\n",
       "        -3.72567261e-02,  1.12448925e-01, -4.23029464e-02],\n",
       "       [ 5.30160830e-02,  4.07442238e-02,  6.17454001e-02,\n",
       "         1.62377031e-01, -3.93415201e-01,  4.11664255e-01,\n",
       "         5.63631883e-02,  8.15389791e-03, -1.53864806e-01,\n",
       "         2.98200360e-02, -5.71946488e-01,  1.41609525e-02,\n",
       "        -1.23150172e+00, -1.17068051e-02,  3.78266132e-01,\n",
       "         9.77835468e-04, -9.00473205e-15,  3.34139209e-02,\n",
       "         8.05038770e-01, -1.84995558e-03,  6.29664451e-01,\n",
       "         8.20234172e-02,  7.14246687e-01,  1.69274014e-01,\n",
       "         4.08945746e-02, -1.54949263e-01, -3.95022223e-03,\n",
       "        -6.35453372e-02,  2.91996712e-01,  1.06654659e-01,\n",
       "         1.80141908e-01,  1.89898797e-01,  2.53614684e-02,\n",
       "         2.26974875e-01, -1.22665532e-03,  6.19852100e-02],\n",
       "       [ 5.44351505e-02,  1.86910131e-02, -3.98979527e-02,\n",
       "        -2.70108977e-01, -7.34764177e-01,  9.24193285e-01,\n",
       "        -1.01780115e-01, -6.60905515e-01, -8.16474252e-01,\n",
       "        -1.25972865e-01, -1.67373785e+00, -1.02957430e-02,\n",
       "        -1.63653562e-01,  1.36497818e-02,  1.02000772e+00,\n",
       "         2.11101403e-03,  7.63450329e-15, -2.61783661e-02,\n",
       "         1.51196175e+00, -1.10300951e-03,  1.24974831e+00,\n",
       "         1.42412838e-01,  6.17795186e-01,  1.42660468e-01,\n",
       "         3.36236489e-01,  3.43454185e-01,  3.43723300e-01,\n",
       "         9.21762944e-01,  2.30753273e-01,  4.49604731e-01,\n",
       "        -5.80723251e-03,  4.31126133e-01,  7.31986444e-02,\n",
       "         3.23844963e-01,  3.03617384e-02,  2.12660518e-01],\n",
       "       [ 6.97339368e-02, -3.20942149e-02, -3.13298229e-03,\n",
       "        -7.05640286e-01, -2.83300456e-02,  6.87217213e-01,\n",
       "         1.85790677e-01, -4.59282030e-02,  8.55105170e-02,\n",
       "        -5.62083343e-03, -1.79583777e-01,  1.63030567e-03,\n",
       "        -7.68952597e-02, -2.23519269e-03, -1.68669698e-01,\n",
       "         6.21748713e-03, -2.87614719e-15, -2.75791226e-02,\n",
       "         1.00972781e+00, -5.41860377e-04,  1.19845339e+00,\n",
       "        -1.15639995e-01,  1.13067800e-01,  5.27921323e-02,\n",
       "         2.64880113e-01, -1.69602884e-01,  1.05629772e-01,\n",
       "        -1.48459684e-01,  1.44191250e-01,  9.97063138e-02,\n",
       "         2.41454819e-02,  1.57327336e-01,  2.68500919e-02,\n",
       "         1.03542810e-01,  1.88272256e-03,  6.30615235e-02],\n",
       "       [ 2.82565418e-02, -3.25631635e-02, -3.44439332e-02,\n",
       "        -6.18172411e-01, -9.31829896e-02,  4.60655869e-01,\n",
       "         1.36580503e-01, -1.63520140e-01,  1.38884930e-01,\n",
       "        -3.48331421e-02,  1.24966484e-01, -2.46522334e-05,\n",
       "        -3.51213832e-01,  1.16967410e-03, -1.08604017e-01,\n",
       "         4.10997915e-03,  1.64700133e-15, -2.68117041e-02,\n",
       "         1.04238570e+00, -2.03440182e-04,  8.21616175e-01,\n",
       "        -1.73592729e-01, -1.94509721e-01, -4.26870395e-02,\n",
       "         2.43879487e-01, -2.11864832e-01,  5.20445365e-02,\n",
       "        -4.36026731e-01, -1.91492871e-02, -2.82159092e-01,\n",
       "        -8.81888727e-02, -1.68058374e-01,  1.27280520e-02,\n",
       "        -4.74609384e-02,  6.85112475e-03, -1.88975496e-02],\n",
       "       [ 4.11936034e-02,  6.61469535e-03, -4.05961744e-02,\n",
       "        -3.34841518e-01, -2.21363630e-01,  4.24218726e-01,\n",
       "         1.85674645e-02, -2.46753743e-01,  2.07871760e-02,\n",
       "        -2.42118999e-02,  5.42684398e-01,  6.24138521e-03,\n",
       "        -4.02533615e-01, -4.18375859e-03, -4.85374629e-01,\n",
       "         3.90283266e-03,  6.59733248e-16, -3.28311299e-02,\n",
       "         8.73034931e-01,  9.31370646e-05,  9.14339255e-01,\n",
       "        -6.94681621e-02,  3.06585875e-01,  5.99521053e-02,\n",
       "         2.58224520e-01, -7.73454896e-02,  8.28196902e-02,\n",
       "        -9.33850387e-02,  5.17600896e-02, -1.52196339e-02,\n",
       "         3.12494849e-02, -8.39518889e-02,  2.18770663e-02,\n",
       "         1.51589843e-01,  8.48297116e-03,  7.24144337e-02],\n",
       "       [-9.06079103e-02, -1.80122090e-02, -6.32795906e-02,\n",
       "         3.93703557e-01,  7.12553956e-02, -1.88042792e-01,\n",
       "        -1.14620057e-01,  1.15660290e-01, -2.09715000e-02,\n",
       "         4.14667840e-02, -4.68826897e-01,  1.47465159e-02,\n",
       "         5.70841389e-01,  1.02417376e-02, -1.23721490e+00,\n",
       "         1.58464329e-02, -7.30452970e-17,  4.96024752e-02,\n",
       "         1.19204050e-01,  2.68929695e-03,  1.08637104e+00,\n",
       "         1.14085241e-01, -2.64211733e-01,  4.01660735e-02,\n",
       "         4.56035438e-01,  5.30367792e-01,  1.25904629e-01,\n",
       "         5.67990107e-01, -2.05414873e-02,  1.14070498e+00,\n",
       "        -9.37811170e-02,  7.86665575e-01, -5.50067658e-02,\n",
       "         3.61511049e-02, -6.34571970e-02,  2.09347544e-02],\n",
       "       [ 1.82194239e-02, -1.62781356e-02, -3.31505736e-02,\n",
       "        -1.42966786e-01, -4.44819525e-02,  1.67879366e-01,\n",
       "         8.62224845e-02,  1.05381669e-01,  1.53001595e-01,\n",
       "         2.09438581e-02, -3.45423183e-02,  4.88714405e-03,\n",
       "        -1.51205577e-01,  7.94428108e-04, -5.17211179e-01,\n",
       "         3.00518024e-03, -1.20553458e-15, -1.37788554e-02,\n",
       "         3.87040789e-01, -8.15260728e-04,  5.15455298e-01,\n",
       "        -7.34018795e-02, -1.46580193e-01, -2.22599419e-03,\n",
       "         1.49943415e-01, -8.14596395e-02,  2.04104412e-02,\n",
       "        -1.92820459e-01, -4.84615916e-03, -1.02347031e-01,\n",
       "        -2.32219476e-02, -9.70990118e-02, -1.05478606e-02,\n",
       "        -4.74539767e-02, -5.89047542e-03, -1.88736879e-02],\n",
       "       [-2.06688236e-02, -5.15033766e-03, -4.73784077e-02,\n",
       "        -2.73898784e-02, -5.16942688e-02,  5.87164595e-02,\n",
       "        -1.59335835e-02,  6.64460257e-02, -5.27908316e-03,\n",
       "         1.94572382e-02, -4.97883376e-02,  3.53850514e-03,\n",
       "        -3.87391511e-03,  2.26111262e-03, -5.00348013e-01,\n",
       "         4.59382397e-04,  1.85457362e-16, -5.83274284e-03,\n",
       "        -4.10200195e-01,  1.08621778e-04, -2.11536484e-01,\n",
       "        -5.10031527e-02, -1.50199425e-01, -1.39837293e-02,\n",
       "        -4.07082759e-02, -7.46216791e-02, -2.62470303e-02,\n",
       "        -1.67977429e-01, -1.13334434e-02, -2.11869766e-01,\n",
       "        -1.18478061e-02, -1.74779603e-01, -1.42503332e-02,\n",
       "        -2.43958659e-02, -1.50782386e-02, -1.06450410e-02],\n",
       "       [ 8.40313986e-03,  1.39251577e-03,  2.08164670e-02,\n",
       "         5.29530039e-02,  3.48787135e-02, -4.42023046e-02,\n",
       "         5.95574371e-04, -9.33361331e-03, -2.44108518e-02,\n",
       "        -5.13545338e-03, -4.08280752e-02,  4.73760417e-04,\n",
       "         1.44882577e-02,  2.05919064e-03, -1.71564717e-02,\n",
       "         2.50397505e-03,  7.54687346e-16, -1.96713951e-03,\n",
       "         1.53090579e-01, -4.99951066e-05,  2.09269873e-01,\n",
       "        -1.96302612e-02,  2.39384933e-02,  1.61107614e-02,\n",
       "         6.53961982e-02, -1.22255703e-02,  1.98074204e-02,\n",
       "        -4.32868842e-02,  9.31072698e-05,  1.29592689e-02,\n",
       "        -3.24229284e-03, -2.25434436e-02,  5.34284445e-05,\n",
       "         3.26012449e-03, -1.29385064e-03,  1.46114542e-03],\n",
       "       [ 1.78530087e-03,  2.38646201e-03,  5.95089635e-03,\n",
       "         3.08661202e-02,  1.33640885e-02, -1.83799010e-02,\n",
       "        -1.86798750e-03, -2.81459234e-03, -7.11029492e-03,\n",
       "        -6.77222273e-04, -2.22402530e-02,  3.28783663e-04,\n",
       "        -1.18168332e-02, -5.73098544e-05,  1.30870022e-02,\n",
       "         1.00533593e-03,  9.17767513e-16, -7.59616888e-04,\n",
       "         6.22410379e-02, -3.08549320e-05,  6.65941429e-02,\n",
       "        -1.59407950e-03,  1.95372614e-02,  3.39466831e-03,\n",
       "         1.78615494e-02,  7.53579591e-03,  7.51118545e-03,\n",
       "         1.51624680e-02,  1.04224551e-02,  3.85551517e-02,\n",
       "         1.51049147e-03,  3.15217132e-02,  1.64830206e-03,\n",
       "         1.50158921e-02,  8.34413597e-04,  4.73482622e-03]])"
      ]
     },
     "execution_count": 72,
     "metadata": {},
     "output_type": "execute_result"
    }
   ],
   "source": [
    "ridge_model.coef_"
   ]
  },
  {
   "cell_type": "code",
   "execution_count": 73,
   "metadata": {},
   "outputs": [
    {
     "name": "stdout",
     "output_type": "stream",
     "text": [
      "              precision    recall  f1-score   support\n",
      "\n",
      "         0.0       0.52      1.00      0.68       606\n",
      "         1.0       0.00      0.00      0.00       267\n",
      "         2.0       0.07      0.02      0.03       142\n",
      "         3.0       0.21      0.11      0.14        91\n",
      "         4.0       0.00      0.00      0.00        70\n",
      "         5.0       0.00      0.00      0.00        39\n",
      "         6.0       0.00      0.00      0.00        19\n",
      "         7.0       0.33      0.11      0.16        19\n",
      "         8.0       0.00      0.00      0.00        12\n",
      "        10.0       0.00      0.00      0.00         4\n",
      "        11.0       0.00      0.00      0.00         5\n",
      "        14.0       0.00      0.00      0.00         2\n",
      "\n",
      "    accuracy                           0.49      1276\n",
      "   macro avg       0.09      0.10      0.08      1276\n",
      "weighted avg       0.27      0.49      0.34      1276\n",
      "\n"
     ]
    },
    {
     "name": "stderr",
     "output_type": "stream",
     "text": [
      "/opt/miniconda3/envs/sphere-py37/lib/python3.7/site-packages/sklearn/metrics/classification.py:1437: UndefinedMetricWarning: Precision and F-score are ill-defined and being set to 0.0 in labels with no predicted samples.\n",
      "  'precision', 'predicted', average, warn_for)\n"
     ]
    }
   ],
   "source": [
    "preds = ridge_model.predict(test_data)\n",
    "print(classification_report(test_labels, preds))"
   ]
  },
  {
   "cell_type": "code",
   "execution_count": 74,
   "metadata": {
    "scrolled": true
   },
   "outputs": [
    {
     "data": {
      "text/plain": [
       "LinearSVC(C=1.0, class_weight=None, dual=True, fit_intercept=True,\n",
       "          intercept_scaling=1, loss='squared_hinge', max_iter=2000,\n",
       "          multi_class='ovr', penalty='l2', random_state=None, tol=0.0001,\n",
       "          verbose=0)"
      ]
     },
     "execution_count": 74,
     "metadata": {},
     "output_type": "execute_result"
    }
   ],
   "source": [
    "svm_class_model = LinearSVC(penalty='l2',  multi_class='ovr', max_iter=2000) \n",
    "svm_class_model.fit(train_data, train_labels)"
   ]
  },
  {
   "cell_type": "code",
   "execution_count": 75,
   "metadata": {},
   "outputs": [
    {
     "data": {
      "text/plain": [
       "0.4835423197492163"
      ]
     },
     "execution_count": 75,
     "metadata": {},
     "output_type": "execute_result"
    }
   ],
   "source": [
    "svm_class_model.score(test_data, test_labels) #accuracy"
   ]
  },
  {
   "cell_type": "code",
   "execution_count": 53,
   "metadata": {
    "collapsed": true
   },
   "outputs": [
    {
     "data": {
      "text/plain": [
       "array([[-3.81051609e-01, -4.26328523e-02, -3.62258717e-01,\n",
       "        -1.86955202e-01,  1.27604128e+00, -1.89518216e+00,\n",
       "        -2.34199804e-01,  2.59848252e+00,  1.02981338e+00,\n",
       "         4.97044264e-01,  1.17821608e+00, -3.00262180e-03,\n",
       "         1.39460292e+00,  4.17144000e-02,  3.53365600e+00,\n",
       "        -2.46528566e-02, -2.81378825e-01, -9.58156324e-03,\n",
       "        -6.83896306e+00, -1.32592488e-03, -7.75890363e+00,\n",
       "         6.58793893e-02,  9.02139619e-02, -2.69745878e-01,\n",
       "        -2.24661629e+00, -2.08117284e-01, -8.57714518e-01,\n",
       "        -8.80110828e-01, -1.06564141e+00, -1.68662732e+00,\n",
       "        -4.16705023e-01, -1.96198693e+00, -1.05390108e-01,\n",
       "        -9.59468035e-01, -7.78518926e-02, -4.28699287e-01],\n",
       "       [ 2.87085311e-01,  1.51104398e-01,  6.99167908e-01,\n",
       "         1.49195833e+00,  3.55153207e-01, -1.18139989e+00,\n",
       "        -1.27301524e-02, -1.66389147e+00, -4.77111163e-01,\n",
       "        -4.36125163e-01,  1.25634702e+00, -7.36580911e-02,\n",
       "        -7.85413412e-01, -6.23685036e-02,  2.81288457e-01,\n",
       "        -5.38381037e-02, -8.46231466e-02,  4.95970933e-02,\n",
       "        -8.04538255e-01,  3.25452920e-04, -2.31998756e+00,\n",
       "         1.95297448e-01, -7.72589042e-01, -2.75985128e-01,\n",
       "        -8.26281174e-01, -2.96554371e-01, -2.15434939e-01,\n",
       "         1.46486584e-01,  1.20938216e-01, -9.06893920e-01,\n",
       "         5.56083105e-01, -1.50447154e-01,  6.30685098e-02,\n",
       "        -1.41397997e-02,  2.14442879e-01, -5.25715352e-02],\n",
       "       [ 7.60360101e-02,  6.34205322e-02,  8.47932209e-02,\n",
       "         2.44282072e-01, -6.37542055e-01,  4.31565865e-01,\n",
       "         1.09019821e-01,  1.49973541e-01, -8.72164243e-02,\n",
       "         8.56402991e-02, -5.05782333e-01,  2.99003055e-02,\n",
       "        -1.64112070e+00, -2.32002145e-02,  6.07388038e-01,\n",
       "        -3.46331459e-04, -3.76206791e-01,  6.81882040e-02,\n",
       "         1.02347021e+00, -3.26479598e-03,  7.07091108e-01,\n",
       "         1.37202415e-01,  1.20039678e+00,  2.84008768e-01,\n",
       "        -4.29089477e-02, -3.61251075e-01, -8.36615737e-02,\n",
       "        -2.58956086e-01,  5.03961666e-01,  4.53383619e-02,\n",
       "         3.15947050e-01,  2.33693368e-01,  3.58697870e-02,\n",
       "         3.62332436e-01, -1.19785630e-02,  6.91152096e-02],\n",
       "       [ 7.83347717e-02,  2.45912322e-02, -6.45385572e-02,\n",
       "        -4.43743376e-01, -1.14813991e+00,  1.33902154e+00,\n",
       "        -1.63704432e-01, -9.74407005e-01, -1.06657682e+00,\n",
       "        -1.85855740e-01, -1.93933997e+00, -1.61180590e-02,\n",
       "        -1.09455495e-02,  2.79512800e-02,  1.32917662e+00,\n",
       "         1.57913708e-04, -8.55925770e-01, -5.46020298e-02,\n",
       "         1.78110570e+00, -1.84217267e-03,  1.53457586e+00,\n",
       "         2.20620892e-01,  7.86849546e-01,  2.02185395e-01,\n",
       "         3.98256692e-01,  4.60222947e-01,  5.28200199e-01,\n",
       "         1.47725628e+00,  3.70810035e-01,  4.69443418e-01,\n",
       "        -4.82329107e-02,  5.15732533e-01,  1.31464197e-01,\n",
       "         4.91667369e-01,  5.31155762e-02,  3.33674454e-01],\n",
       "       [ 1.08401023e-01, -4.85520965e-02,  6.07979107e-02,\n",
       "        -9.38318990e-01,  1.06277390e-01,  8.18959670e-01,\n",
       "         2.83739482e-01, -1.04137261e-01,  1.05961528e-01,\n",
       "        -2.33091671e-02, -2.19218150e-01, -1.01929891e-03,\n",
       "        -2.85789051e-02, -6.06542246e-03, -2.15406914e-01,\n",
       "         9.92866064e-03, -6.14314716e-01, -5.58449121e-02,\n",
       "         1.33036745e+00, -9.59750367e-04,  1.58981750e+00,\n",
       "        -2.31411826e-01,  1.33577204e-01,  6.85742025e-02,\n",
       "         3.19799930e-01, -3.95133407e-01,  1.07245443e-01,\n",
       "        -3.57391309e-01,  2.35031798e-01,  6.35321784e-02,\n",
       "         2.08330107e-02,  2.15224855e-01,  5.00796819e-02,\n",
       "         1.55721442e-01, -5.73402248e-04,  9.67929806e-02],\n",
       "       [ 3.15965657e-02, -6.15792766e-02, -4.33253852e-02,\n",
       "        -1.02973633e+00, -7.60072498e-02,  6.85999989e-01,\n",
       "         2.03832774e-01, -3.00277984e-01,  1.98759089e-01,\n",
       "        -7.69525446e-02,  2.57169953e-01, -4.76319707e-03,\n",
       "        -5.37755878e-01,  1.54971856e-03, -1.03454119e-01,\n",
       "         6.37348700e-03, -5.03170530e-01, -5.17137894e-02,\n",
       "         1.45883322e+00, -1.68584977e-04,  1.08835296e+00,\n",
       "        -3.03389502e-01, -3.91885974e-01, -1.01653343e-01,\n",
       "         3.31474155e-01, -4.18432965e-01,  4.11639818e-02,\n",
       "        -7.84787978e-01, -4.65378081e-02, -5.22979556e-01,\n",
       "        -1.75010413e-01, -2.78236502e-01,  2.49134458e-02,\n",
       "        -1.15833826e-01,  8.80656720e-03, -4.78709628e-02],\n",
       "       [ 5.94548043e-02,  1.89026597e-02, -4.77562499e-02,\n",
       "        -4.61294205e-01, -3.27928008e-01,  5.75278083e-01,\n",
       "        -1.53557963e-02, -4.38852800e-01, -9.25484961e-04,\n",
       "        -5.20105981e-02,  1.08839028e+00,  3.76483308e-03,\n",
       "        -8.41541351e-01, -1.11364333e-02, -6.46051281e-01,\n",
       "         4.03434244e-03, -5.38973197e-01, -6.96601662e-02,\n",
       "         1.38113920e+00,  1.16490934e-04,  1.30249591e+00,\n",
       "        -1.18749433e-01,  6.23555524e-01,  1.10196211e-01,\n",
       "         3.70141320e-01, -1.69518432e-01,  1.03127606e-01,\n",
       "        -1.67162402e-01,  8.20873397e-02, -8.30337929e-02,\n",
       "         4.39264046e-02, -1.99690108e-01,  5.02460119e-02,\n",
       "         2.93279519e-01,  1.84064882e-02,  1.39773447e-01],\n",
       "       [-1.16616843e-01, -5.82340875e-02, -2.42625781e-01,\n",
       "        -2.58452924e-01, -2.93081712e-01, -4.09121572e-01,\n",
       "        -1.01532055e-01,  1.08427198e-01,  1.20976714e-01,\n",
       "         7.07840969e-02, -4.97618871e-01,  2.62479377e-02,\n",
       "         1.05525280e+00,  1.75738852e-02, -1.88763549e+00,\n",
       "         2.43290502e-02, -3.00014549e-01,  7.58764923e-02,\n",
       "         4.55716330e-01,  3.91752583e-03,  1.99500891e+00,\n",
       "         1.09995657e-01, -4.55958466e-01,  6.50789864e-02,\n",
       "         7.72866157e-01,  7.11081872e-01,  2.04526633e-01,\n",
       "         6.54943313e-01, -6.53673644e-02,  1.59903709e+00,\n",
       "        -1.74224992e-01,  1.06800017e+00, -8.06767586e-02,\n",
       "         5.37462277e-02, -8.97513570e-02,  3.22253630e-02],\n",
       "       [ 4.46586624e-02, -2.64360715e-02, -4.22282850e-02,\n",
       "        -2.72144043e-01, -1.11841295e-01,  3.64586162e-01,\n",
       "         1.82796544e-01,  2.21893918e-01,  2.87891536e-01,\n",
       "         3.04586231e-02, -1.59852239e-01, -1.00191030e-03,\n",
       "        -5.98363795e-01, -3.43569607e-03, -7.24151919e-01,\n",
       "         4.15418571e-04, -2.65528469e-01, -4.16239939e-02,\n",
       "         9.38313948e-01, -2.22939761e-03,  7.82642406e-01,\n",
       "        -1.67834870e-01, -2.24354564e-01, -3.14254454e-03,\n",
       "         2.15671878e-01, -2.31035832e-01,  1.31169922e-02,\n",
       "        -4.57633922e-01, -9.94946145e-03, -3.57516292e-01,\n",
       "        -5.68592845e-02, -3.02177578e-01, -4.74288088e-03,\n",
       "        -7.18496938e-02,  2.81347967e-03, -2.01914421e-02],\n",
       "       [-2.09268282e-02, -5.17713198e-03, -5.28535067e-02,\n",
       "         3.50539483e-02, -6.64791734e-02,  6.77216822e-02,\n",
       "        -3.13768572e-03,  9.12259458e-02, -3.03380231e-02,\n",
       "         1.67455348e-02, -2.55972194e-01, -3.09297387e-03,\n",
       "        -5.14077494e-01, -2.22204158e-03, -1.00841134e+00,\n",
       "        -4.28167059e-03,  6.02892657e-02, -2.91530566e-02,\n",
       "        -5.23859703e-01, -8.22517581e-04, -6.03661531e-01,\n",
       "        -1.72645184e-01, -2.77022566e-01, -4.02301979e-02,\n",
       "        -1.43889556e-01, -2.80948726e-01, -8.19877162e-02,\n",
       "        -5.63846640e-01, -6.60922421e-02, -7.49167052e-01,\n",
       "        -3.75015305e-02, -6.12890391e-01, -1.87838986e-02,\n",
       "        -4.68269187e-02, -1.07068593e-02, -1.71325796e-02],\n",
       "       [ 1.57179778e-02, -4.86829802e-03,  9.22665502e-03,\n",
       "        -7.19705910e-02, -1.84775000e-03, -7.98537922e-02,\n",
       "         1.07762562e-02, -3.15131131e-02, -3.02947501e-02,\n",
       "        -9.89869831e-03, -6.25117191e-02,  1.02437040e-03,\n",
       "         5.03469715e-02,  4.44892780e-03, -8.79600078e-02,\n",
       "         4.33297206e-03, -5.00724279e-01, -5.94843453e-03,\n",
       "         2.71625579e-01, -1.30609533e-04,  3.68503085e-01,\n",
       "        -5.98536692e-02,  1.57831362e-02,  2.42244672e-02,\n",
       "         1.15925676e-01, -6.45894665e-02,  2.75071136e-02,\n",
       "        -1.52754770e-01, -3.81870194e-02, -5.09837760e-02,\n",
       "        -2.99798098e-02, -1.07733265e-01, -1.55341237e-03,\n",
       "        -9.31219574e-03, -4.06694404e-03, -6.64465801e-03],\n",
       "       [ 4.01733503e-03,  2.02844531e-03, -3.31424820e-03,\n",
       "        -2.18974807e-02, -2.22328280e-02, -6.28567665e-02,\n",
       "        -1.75962392e-03, -2.47591718e-02, -1.36730766e-02,\n",
       "        -3.30599861e-03, -4.46322759e-02,  5.99510581e-04,\n",
       "        -3.79705462e-02,  6.65583319e-05, -1.51649801e-02,\n",
       "         1.64791054e-03, -4.94806120e-01, -3.68652093e-03,\n",
       "         1.05193200e-01, -1.47507791e-04,  1.03698266e-01,\n",
       "        -2.22655952e-02,  2.42164186e-02,  3.66152984e-03,\n",
       "         2.68514218e-02, -2.14829911e-02,  5.66550392e-03,\n",
       "        -2.81069659e-02, -1.32822257e-02,  1.33682622e-02,\n",
       "        -1.74926411e-02,  9.70591485e-03,  2.92279140e-03,\n",
       "         2.23321956e-02,  1.10573741e-03,  5.06013953e-03]])"
      ]
     },
     "execution_count": 53,
     "metadata": {},
     "output_type": "execute_result"
    }
   ],
   "source": [
    "svm_class_model.coef_"
   ]
  },
  {
   "cell_type": "code",
   "execution_count": 77,
   "metadata": {},
   "outputs": [
    {
     "name": "stdout",
     "output_type": "stream",
     "text": [
      "              precision    recall  f1-score   support\n",
      "\n",
      "         0.0       0.54      0.99      0.70       606\n",
      "         1.0       0.00      0.00      0.00       267\n",
      "         2.0       0.05      0.01      0.02       142\n",
      "         3.0       0.13      0.10      0.11        91\n",
      "         4.0       0.00      0.00      0.00        70\n",
      "         5.0       0.00      0.00      0.00        39\n",
      "         6.0       0.00      0.00      0.00        19\n",
      "         7.0       0.33      0.21      0.26        19\n",
      "         8.0       0.00      0.00      0.00        12\n",
      "        10.0       0.00      0.00      0.00         4\n",
      "        11.0       0.00      0.00      0.00         5\n",
      "        14.0       0.00      0.00      0.00         2\n",
      "\n",
      "    accuracy                           0.48      1276\n",
      "   macro avg       0.09      0.11      0.09      1276\n",
      "weighted avg       0.27      0.48      0.34      1276\n",
      "\n"
     ]
    },
    {
     "name": "stderr",
     "output_type": "stream",
     "text": [
      "/opt/miniconda3/envs/sphere-py37/lib/python3.7/site-packages/sklearn/metrics/classification.py:1437: UndefinedMetricWarning: Precision and F-score are ill-defined and being set to 0.0 in labels with no predicted samples.\n",
      "  'precision', 'predicted', average, warn_for)\n"
     ]
    }
   ],
   "source": [
    "preds = svm_class_model.predict(test_data)\n",
    "print(classification_report(test_labels, preds))"
   ]
  },
  {
   "cell_type": "code",
   "execution_count": null,
   "metadata": {},
   "outputs": [],
   "source": []
  }
 ],
 "metadata": {
  "kernelspec": {
   "display_name": "Python 3",
   "language": "python",
   "name": "python3"
  },
  "language_info": {
   "codemirror_mode": {
    "name": "ipython",
    "version": 3
   },
   "file_extension": ".py",
   "mimetype": "text/x-python",
   "name": "python",
   "nbconvert_exporter": "python",
   "pygments_lexer": "ipython3",
   "version": "3.7.5"
  }
 },
 "nbformat": 4,
 "nbformat_minor": 2
}
