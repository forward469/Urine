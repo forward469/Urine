{
 "cells": [
  {
   "cell_type": "markdown",
   "metadata": {},
   "source": [
    "# ToDo List\n",
    "\n",
    "<div class = \"alert alert-block alert-info\">\n",
    "    \n",
    "* Установить библиотеку [sklearn-rvm](https://pypi.org/project/sklearn-rvm/)\n",
    "\n",
    "* Можно посмотреть [примеры](https://sklearn-rvm.readthedocs.io/en/latest/auto_examples/index.html)\n",
    "\n",
    "* Проверить что все работает запустив этот [пример](https://sklearn-rvm.readthedocs.io/en/latest/auto_examples/plot_rvm_for_classification.html#sphx-glr-auto-examples-plot-rvm-for-classification-py)\n",
    "\n",
    "</div>"
   ]
  },
  {
   "cell_type": "markdown",
   "metadata": {},
   "source": [
    "## Загрузить данные"
   ]
  },
  {
   "cell_type": "markdown",
   "metadata": {},
   "source": [
    "## Проверить качество модели"
   ]
  },
  {
   "cell_type": "markdown",
   "metadata": {},
   "source": [
    "### Кросс-валидация : RepeatedStratifiedKFold\n",
    "\n",
    "> Делаешь кросс-валидацию на __7 фолдах с 5 повторениями__, выводишь средние и дисперсии метрик на этих повторениях (не на фолдах!). Метрики __specificity__, __sensitivity__ и их __f-score__ (гармоническое среднее)"
   ]
  },
  {
   "cell_type": "code",
   "execution_count": 1,
   "metadata": {},
   "outputs": [],
   "source": [
    "from sklearn.model_selection import RepeatedStratifiedKFold"
   ]
  },
  {
   "cell_type": "markdown",
   "metadata": {},
   "source": [
    "### Подбор порога предсказания *(clf.predict_proba(X) > thrs)*\n",
    "\n",
    "> Порог варьируется от 0 до 1.\n",
    "* Можно сначала на грубой сетке с шагом __0.05__ в диапазоне __[0, 1]__\n",
    "* Потом с шагом __0.005__ в диапазоне __[0, 0.2]__"
   ]
  },
  {
   "cell_type": "markdown",
   "metadata": {},
   "source": [
    "### Строишь красивые графики, профит"
   ]
  },
  {
   "cell_type": "code",
   "execution_count": null,
   "metadata": {},
   "outputs": [],
   "source": []
  }
 ],
 "metadata": {
  "kernelspec": {
   "display_name": "Python 3",
   "language": "python",
   "name": "python3"
  },
  "language_info": {
   "codemirror_mode": {
    "name": "ipython",
    "version": 3
   },
   "file_extension": ".py",
   "mimetype": "text/x-python",
   "name": "python",
   "nbconvert_exporter": "python",
   "pygments_lexer": "ipython3",
   "version": "3.7.5"
  }
 },
 "nbformat": 4,
 "nbformat_minor": 2
}
