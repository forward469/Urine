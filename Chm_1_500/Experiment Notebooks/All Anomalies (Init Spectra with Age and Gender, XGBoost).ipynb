{
 "cells": [
  {
   "cell_type": "code",
   "execution_count": 9,
   "metadata": {},
   "outputs": [],
   "source": [
    "%config InlineBackend.figure_format='retina' ## На маке графики выглядят четче"
   ]
  },
  {
   "cell_type": "code",
   "execution_count": 10,
   "metadata": {},
   "outputs": [],
   "source": [
    "from copy import deepcopy\n",
    "\n",
    "# Для работы с табличными данными\n",
    "import pandas as pd\n",
    "import numpy as np\n",
    "\n",
    "# Подрубаем рисовалки\n",
    "import matplotlib.pyplot as plt\n",
    "import seaborn as sns\n",
    "\n",
    "# Необходимые метрики и препроцессинг\n",
    "from sklearn.preprocessing import MinMaxScaler\n",
    "from sklearn.metrics import classification_report, accuracy_score, f1_score, precision_score,\\\n",
    "                            recall_score, roc_auc_score, roc_curve, cohen_kappa_score, fbeta_score\n",
    "\n",
    "# Модель градиентного бустинга\n",
    "from xgboost import XGBClassifier\n",
    "\n",
    "pd.set_option('display.max_rows', 500)\n",
    "pd.set_option('display.max_columns', 500)\n",
    "pd.set_option('display.width', 1000)\n",
    "from sklearn.model_selection import train_test_split, KFold, StratifiedKFold, GroupKFold, cross_val_score\n",
    "\n",
    "# Подрубаем progress bar\n",
    "from tqdm.notebook import tqdm\n",
    "\n",
    "# Отрубаем warning\n",
    "import warnings\n",
    "warnings.filterwarnings('ignore')"
   ]
  },
  {
   "cell_type": "code",
   "execution_count": 11,
   "metadata": {},
   "outputs": [],
   "source": [
    "# Для интерактивных графиков (в самом конце)\n",
    "from ipywidgets import interact, interactive, fixed, interact_manual\n",
    "import ipywidgets as widgets"
   ]
  },
  {
   "cell_type": "markdown",
   "metadata": {},
   "source": [
    "# Загрузим данные"
   ]
  },
  {
   "cell_type": "code",
   "execution_count": 12,
   "metadata": {},
   "outputs": [],
   "source": [
    "samples = pd.read_excel(u'20.01.23 список образцов Моча.xlsx', header=2)\n",
    "samples.dropna(subset=['Gender'], inplace=True)\n",
    "\n",
    "samples.fillna(0, inplace=True)\n",
    "samples.reset_index(drop=True, inplace=True)"
   ]
  },
  {
   "cell_type": "code",
   "execution_count": 13,
   "metadata": {
    "scrolled": true
   },
   "outputs": [],
   "source": [
    "spectra1 = pd.read_csv('urine_chm001-250.csv')\n",
    "spectra2 = pd.read_csv('urine_chm251-500.csv')\n",
    "spectra_init = pd.concat([spectra1, spectra2], axis=0)\n",
    "del(spectra1, spectra2)\n",
    "\n",
    "\n",
    "spectra = spectra_init.filter(regex='^Ch')\n",
    "## Чтобы использовать Initial Spectra, ничего не раскоментировать\n",
    "\n",
    "\n",
    "## Чтобы использовать Sum of LED Spectra, раскоментить блок ниже\n",
    "#######################################################################\n",
    "# spectra = pd.DataFrame(spectra.values[:,::2]+spectra.values[:,1::2],\n",
    "#                        columns=['Ch_'+str(i) for i in range(18)])\n",
    "#######################################################################\n",
    "\n",
    "\n",
    "## Чтобы использовать Harmonic Average Spectra, раскоментить блок ниже\n",
    "#######################################################################\n",
    "def TrigAVG(spec1, spec2, beta=1):\n",
    "    return (1+beta**2)*spec1*spec2/(beta**2*spec1 + spec2)\n",
    "\n",
    "spec1 = spectra.iloc[:,::2].values\n",
    "spec2 = spectra.iloc[:,1::2].values\n",
    "spectra = pd.DataFrame(TrigAVG(spec1, spec2, beta=0.2),\n",
    "                       columns=['Ch_{}'.format(i) for i in range(18)])\n",
    "#######################################################################\n",
    "\n",
    "\n",
    "frame_lol = samples[['Gender','Age','Dataset']+list(samples.filter(regex=r'_a$').columns)]\n",
    "spectra['Dataset'] = spectra_init.Dataset.values\n",
    "spectra = pd.merge(left=spectra, right=frame_lol, how='left', on='Dataset')\n",
    "# spectra.dropna(subset=samples.filter(regex=r'_a$').columns, inplace=True)\n",
    "spectra.dropna(how='any', inplace=True)\n",
    "# spectra = spectra.reindex(index=range(spectra.shape[0]))\n",
    "spectra = pd.DataFrame(spectra.values, columns=spectra.columns)"
   ]
  },
  {
   "cell_type": "code",
   "execution_count": 14,
   "metadata": {},
   "outputs": [],
   "source": [
    "Anom_Names = spectra.filter(regex='_a$').columns[:-1]"
   ]
  },
  {
   "cell_type": "markdown",
   "metadata": {},
   "source": [
    "##  Добавим к исходным спектральным признакам Пол и Возраст"
   ]
  },
  {
   "cell_type": "code",
   "execution_count": 15,
   "metadata": {},
   "outputs": [],
   "source": [
    "from sklearn.preprocessing import OneHotEncoder\n",
    "Gender_emb = pd.DataFrame(OneHotEncoder().fit_transform(spectra.Gender.values.reshape(-1,1)).toarray(), \n",
    "                          columns=['Female', 'Male'])\n",
    "Age_emb = pd.DataFrame(spectra.loc[:,'Age'])"
   ]
  },
  {
   "cell_type": "code",
   "execution_count": 16,
   "metadata": {},
   "outputs": [],
   "source": [
    "## Возвращает сразу все стандартные метрики\n",
    "\n",
    "def return_metrics(y_true, y_pred, y_prob):\n",
    "    prec = precision_score(y_true, y_pred)\n",
    "    rec = recall_score(y_true, y_pred)\n",
    "    f_score = fbeta_score(y_true, y_pred, beta=0.7)\n",
    "    try:\n",
    "        roc_auc = roc_auc_score(y_true, y_prob)\n",
    "    except ValueError: \n",
    "        roc_auc = -1\n",
    "    \n",
    "    return(prec, rec, f_score, roc_auc)"
   ]
  },
  {
   "cell_type": "markdown",
   "metadata": {},
   "source": [
    "# Настройка вероятностей\n",
    "**Для начала подберем набор гиперпараметров \n",
    "(для начала только количество и глубину деревьев) \n",
    "максимизируя ROC-AUC.**\n",
    "\n",
    "**Цель : хотим получить алгоритмом наиболее \"различимые\"\n",
    "оценки вероятности принадлежности обьекта классу \"Болен\"**\n",
    "\n",
    "**!WARNING!** На моем скромном ноуте считалось это довольно долго (порядка 1-2 часов)"
   ]
  },
  {
   "cell_type": "code",
   "execution_count": 24,
   "metadata": {
    "scrolled": true
   },
   "outputs": [
    {
     "name": "stdout",
     "output_type": "stream",
     "text": [
      "Anomaly: Density_a\n"
     ]
    },
    {
     "data": {
      "application/vnd.jupyter.widget-view+json": {
       "model_id": "62c1d44fbffb46458a081a6f6b857af0",
       "version_major": 2,
       "version_minor": 0
      },
      "text/plain": [
       "HBox(children=(FloatProgress(value=0.0, max=54.0), HTML(value='')))"
      ]
     },
     "metadata": {},
     "output_type": "display_data"
    },
    {
     "name": "stdout",
     "output_type": "stream",
     "text": [
      "0.7644 0.076 {'n_estimators': 20, 'max_depth': 2, 'n_jobs': 6}\n",
      "\n",
      "Anomaly: pH_a\n"
     ]
    },
    {
     "data": {
      "application/vnd.jupyter.widget-view+json": {
       "model_id": "6a75688709e04de5b203d1a64da5c300",
       "version_major": 2,
       "version_minor": 0
      },
      "text/plain": [
       "HBox(children=(FloatProgress(value=0.0, max=54.0), HTML(value='')))"
      ]
     },
     "metadata": {},
     "output_type": "display_data"
    },
    {
     "name": "stdout",
     "output_type": "stream",
     "text": [
      "0.5468 0.1929 {'n_estimators': 20, 'max_depth': 2, 'n_jobs': 6}\n",
      "0.6148 0.0935 {'n_estimators': 20, 'max_depth': 3, 'n_jobs': 6}\n",
      "0.6498 0.0735 {'n_estimators': 20, 'max_depth': 4, 'n_jobs': 6}\n",
      "0.6783 0.0649 {'n_estimators': 20, 'max_depth': 5, 'n_jobs': 6}\n",
      "0.68 0.1446 {'n_estimators': 40, 'max_depth': 2, 'n_jobs': 6}\n",
      "0.7244 0.069 {'n_estimators': 40, 'max_depth': 4, 'n_jobs': 6}\n",
      "0.7563 0.0851 {'n_estimators': 60, 'max_depth': 4, 'n_jobs': 6}\n",
      "0.7592 0.0917 {'n_estimators': 80, 'max_depth': 4, 'n_jobs': 6}\n",
      "\n",
      "Anomaly: Protein_a\n"
     ]
    },
    {
     "data": {
      "application/vnd.jupyter.widget-view+json": {
       "model_id": "66fe5a620b604da5817730d7178b8393",
       "version_major": 2,
       "version_minor": 0
      },
      "text/plain": [
       "HBox(children=(FloatProgress(value=0.0, max=54.0), HTML(value='')))"
      ]
     },
     "metadata": {},
     "output_type": "display_data"
    },
    {
     "name": "stdout",
     "output_type": "stream",
     "text": [
      "0.8139 0.0662 {'n_estimators': 20, 'max_depth': 2, 'n_jobs': 6}\n",
      "0.818 0.0661 {'n_estimators': 20, 'max_depth': 3, 'n_jobs': 6}\n",
      "0.8277 0.0651 {'n_estimators': 40, 'max_depth': 2, 'n_jobs': 6}\n",
      "0.8384 0.0572 {'n_estimators': 60, 'max_depth': 2, 'n_jobs': 6}\n",
      "\n",
      "Anomaly: Glucose_a\n"
     ]
    },
    {
     "data": {
      "application/vnd.jupyter.widget-view+json": {
       "model_id": "0400d5bde2ba481c9dc3bc53652d3485",
       "version_major": 2,
       "version_minor": 0
      },
      "text/plain": [
       "HBox(children=(FloatProgress(value=0.0, max=54.0), HTML(value='')))"
      ]
     },
     "metadata": {},
     "output_type": "display_data"
    },
    {
     "name": "stdout",
     "output_type": "stream",
     "text": [
      "0.5637 0.0402 {'n_estimators': 20, 'max_depth': 2, 'n_jobs': 6}\n",
      "0.5783 0.1108 {'n_estimators': 20, 'max_depth': 4, 'n_jobs': 6}\n",
      "0.6255 0.0512 {'n_estimators': 20, 'max_depth': 6, 'n_jobs': 6}\n",
      "\n",
      "Anomaly: Ketones_a\n"
     ]
    },
    {
     "data": {
      "application/vnd.jupyter.widget-view+json": {
       "model_id": "671d871ae2454c73bb07f2bf948b286d",
       "version_major": 2,
       "version_minor": 0
      },
      "text/plain": [
       "HBox(children=(FloatProgress(value=0.0, max=54.0), HTML(value='')))"
      ]
     },
     "metadata": {},
     "output_type": "display_data"
    },
    {
     "name": "stdout",
     "output_type": "stream",
     "text": [
      "0.6465 0.0832 {'n_estimators': 20, 'max_depth': 2, 'n_jobs': 6}\n",
      "0.7309 0.089 {'n_estimators': 20, 'max_depth': 3, 'n_jobs': 6}\n",
      "\n",
      "Anomaly: Leukocyte_a\n"
     ]
    },
    {
     "data": {
      "application/vnd.jupyter.widget-view+json": {
       "model_id": "0e04fcd171b74d4e84c66934fc8d58f2",
       "version_major": 2,
       "version_minor": 0
      },
      "text/plain": [
       "HBox(children=(FloatProgress(value=0.0, max=54.0), HTML(value='')))"
      ]
     },
     "metadata": {},
     "output_type": "display_data"
    },
    {
     "name": "stdout",
     "output_type": "stream",
     "text": [
      "0.691 0.0389 {'n_estimators': 20, 'max_depth': 2, 'n_jobs': 6}\n",
      "0.6916 0.0315 {'n_estimators': 40, 'max_depth': 6, 'n_jobs': 6}\n",
      "0.7059 0.0294 {'n_estimators': 40, 'max_depth': 7, 'n_jobs': 6}\n",
      "0.7069 0.0204 {'n_estimators': 80, 'max_depth': 6, 'n_jobs': 6}\n",
      "0.7107 0.0296 {'n_estimators': 80, 'max_depth': 7, 'n_jobs': 6}\n",
      "0.7144 0.0278 {'n_estimators': 100, 'max_depth': 7, 'n_jobs': 6}\n",
      "0.7159 0.0246 {'n_estimators': 140, 'max_depth': 7, 'n_jobs': 6}\n",
      "0.7164 0.0214 {'n_estimators': 180, 'max_depth': 7, 'n_jobs': 6}\n",
      "\n",
      "Anomaly: Nitrite_a\n"
     ]
    },
    {
     "data": {
      "application/vnd.jupyter.widget-view+json": {
       "model_id": "5cdd1ff36861440ab880bea08651bd55",
       "version_major": 2,
       "version_minor": 0
      },
      "text/plain": [
       "HBox(children=(FloatProgress(value=0.0, max=54.0), HTML(value='')))"
      ]
     },
     "metadata": {},
     "output_type": "display_data"
    },
    {
     "name": "stdout",
     "output_type": "stream",
     "text": [
      "0.9343 0.0514 {'n_estimators': 20, 'max_depth': 2, 'n_jobs': 6}\n",
      "\n",
      "Anomaly: Urobilinogen_a\n"
     ]
    },
    {
     "data": {
      "application/vnd.jupyter.widget-view+json": {
       "model_id": "2a4e291743d04506be870274c15b82f6",
       "version_major": 2,
       "version_minor": 0
      },
      "text/plain": [
       "HBox(children=(FloatProgress(value=0.0, max=54.0), HTML(value='')))"
      ]
     },
     "metadata": {},
     "output_type": "display_data"
    },
    {
     "name": "stdout",
     "output_type": "stream",
     "text": [
      "0.8158 0.1637 {'n_estimators': 20, 'max_depth': 2, 'n_jobs': 6}\n",
      "0.8336 0.1514 {'n_estimators': 20, 'max_depth': 4, 'n_jobs': 6}\n",
      "0.8498 0.1008 {'n_estimators': 40, 'max_depth': 2, 'n_jobs': 6}\n",
      "0.8586 0.1074 {'n_estimators': 40, 'max_depth': 4, 'n_jobs': 6}\n",
      "\n",
      "Anomaly: Blood_a\n"
     ]
    },
    {
     "data": {
      "application/vnd.jupyter.widget-view+json": {
       "model_id": "04800d09a3dc460f847a49cec7df562d",
       "version_major": 2,
       "version_minor": 0
      },
      "text/plain": [
       "HBox(children=(FloatProgress(value=0.0, max=54.0), HTML(value='')))"
      ]
     },
     "metadata": {},
     "output_type": "display_data"
    },
    {
     "name": "stdout",
     "output_type": "stream",
     "text": [
      "0.6597 0.0496 {'n_estimators': 20, 'max_depth': 2, 'n_jobs': 6}\n",
      "0.6603 0.0728 {'n_estimators': 20, 'max_depth': 3, 'n_jobs': 6}\n",
      "0.6932 0.0552 {'n_estimators': 20, 'max_depth': 4, 'n_jobs': 6}\n",
      "\n",
      "Anomaly: Erythrocyte_a\n"
     ]
    },
    {
     "data": {
      "application/vnd.jupyter.widget-view+json": {
       "model_id": "8c32d1617850461e9d6787a33894665f",
       "version_major": 2,
       "version_minor": 0
      },
      "text/plain": [
       "HBox(children=(FloatProgress(value=0.0, max=54.0), HTML(value='')))"
      ]
     },
     "metadata": {},
     "output_type": "display_data"
    },
    {
     "name": "stdout",
     "output_type": "stream",
     "text": [
      "0.7217 0.0411 {'n_estimators': 20, 'max_depth': 2, 'n_jobs': 6}\n",
      "0.7297 0.0642 {'n_estimators': 20, 'max_depth': 4, 'n_jobs': 6}\n",
      "0.7318 0.0507 {'n_estimators': 20, 'max_depth': 6, 'n_jobs': 6}\n",
      "0.7338 0.0446 {'n_estimators': 20, 'max_depth': 7, 'n_jobs': 6}\n",
      "\n",
      "Anomaly: Squamous cells_a\n"
     ]
    },
    {
     "data": {
      "application/vnd.jupyter.widget-view+json": {
       "model_id": "cd0b5b5ec6be48b3a574774c88bafdfa",
       "version_major": 2,
       "version_minor": 0
      },
      "text/plain": [
       "HBox(children=(FloatProgress(value=0.0, max=54.0), HTML(value='')))"
      ]
     },
     "metadata": {},
     "output_type": "display_data"
    },
    {
     "name": "stdout",
     "output_type": "stream",
     "text": [
      "0.7797 0.1109 {'n_estimators': 20, 'max_depth': 2, 'n_jobs': 6}\n",
      "0.782 0.0416 {'n_estimators': 60, 'max_depth': 4, 'n_jobs': 6}\n",
      "0.7837 0.0755 {'n_estimators': 140, 'max_depth': 2, 'n_jobs': 6}\n",
      "0.7842 0.079 {'n_estimators': 160, 'max_depth': 2, 'n_jobs': 6}\n",
      "\n",
      "Anomaly: Hyaline cylinders_a\n"
     ]
    },
    {
     "data": {
      "application/vnd.jupyter.widget-view+json": {
       "model_id": "4c872b8165dd4ff4992b26b9c8d4177b",
       "version_major": 2,
       "version_minor": 0
      },
      "text/plain": [
       "HBox(children=(FloatProgress(value=0.0, max=54.0), HTML(value='')))"
      ]
     },
     "metadata": {},
     "output_type": "display_data"
    },
    {
     "name": "stdout",
     "output_type": "stream",
     "text": [
      "0.8737 0.0556 {'n_estimators': 20, 'max_depth': 2, 'n_jobs': 6}\n",
      "0.8756 0.0889 {'n_estimators': 20, 'max_depth': 4, 'n_jobs': 6}\n",
      "0.8804 0.0813 {'n_estimators': 40, 'max_depth': 3, 'n_jobs': 6}\n",
      "0.8825 0.0839 {'n_estimators': 40, 'max_depth': 4, 'n_jobs': 6}\n",
      "0.8859 0.0768 {'n_estimators': 60, 'max_depth': 4, 'n_jobs': 6}\n",
      "0.8908 0.0719 {'n_estimators': 80, 'max_depth': 4, 'n_jobs': 6}\n",
      "0.8912 0.0698 {'n_estimators': 100, 'max_depth': 4, 'n_jobs': 6}\n",
      "\n",
      "Anomaly: Bacteria_a\n"
     ]
    },
    {
     "data": {
      "application/vnd.jupyter.widget-view+json": {
       "model_id": "5d9c4e89ada7489b9ad7250d0552261f",
       "version_major": 2,
       "version_minor": 0
      },
      "text/plain": [
       "HBox(children=(FloatProgress(value=0.0, max=54.0), HTML(value='')))"
      ]
     },
     "metadata": {},
     "output_type": "display_data"
    },
    {
     "name": "stdout",
     "output_type": "stream",
     "text": [
      "0.8596 0.0342 {'n_estimators': 20, 'max_depth': 2, 'n_jobs': 6}\n",
      "0.8616 0.0286 {'n_estimators': 60, 'max_depth': 2, 'n_jobs': 6}\n",
      "\n",
      "Anomaly: Crystals_a\n"
     ]
    },
    {
     "data": {
      "application/vnd.jupyter.widget-view+json": {
       "model_id": "3b57d90a8cb74461ac165754494bdb91",
       "version_major": 2,
       "version_minor": 0
      },
      "text/plain": [
       "HBox(children=(FloatProgress(value=0.0, max=54.0), HTML(value='')))"
      ]
     },
     "metadata": {},
     "output_type": "display_data"
    },
    {
     "name": "stdout",
     "output_type": "stream",
     "text": [
      "0.7007 0.0587 {'n_estimators': 20, 'max_depth': 2, 'n_jobs': 6}\n",
      "0.7064 0.0759 {'n_estimators': 20, 'max_depth': 4, 'n_jobs': 6}\n",
      "0.708 0.068 {'n_estimators': 20, 'max_depth': 7, 'n_jobs': 6}\n",
      "0.7084 0.0503 {'n_estimators': 40, 'max_depth': 2, 'n_jobs': 6}\n",
      "0.7204 0.0578 {'n_estimators': 60, 'max_depth': 2, 'n_jobs': 6}\n",
      "0.7228 0.0452 {'n_estimators': 80, 'max_depth': 2, 'n_jobs': 6}\n",
      "\n",
      "Anomaly: Ferment_a\n"
     ]
    },
    {
     "data": {
      "application/vnd.jupyter.widget-view+json": {
       "model_id": "930d7a430ce84054bea98c79e220b1f8",
       "version_major": 2,
       "version_minor": 0
      },
      "text/plain": [
       "HBox(children=(FloatProgress(value=0.0, max=54.0), HTML(value='')))"
      ]
     },
     "metadata": {},
     "output_type": "display_data"
    },
    {
     "name": "stdout",
     "output_type": "stream",
     "text": [
      "0.6675 0.1156 {'n_estimators': 20, 'max_depth': 2, 'n_jobs': 6}\n",
      "0.6977 0.1073 {'n_estimators': 20, 'max_depth': 3, 'n_jobs': 6}\n",
      "0.71 0.0672 {'n_estimators': 20, 'max_depth': 5, 'n_jobs': 6}\n",
      "0.7334 0.0742 {'n_estimators': 40, 'max_depth': 2, 'n_jobs': 6}\n",
      "0.7456 0.0815 {'n_estimators': 60, 'max_depth': 2, 'n_jobs': 6}\n",
      "0.749 0.0775 {'n_estimators': 80, 'max_depth': 2, 'n_jobs': 6}\n",
      "\n",
      "Anomaly: Small cells_a\n"
     ]
    },
    {
     "data": {
      "application/vnd.jupyter.widget-view+json": {
       "model_id": "ca64f04467b643b78c56c7c6a6cddfac",
       "version_major": 2,
       "version_minor": 0
      },
      "text/plain": [
       "HBox(children=(FloatProgress(value=0.0, max=54.0), HTML(value='')))"
      ]
     },
     "metadata": {},
     "output_type": "display_data"
    },
    {
     "name": "stdout",
     "output_type": "stream",
     "text": [
      "0.8318 0.0172 {'n_estimators': 20, 'max_depth': 2, 'n_jobs': 6}\n",
      "0.8427 0.0473 {'n_estimators': 20, 'max_depth': 3, 'n_jobs': 6}\n",
      "\n",
      "Anomaly: Pathological cylinders_a\n"
     ]
    },
    {
     "data": {
      "application/vnd.jupyter.widget-view+json": {
       "model_id": "121c40ce1c7c4947ba28f91fa5999b4f",
       "version_major": 2,
       "version_minor": 0
      },
      "text/plain": [
       "HBox(children=(FloatProgress(value=0.0, max=54.0), HTML(value='')))"
      ]
     },
     "metadata": {},
     "output_type": "display_data"
    },
    {
     "name": "stdout",
     "output_type": "stream",
     "text": [
      "0.7777 0.0547 {'n_estimators': 20, 'max_depth': 2, 'n_jobs': 6}\n",
      "0.7866 0.0232 {'n_estimators': 20, 'max_depth': 3, 'n_jobs': 6}\n",
      "0.813 0.0298 {'n_estimators': 20, 'max_depth': 5, 'n_jobs': 6}\n",
      "\n",
      "Anomaly: Slime_a\n"
     ]
    },
    {
     "data": {
      "application/vnd.jupyter.widget-view+json": {
       "model_id": "3b9f7252509f4b3cb5f15acd26940ef5",
       "version_major": 2,
       "version_minor": 0
      },
      "text/plain": [
       "HBox(children=(FloatProgress(value=0.0, max=54.0), HTML(value='')))"
      ]
     },
     "metadata": {},
     "output_type": "display_data"
    },
    {
     "name": "stdout",
     "output_type": "stream",
     "text": [
      "0.8947 0.0459 {'n_estimators': 20, 'max_depth': 2, 'n_jobs': 6}\n",
      "0.9063 0.0514 {'n_estimators': 20, 'max_depth': 3, 'n_jobs': 6}\n",
      "0.908 0.0374 {'n_estimators': 20, 'max_depth': 4, 'n_jobs': 6}\n",
      "0.9089 0.0427 {'n_estimators': 40, 'max_depth': 5, 'n_jobs': 6}\n",
      "0.9127 0.0396 {'n_estimators': 40, 'max_depth': 6, 'n_jobs': 6}\n",
      "\n"
     ]
    }
   ],
   "source": [
    "from itertools import product\n",
    "from copy import deepcopy\n",
    "\n",
    "xgb_params = {'n_estimators': 20, 'max_depth':  2, 'n_jobs': 6}\n",
    "Depth_arr = np.arange(2,8)\n",
    "Estimators_arr = np.arange(20,200,20)\n",
    "\n",
    "\n",
    "Anom_Best_Dict = dict()\n",
    "X = pd.concat([spectra.filter(regex='Ch_'), Gender_emb, Age_emb], axis=1).values\n",
    "\n",
    "for anom in Anom_Names:\n",
    "    \n",
    "    if anom=='Bilirubin_a' or anom=='Spermatozoon_a':\n",
    "        continue\n",
    "    \n",
    "    print(\"Anomaly: {}\".format(anom))\n",
    "    y = spectra[anom].astype(int).values\n",
    "    groups = spectra.Dataset.values\n",
    "\n",
    "    best_score=0.0\n",
    "    for N_EST, MAX_DEPTH in tqdm(list(product(Estimators_arr, Depth_arr))):\n",
    "        xgb_params['n_estimators'] = N_EST\n",
    "        xgb_params['max_depth'] = MAX_DEPTH\n",
    "        \n",
    "        clf = XGBClassifier(**xgb_params)\n",
    "        cur_score = cross_val_score(clf, X, y, groups=groups, cv=4, scoring='roc_auc')\n",
    "        mean_score, std_score = cur_score.mean(), cur_score.std()\n",
    "        \n",
    "        if mean_score > best_score:\n",
    "            best_score = deepcopy(mean_score)\n",
    "            best_params = deepcopy(xgb_params)\n",
    "            print(mean_score.round(4), std_score.round(4), best_params)\n",
    "    \n",
    "    Anom_Best_Dict[anom] = (best_score, best_params)\n",
    "        \n",
    "        \n",
    "    "
   ]
  },
  {
   "cell_type": "code",
   "execution_count": 33,
   "metadata": {},
   "outputs": [],
   "source": [
    "from imblearn.metrics import sensitivity_score, specificity_score\n",
    "\n",
    "def my_fbeta_score(y_true, y_pred, beta=1):\n",
    "    sens = sensitivity_score(y_true, y_pred)\n",
    "    spec = specificity_score(y_true, y_pred)\n",
    "    \n",
    "    return (1+beta**2)*(spec*sens)/(beta**2*spec + sens)\n",
    "\n",
    "def return_med_metrics(y_true, y_pred, y_prob):\n",
    "    sens = sensitivity_score(y_true, y_pred)\n",
    "    spec = specificity_score(y_true, y_pred)\n",
    "    beta = 1.2\n",
    "    try:\n",
    "        my_fscore = (1 + beta**2) * (spec * sens) / (beta**2 * spec + sens)\n",
    "    except:\n",
    "        my_fscore = -1\n",
    "    try:\n",
    "        roc_auc = roc_auc_score(y_true, y_prob)\n",
    "    except ValueError: \n",
    "        roc_auc = -1\n",
    "    \n",
    "    return [sens, spec, my_fscore, roc_auc]"
   ]
  },
  {
   "cell_type": "markdown",
   "metadata": {},
   "source": [
    "$$ \\text{My \"Medicine\" F-Score:  } F_{\\beta}=\\left(1+\\beta^{2}\\right) \\cdot \\frac{\\text { specificity } \\cdot \\text { sensitivity }}{\\left(\\beta^{2} \\cdot \\text { specificity }\\right)+\\text { sensitivity }}$$"
   ]
  },
  {
   "cell_type": "markdown",
   "metadata": {},
   "source": [
    "## Настройка порога предсказания\n",
    "После получения наилучших по **ROC-AUC** оценок вероятностей подберем порог предсказания максимизируя **Medicine F Beta Score**  --\n",
    "\n",
    " -- тригонометрическое взвешенное среднее между **Чувствительностью** и **Специфичностью** (поставив вес $\\beta$ выше 1 предпочтение будет отдаваться Чувствительности)**"
   ]
  },
  {
   "cell_type": "code",
   "execution_count": 34,
   "metadata": {},
   "outputs": [],
   "source": [
    "def predict(proba, thrs):\n",
    "    return [1 if p>=thrs else 0 for p in proba]"
   ]
  },
  {
   "cell_type": "code",
   "execution_count": 35,
   "metadata": {},
   "outputs": [],
   "source": [
    "def log_to_print(Anom_Name, Best):\n",
    "    print(\"For anomaly {}:\\n\".format(Anom_Name))\n",
    "    print(\"Чувствительность: {}\\nСпецифичность: {}\\n\".format(round(Best.Sensitivity,3), round(Best.Specificity,3)))\n",
    "    Anom = int(Best['Anom/Norm'].split('/')[0])/10\n",
    "    Norm = int(Best['Anom/Norm'].split('/')[1])/10\n",
    "    print(\"Всего больных (в среднем на тесте): {}\\nВсего здоровых (в среднем на тесте): {}\\n\".\\\n",
    "          format(round(Anom,1), round(Norm,1)))\n",
    "    print(\"Выявлено истинно больных : {}\".format(round(Anom*Best.Sensitivity, 1)))\n",
    "    print(\"Выявлено истинно здоровых : {}\\n\".format(round(Norm*Best.Specificity, 1)))\n",
    "    print(\"================================================\\n\")\n",
    "    \n",
    "def log_to_file(Anom_Name, Best, filename='XGBoost_results.txt'):\n",
    "    \n",
    "    with open(filename, 'a') as f_res:\n",
    "        f_res.write(\"\\nFor anomaly {}:\\n\".format(Anom_Name))\n",
    "        f_res.write(\"Чувствительность: {}\\nСпецифичность: {}\\n\".format(round(Best.Sensitivity,3), round(Best.Specificity,3)))\n",
    "        Anom = int(Best['Anom/Norm'].split('/')[0])/10\n",
    "        Norm = int(Best['Anom/Norm'].split('/')[1])/10\n",
    "        f_res.write(\"Всего больных (в среднем на тесте): {}\\nВсего здоровых (в среднем на тесте): {}\\n\".format(round(Anom,1), round(Norm,1)))\n",
    "        f_res.write(\"Выявлено истинно больных : {}\\n\".format(round(Anom*Best.Sensitivity, 1)))\n",
    "        f_res.write(\"Выявлено истинно здоровых : {}\\n\".format(round(Norm*Best.Specificity, 1)))\n",
    "        f_res.write(\"\\n================================================\\n\")\n",
    "\n",
    "    "
   ]
  },
  {
   "cell_type": "code",
   "execution_count": 36,
   "metadata": {},
   "outputs": [
    {
     "name": "stdout",
     "output_type": "stream",
     "text": [
      "Local date: 20_05_26\n"
     ]
    }
   ],
   "source": [
    "## Возьмем текущую дату для добавления в название файла\n",
    "\n",
    "from time import localtime\n",
    "LT = localtime()\n",
    "Year = str(LT.tm_year)[-2:]\n",
    "Month = str(LT.tm_mon) if len(str(LT.tm_mon))==2 else '0'+str(LT.tm_mon)\n",
    "Day = str(LT.tm_mday) if len(str(LT.tm_mday))==2 else '0'+str(LT.tm_mday)\n",
    "\n",
    "add_to_filename = '_'.join([Year, Month, Day])\n",
    "print(\"Local date: {}\".format(add_to_filename))"
   ]
  },
  {
   "cell_type": "code",
   "execution_count": 37,
   "metadata": {
    "scrolled": true
   },
   "outputs": [
    {
     "name": "stdout",
     "output_type": "stream",
     "text": [
      "For anomaly Density_a:\n",
      "\n",
      "Чувствительность: 0.723\n",
      "Специфичность: 0.763\n",
      "\n",
      "Всего больных (в среднем на тесте): 36.1\n",
      "Всего здоровых (в среднем на тесте): 48.9\n",
      "\n",
      "Выявлено истинно больных : 26.1\n",
      "Выявлено истинно здоровых : 37.3\n",
      "\n",
      "================================================\n",
      "\n",
      "For anomaly pH_a:\n",
      "\n",
      "Чувствительность: 0.067\n",
      "Специфичность: 0.936\n",
      "\n",
      "Всего больных (в среднем на тесте): 1.9\n",
      "Всего здоровых (в среднем на тесте): 83.0\n",
      "\n",
      "Выявлено истинно больных : 0.1\n",
      "Выявлено истинно здоровых : 77.7\n",
      "\n",
      "================================================\n",
      "\n",
      "For anomaly Protein_a:\n",
      "\n",
      "Чувствительность: 0.733\n",
      "Специфичность: 0.692\n",
      "\n",
      "Всего больных (в среднем на тесте): 4.4\n",
      "Всего здоровых (в среднем на тесте): 80.6\n",
      "\n",
      "Выявлено истинно больных : 3.2\n",
      "Выявлено истинно здоровых : 55.8\n",
      "\n",
      "================================================\n",
      "\n",
      "For anomaly Glucose_a:\n",
      "\n",
      "Чувствительность: 0.425\n",
      "Специфичность: 0.478\n",
      "\n",
      "Всего больных (в среднем на тесте): 2.4\n",
      "Всего здоровых (в среднем на тесте): 82.5\n",
      "\n",
      "Выявлено истинно больных : 1.0\n",
      "Выявлено истинно здоровых : 39.5\n",
      "\n",
      "================================================\n",
      "\n",
      "For anomaly Ketones_a:\n",
      "\n",
      "Чувствительность: 0.345\n",
      "Специфичность: 0.844\n",
      "\n",
      "Всего больных (в среднем на тесте): 2.9\n",
      "Всего здоровых (в среднем на тесте): 82.1\n",
      "\n",
      "Выявлено истинно больных : 1.0\n",
      "Выявлено истинно здоровых : 69.3\n",
      "\n",
      "================================================\n",
      "\n",
      "For anomaly Leukocyte_a:\n",
      "\n",
      "Чувствительность: 0.705\n",
      "Специфичность: 0.59\n",
      "\n",
      "Всего больных (в среднем на тесте): 11.9\n",
      "Всего здоровых (в среднем на тесте): 73.0\n",
      "\n",
      "Выявлено истинно больных : 8.4\n",
      "Выявлено истинно здоровых : 43.1\n",
      "\n",
      "================================================\n",
      "\n",
      "For anomaly Nitrite_a:\n",
      "\n",
      "Чувствительность: 0.9\n",
      "Специфичность: 0.875\n",
      "\n",
      "Всего больных (в среднем на тесте): 2.3\n",
      "Всего здоровых (в среднем на тесте): 82.6\n",
      "\n",
      "Выявлено истинно больных : 2.1\n",
      "Выявлено истинно здоровых : 72.3\n",
      "\n",
      "================================================\n",
      "\n",
      "For anomaly Urobilinogen_a:\n",
      "\n",
      "Чувствительность: 0.007\n",
      "Специфичность: 0.886\n",
      "\n",
      "Всего больных (в среднем на тесте): 1.4\n",
      "Всего здоровых (в среднем на тесте): 83.6\n",
      "\n",
      "Выявлено истинно больных : 0.0\n",
      "Выявлено истинно здоровых : 74.1\n",
      "\n",
      "================================================\n",
      "\n",
      "For anomaly Blood_a:\n",
      "\n",
      "Чувствительность: 0.75\n",
      "Специфичность: 0.696\n",
      "\n",
      "Всего больных (в среднем на тесте): 9.9\n",
      "Всего здоровых (в среднем на тесте): 75.0\n",
      "\n",
      "Выявлено истинно больных : 7.4\n",
      "Выявлено истинно здоровых : 52.2\n",
      "\n",
      "================================================\n",
      "\n",
      "For anomaly Erythrocyte_a:\n",
      "\n",
      "Чувствительность: 0.716\n",
      "Специфичность: 0.668\n",
      "\n",
      "Всего больных (в среднем на тесте): 11.3\n",
      "Всего здоровых (в среднем на тесте): 73.7\n",
      "\n",
      "Выявлено истинно больных : 8.1\n",
      "Выявлено истинно здоровых : 49.2\n",
      "\n",
      "================================================\n",
      "\n",
      "For anomaly Squamous cells_a:\n",
      "\n",
      "Чувствительность: 0.532\n",
      "Специфичность: 0.82\n",
      "\n",
      "Всего больных (в среднем на тесте): 2.9\n",
      "Всего здоровых (в среднем на тесте): 82.1\n",
      "\n",
      "Выявлено истинно больных : 1.5\n",
      "Выявлено истинно здоровых : 67.3\n",
      "\n",
      "================================================\n",
      "\n",
      "For anomaly Hyaline cylinders_a:\n",
      "\n",
      "Чувствительность: 0.511\n",
      "Специфичность: 0.897\n",
      "\n",
      "Всего больных (в среднем на тесте): 2.6\n",
      "Всего здоровых (в среднем на тесте): 82.3\n",
      "\n",
      "Выявлено истинно больных : 1.3\n",
      "Выявлено истинно здоровых : 73.8\n",
      "\n",
      "================================================\n",
      "\n",
      "For anomaly Bacteria_a:\n",
      "\n",
      "Чувствительность: 0.775\n",
      "Специфичность: 0.781\n",
      "\n",
      "Всего больных (в среднем на тесте): 12.3\n",
      "Всего здоровых (в среднем на тесте): 72.7\n",
      "\n",
      "Выявлено истинно больных : 9.5\n",
      "Выявлено истинно здоровых : 56.8\n",
      "\n",
      "================================================\n",
      "\n",
      "For anomaly Crystals_a:\n",
      "\n",
      "Чувствительность: 0.707\n",
      "Специфичность: 0.644\n",
      "\n",
      "Всего больных (в среднем на тесте): 11.3\n",
      "Всего здоровых (в среднем на тесте): 73.7\n",
      "\n",
      "Выявлено истинно больных : 8.0\n",
      "Выявлено истинно здоровых : 47.5\n",
      "\n",
      "================================================\n",
      "\n",
      "For anomaly Ferment_a:\n",
      "\n",
      "Чувствительность: 0.44\n",
      "Специфичность: 0.806\n",
      "\n",
      "Всего больных (в среднем на тесте): 1.8\n",
      "Всего здоровых (в среднем на тесте): 83.1\n",
      "\n",
      "Выявлено истинно больных : 0.8\n",
      "Выявлено истинно здоровых : 67.0\n",
      "\n",
      "================================================\n",
      "\n",
      "For anomaly Small cells_a:\n",
      "\n",
      "Чувствительность: 0.758\n",
      "Специфичность: 0.802\n",
      "\n",
      "Всего больных (в среднем на тесте): 4.0\n",
      "Всего здоровых (в среднем на тесте): 81.0\n",
      "\n",
      "Выявлено истинно больных : 3.0\n",
      "Выявлено истинно здоровых : 65.0\n",
      "\n",
      "================================================\n",
      "\n",
      "For anomaly Pathological cylinders_a:\n",
      "\n",
      "Чувствительность: 0.76\n",
      "Специфичность: 0.603\n",
      "\n",
      "Всего больных (в среднем на тесте): 4.4\n",
      "Всего здоровых (в среднем на тесте): 80.5\n",
      "\n",
      "Выявлено истинно больных : 3.3\n",
      "Выявлено истинно здоровых : 48.5\n",
      "\n",
      "================================================\n",
      "\n",
      "For anomaly Slime_a:\n",
      "\n",
      "Чувствительность: 0.877\n",
      "Специфичность: 0.89\n",
      "\n",
      "Всего больных (в среднем на тесте): 5.6\n",
      "Всего здоровых (в среднем на тесте): 79.3\n",
      "\n",
      "Выявлено истинно больных : 4.9\n",
      "Выявлено истинно здоровых : 70.6\n",
      "\n",
      "================================================\n",
      "\n"
     ]
    }
   ],
   "source": [
    "for Anom in Anom_Best_Dict.keys():\n",
    "\n",
    "    X = pd.concat([spectra.filter(regex='Ch_'), Gender_emb, Age_emb], axis=1).values\n",
    "    y = spectra[Anom].astype(int).values\n",
    "    groups = spectra.Dataset.values\n",
    "\n",
    "    CV_True_y, CV_Probs = [], []\n",
    "    gkf = GroupKFold()\n",
    "\n",
    "    for train_inds, test_inds in gkf.split(X,y,groups):\n",
    "        Train_X, Test_X = X[train_inds], X[test_inds]\n",
    "        Train_y, Test_y = y[train_inds], y[test_inds]\n",
    "\n",
    "        CLF = XGBClassifier(**Anom_Best_Dict[Anom][1]).fit(Train_X, Train_y)\n",
    "\n",
    "        Probs = CLF.predict_proba(Test_X)[:,1]\n",
    "        CV_Probs.append(Probs)\n",
    "        CV_True_y.append(Test_y)\n",
    "        \n",
    "    THRS_ARR = np.arange(0.002,1.0,0.002)\n",
    "\n",
    "    DF = pd.DataFrame(columns=[\"Sensitivity\", \"Specificity\", \n",
    "                               \"Medic F-Score\", \"ROC-AUC\", \"Anom/Norm\"], index=THRS_ARR)\n",
    "    for thrs in THRS_ARR:\n",
    "        Metrics, Med_Metrics = [], []\n",
    "        Anom_Norm = []\n",
    "        for y_true, y_prob in zip(CV_True_y, CV_Probs):\n",
    "            y_pred = predict(y_prob, thrs)\n",
    "#             Metrics.append(return_metrics(y_true, y_pred, y_prob))\n",
    "            Med_Metrics.append(return_med_metrics(y_true, y_pred, y_prob))\n",
    "            Anom_Norm.append([y_true.sum(), y_true.shape[0] - y_true.sum()])\n",
    "#         DF.ix[thrs,:2] = np.mean(Metrics, axis=0)[:2]\n",
    "        DF.loc[thrs,[\"Sensitivity\", \"Specificity\",\"Medic F-Score\", \"ROC-AUC\"]] = np.mean(Med_Metrics, axis=0)\n",
    "        DF.loc[thrs,\"Anom/Norm\"] = \"{}/{}\".format(*map(int, np.mean(Anom_Norm, axis=0)))\n",
    "    \n",
    "    Best = DF.sort_values(by=['Medic F-Score'], ascending=False).iloc[0,:]\n",
    "    \n",
    "    log_to_print(Anom, Best)\n",
    "#     log_to_file(Anom, Best, filename='_'.join([add_to_filename, 'XGBoost_Results.txt']))"
   ]
  },
  {
   "cell_type": "code",
   "execution_count": 43,
   "metadata": {},
   "outputs": [],
   "source": [
    "from statistics import harmonic_mean"
   ]
  },
  {
   "cell_type": "code",
   "execution_count": 49,
   "metadata": {},
   "outputs": [
    {
     "data": {
      "text/plain": [
       "0.013884841363102233"
      ]
     },
     "execution_count": 49,
     "metadata": {},
     "output_type": "execute_result"
    }
   ],
   "source": [
    "harmonic_mean([0.007, 0.844])"
   ]
  },
  {
   "cell_type": "markdown",
   "metadata": {},
   "source": [
    "# Графическое представления подбора порога"
   ]
  },
  {
   "cell_type": "code",
   "execution_count": 38,
   "metadata": {},
   "outputs": [],
   "source": [
    "from ipywidgets import interact, interactive, fixed, interact_manual\n",
    "import ipywidgets as widgets"
   ]
  },
  {
   "cell_type": "code",
   "execution_count": 39,
   "metadata": {},
   "outputs": [
    {
     "data": {
      "application/vnd.jupyter.widget-view+json": {
       "model_id": "176bea863bfa418b9af1ad813c005a5f",
       "version_major": 2,
       "version_minor": 0
      },
      "text/plain": [
       "interactive(children=(Dropdown(description='Anom', options=('Density_a', 'pH_a', 'Protein_a', 'Glucose_a', 'Ke…"
      ]
     },
     "metadata": {},
     "output_type": "display_data"
    }
   ],
   "source": [
    "@interact\n",
    "def plot(Anom = ['Density_a', 'pH_a', 'Protein_a', \n",
    "                 'Glucose_a', 'Ketones_a', 'Leukocyte_a', \n",
    "                 'Nitrite_a', 'Urobilinogen_a', 'Blood_a', \n",
    "                 'Erythrocyte_a', 'Squamous cells_a', \n",
    "                 'Hyaline cylinders_a', 'Bacteria_a', \n",
    "                 'Crystals_a', 'Ferment_a', 'Small cells_a', \n",
    "                 'Pathological cylinders_a', 'Slime_a']):\n",
    "\n",
    "    X = pd.concat([spectra.filter(regex='Ch_'), Gender_emb, Age_emb], axis=1).values\n",
    "    y = spectra[Anom].astype(int).values\n",
    "    groups = spectra.Dataset.values\n",
    "\n",
    "    CV_True_y, CV_Probs = [], []\n",
    "    gkf = GroupKFold()\n",
    "\n",
    "    for train_inds, test_inds in gkf.split(X,y,groups):\n",
    "        Train_X, Test_X = X[train_inds], X[test_inds]\n",
    "        Train_y, Test_y = y[train_inds], y[test_inds]\n",
    "\n",
    "        CLF = XGBClassifier(**Anom_Best_Dict[Anom][1]).fit(Train_X, Train_y)\n",
    "\n",
    "        Probs = CLF.predict_proba(Test_X)[:,1]\n",
    "        CV_Probs.append(Probs)\n",
    "        CV_True_y.append(Test_y)\n",
    "        \n",
    "    THRS_ARR = np.arange(0.01,1.0,0.01)\n",
    "\n",
    "    DF = pd.DataFrame(columns=[\"Precision\", \"Recall\", \n",
    "                               \"Sensitivity\", \"Specificity\",\n",
    "                               \"Medic F-Score\", \"ROC-AUC\", \n",
    "                                \"Anom/Norm\"], index=THRS_ARR)\n",
    "    for thrs in THRS_ARR:\n",
    "        Metrics, Med_Metrics = [], []\n",
    "        Anom_Norm = []\n",
    "        for y_true, y_prob in zip(CV_True_y, CV_Probs):\n",
    "            y_pred = predict(y_prob, thrs)\n",
    "            Metrics.append(return_metrics(y_true, y_pred, y_prob))\n",
    "            Med_Metrics.append(return_med_metrics(y_true, y_pred, y_prob))\n",
    "            Anom_Norm.append([y_true.sum(), y_true.shape[0] - y_true.sum()])\n",
    "        DF.loc[thrs,[\"Precision\", \"Recall\"]] = np.mean(Metrics, axis=0)[:2]\n",
    "        DF.loc[thrs,[\"Sensitivity\", \"Specificity\",\"Medic F-Score\", \"ROC-AUC\"]] = np.mean(Med_Metrics, axis=0)\n",
    "        DF.loc[thrs,[\"Anom/Norm\"]] = \"{}/{}\".format(*map(int, np.mean(Anom_Norm, axis=0)))\n",
    "    \n",
    "    plt.figure(figsize=(10,6))\n",
    "    plt.title(Anom, fontsize=14)\n",
    "    plt.xlabel(\"Threshold of Prediction\")\n",
    "    plt.ylabel(\"Metric value\")\n",
    "    plt.plot(DF.index.values.round(2), DF.Sensitivity.values, label=\"Sensitivity\", c='blue')\n",
    "    plt.plot(DF.index.values.round(2), DF.Specificity.values, label=\"Specificity\", c='orange')\n",
    "    plt.plot(DF.index.values.round(2), DF['Medic F-Score'].values, label=\"Medic F-Score\", c='green')\n",
    "    \n",
    "    plt.grid()\n",
    "    plt.legend()\n",
    "    plt.show()"
   ]
  },
  {
   "cell_type": "markdown",
   "metadata": {},
   "source": [
    "# Посмотрим на важность признаков для разных аномалий"
   ]
  },
  {
   "cell_type": "code",
   "execution_count": 40,
   "metadata": {},
   "outputs": [
    {
     "data": {
      "application/vnd.jupyter.widget-view+json": {
       "model_id": "718366e142d04672a10e466e00b07a79",
       "version_major": 2,
       "version_minor": 0
      },
      "text/plain": [
       "interactive(children=(Dropdown(description='Anom', options=('Density_a', 'pH_a', 'Protein_a', 'Glucose_a', 'Ke…"
      ]
     },
     "metadata": {},
     "output_type": "display_data"
    }
   ],
   "source": [
    "@interact\n",
    "def plot(Anom = ['Density_a', 'pH_a', 'Protein_a', \n",
    "                 'Glucose_a', 'Ketones_a', 'Leukocyte_a', \n",
    "                 'Nitrite_a', 'Urobilinogen_a', 'Blood_a', \n",
    "                 'Erythrocyte_a', 'Squamous cells_a', \n",
    "                 'Hyaline cylinders_a', 'Bacteria_a', \n",
    "                 'Crystals_a', 'Ferment_a', 'Small cells_a', \n",
    "                 'Pathological cylinders_a', 'Slime_a']):\n",
    "\n",
    "    X = pd.concat([spectra.filter(regex='Ch_'), Gender_emb, Age_emb], axis=1).values\n",
    "    y = spectra[Anom].astype(int).values\n",
    "    groups = spectra.Dataset.values\n",
    "\n",
    "    CLF = XGBClassifier(**Anom_Best_Dict[Anom][1]).fit(Train_X, Train_y)\n",
    "    \n",
    "    Feature_Names = pd.concat([spectra.filter(regex='Ch_'), Gender_emb, Age_emb], axis=1).columns\n",
    "    Feature_Importances = CLF.feature_importances_\n",
    "    \n",
    "    plt.figure(figsize=(12,7))\n",
    "    plt.xticks(rotation=90)\n",
    "    plt.ylabel(\"Feature importance\", fontsize=12)\n",
    "    plt.title(Anom, fontsize=14)\n",
    "    plt.bar(Feature_Names, Feature_Importances)\n",
    "    "
   ]
  },
  {
   "cell_type": "code",
   "execution_count": null,
   "metadata": {},
   "outputs": [],
   "source": []
  }
 ],
 "metadata": {
  "kernelspec": {
   "display_name": "Python 3",
   "language": "python",
   "name": "python3"
  },
  "language_info": {
   "codemirror_mode": {
    "name": "ipython",
    "version": 3
   },
   "file_extension": ".py",
   "mimetype": "text/x-python",
   "name": "python",
   "nbconvert_exporter": "python",
   "pygments_lexer": "ipython3",
   "version": "3.7.5"
  }
 },
 "nbformat": 4,
 "nbformat_minor": 2
}
