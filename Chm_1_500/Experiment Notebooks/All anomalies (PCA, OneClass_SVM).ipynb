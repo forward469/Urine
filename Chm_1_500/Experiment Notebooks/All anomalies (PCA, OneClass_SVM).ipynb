{
 "cells": [
  {
   "cell_type": "code",
   "execution_count": 1,
   "metadata": {},
   "outputs": [],
   "source": [
    "from copy import deepcopy\n",
    "\n",
    "import pandas as pd\n",
    "import numpy as np\n",
    "\n",
    "import matplotlib.pyplot as plt\n",
    "import seaborn as sns\n",
    "\n",
    "from sklearn.preprocessing import MinMaxScaler, StandardScaler\n",
    "from sklearn.metrics import classification_report, accuracy_score, f1_score, precision_score,\\\n",
    "                            recall_score, roc_auc_score, roc_curve, cohen_kappa_score, fbeta_score\n",
    "\n",
    "from sklearn.cluster import AgglomerativeClustering, DBSCAN\n",
    "from sklearn.discriminant_analysis import LinearDiscriminantAnalysis, QuadraticDiscriminantAnalysis\n",
    "from sklearn.cross_decomposition import PLSRegression, PLSCanonical                       \n",
    "from sklearn.decomposition import PCA\n",
    "\n",
    "from sklearn.model_selection import GroupKFold\n",
    "from sklearn.linear_model import LogisticRegression\n",
    "\n",
    "from StratifiedGroupKFold import StratifiedGroupKFold as SGKF\n",
    "\n",
    "import catboost\n",
    "from catboost import *\n",
    "\n",
    "from sklearn.model_selection import train_test_split, KFold, StratifiedKFold\n",
    "\n",
    "pd.set_option('display.max_rows', 500)\n",
    "pd.set_option('display.max_columns', 500)\n",
    "pd.set_option('display.width', 1000)\n",
    "\n",
    "import warnings\n",
    "warnings.filterwarnings('ignore')"
   ]
  },
  {
   "cell_type": "code",
   "execution_count": 2,
   "metadata": {},
   "outputs": [],
   "source": [
    "from ipywidgets import interact, interactive, fixed, interact_manual\n",
    "import ipywidgets as widgets"
   ]
  },
  {
   "cell_type": "code",
   "execution_count": 3,
   "metadata": {},
   "outputs": [],
   "source": [
    "samples = pd.read_excel(u'20.01.23 список образцов Моча.xlsx', header=2)\n",
    "samples.dropna(subset=['Gender'], inplace=True)\n",
    "\n",
    "samples.fillna(0, inplace=True)\n",
    "samples.reset_index(drop=True, inplace=True)"
   ]
  },
  {
   "cell_type": "code",
   "execution_count": 17,
   "metadata": {},
   "outputs": [],
   "source": [
    "spectra1 = pd.read_csv('urine_chm001-250.csv')\n",
    "spectra2 = pd.read_csv('urine_chm251-500.csv')\n",
    "spectra_init = pd.concat([spectra1, spectra2],  ignore_index=True)\n",
    "\n",
    "spectra = spectra_init.filter(regex='^Ch')\n",
    "\n",
    "mmscaler = MinMaxScaler(feature_range=(-1,1))\n",
    "spectra = pd.DataFrame(mmscaler.fit_transform(spectra.T).T)\n",
    "\n",
    "# SS = StandardScaler()\n",
    "# spectra = pd.DataFrame(SS.fit_transform(spectra))\n",
    "\n",
    "del(spectra1, spectra2)\n",
    "\n",
    "frame_lol = samples[['Gender','Age','Dataset']+list(samples.filter(regex=r'_a$').columns)]\n",
    "spectra['Dataset'] = spectra_init['Dataset']\n",
    "spectra = pd.merge(left=spectra, right=frame_lol, how='left', on='Dataset')\n",
    "spectra.dropna(subset=samples.filter(regex=r'_a$').columns, inplace=True)\n",
    "spectra = pd.DataFrame(spectra.values, columns=spectra.columns)"
   ]
  },
  {
   "cell_type": "code",
   "execution_count": 79,
   "metadata": {},
   "outputs": [],
   "source": [
    "from StratifiedGroupKFold import StratifiedGroupKFold as SGKF"
   ]
  },
  {
   "cell_type": "code",
   "execution_count": 76,
   "metadata": {},
   "outputs": [],
   "source": [
    "QDA = QuadraticDiscriminantAnalysis()"
   ]
  },
  {
   "cell_type": "code",
   "execution_count": 78,
   "metadata": {},
   "outputs": [
    {
     "ename": "SyntaxError",
     "evalue": "invalid syntax (<ipython-input-78-d2c00b0cf465>, line 1)",
     "output_type": "error",
     "traceback": [
      "\u001b[0;36m  File \u001b[0;32m\"<ipython-input-78-d2c00b0cf465>\"\u001b[0;36m, line \u001b[0;32m1\u001b[0m\n\u001b[0;31m    QDA.\u001b[0m\n\u001b[0m        ^\u001b[0m\n\u001b[0;31mSyntaxError\u001b[0m\u001b[0;31m:\u001b[0m invalid syntax\n"
     ]
    }
   ],
   "source": [
    "X = spectra.iloc[:,:36]\n",
    "y = spectra\n",
    "sgkf = SGKF()\n",
    "\n",
    "\n",
    "QDA.fit()"
   ]
  },
  {
   "cell_type": "code",
   "execution_count": 118,
   "metadata": {},
   "outputs": [],
   "source": [
    "X = spectra.iloc[:,:36]\n",
    "y = spectra.filter(regex='_a$').iloc[:,:-2]\n",
    "PLS_Multi = pd.concat([pd.DataFrame(PLSCanonical(n_components=3).fit_transform(X,y)[0]), y], axis=1)\n"
   ]
  },
  {
   "cell_type": "code",
   "execution_count": 119,
   "metadata": {},
   "outputs": [
    {
     "data": {
      "text/plain": [
       "Index(['Density_a', 'pH_a', 'Protein_a', 'Bilirubin_a', 'Glucose_a', 'Ketones_a', 'Leukocyte_a', 'Nitrite_a', 'Urobilinogen_a', 'Blood_a', 'Erythrocyte_a', 'Squamous cells_a', 'Hyaline cylinders_a', 'Bacteria_a', 'Crystals_a', 'Ferment_a', 'Small cells_a', 'Pathological cylinders_a', 'Slime_a'], dtype='object')"
      ]
     },
     "execution_count": 119,
     "metadata": {},
     "output_type": "execute_result"
    }
   ],
   "source": [
    "y.columns.astype(str)"
   ]
  },
  {
   "cell_type": "code",
   "execution_count": 121,
   "metadata": {},
   "outputs": [
    {
     "data": {
      "application/vnd.jupyter.widget-view+json": {
       "model_id": "40018d9af0b844be91c9cbf622bf1161",
       "version_major": 2,
       "version_minor": 0
      },
      "text/plain": [
       "interactive(children=(Dropdown(description='selected_anom', options=('Density_a', 'pH_a', 'Protein_a', 'Biliru…"
      ]
     },
     "metadata": {},
     "output_type": "display_data"
    }
   ],
   "source": [
    "@interact\n",
    "def to_plot(selected_anom = y.columns.astype(str)):\n",
    "   \n",
    "    fig, [ax1,ax2,ax3] = plt.subplots(1,3, figsize=(15,5))\n",
    "    \n",
    "    ax1.scatter(PLS_Multi[PLS_Multi[selected_anom]==0][0], PLS_Multi[PLS_Multi[selected_anom]==0][1])\n",
    "    ax1.scatter(PLS_Multi[PLS_Multi[selected_anom]==1][0], PLS_Multi[PLS_Multi[selected_anom]==1][1])\n",
    "    \n",
    "    ax2.scatter(PLS_Multi[PLS_Multi[selected_anom]==0][0], PLS_Multi[PLS_Multi[selected_anom]==0][2])\n",
    "    ax2.scatter(PLS_Multi[PLS_Multi[selected_anom]==1][0], PLS_Multi[PLS_Multi[selected_anom]==1][2])\n",
    "\n",
    "    ax3.scatter(PLS_Multi[PLS_Multi[selected_anom]==0][1], PLS_Multi[PLS_Multi[selected_anom]==0][2])\n",
    "    ax3.scatter(PLS_Multi[PLS_Multi[selected_anom]==1][1], PLS_Multi[PLS_Multi[selected_anom]==1][2])   "
   ]
  },
  {
   "cell_type": "code",
   "execution_count": 86,
   "metadata": {},
   "outputs": [
    {
     "data": {
      "application/vnd.jupyter.widget-view+json": {
       "model_id": "b8fa4ff1b47444d8a5575e1b65018509",
       "version_major": 2,
       "version_minor": 0
      },
      "text/plain": [
       "interactive(children=(Dropdown(description='selected_target', options=('Density_a', 'pH_a', 'Protein_a', 'Gluc…"
      ]
     },
     "metadata": {},
     "output_type": "display_data"
    }
   ],
   "source": [
    "def metrics_ret(y_true, y_pred, y_prob):\n",
    "    acc = accuracy_score(y_true, y_pred)\n",
    "    prec = precision_score(y_true, y_pred, average='binary')\n",
    "    rec = recall_score(y_true, y_pred, average='binary')\n",
    "#     f_score = f1_score(y_true, y_pred, average='binary')\n",
    "    f_score = fbeta_score(y_true, y_pred, beta=5, average='binary')\n",
    "    roc_auc = roc_auc_score(y_true, y_prob, average='micro')\n",
    "    \n",
    "    return [acc, prec, rec, f_score, roc_auc]\n",
    "\n",
    "def predict(clf, X, trsh):\n",
    "    probs = clf.predict_proba(X)\n",
    "    preds = list(map(lambda x: 1 if x>=trsh else 0, probs[:,1]))\n",
    "    return preds\n",
    "\n",
    "\n",
    "\n",
    "@interact\n",
    "def to_show(selected_target = ['Density_a', 'pH_a', 'Protein_a',\n",
    "                               'Glucose_a', 'Ketones_a', 'Leukocyte_a', 'Nitrite_a',\n",
    "                               'Urobilinogen_a', 'Blood_a', 'Erythrocyte_a',\n",
    "                               'Squamous cells_a', 'Hyaline cylinders_a', 'Bacteria_a',\n",
    "                               'Crystals_a', 'Ferment_a', 'Small cells_a', 'Pathological cylinders_a',\n",
    "                               'Slime_a', 'Spermatozoon_a']):\n",
    "    \n",
    "\n",
    "    X = spectra.iloc[:,:36]\n",
    "    y = spectra[selected_target].astype(int)\n",
    "    group = spectra.Dataset\n",
    "    \n",
    "#     QDA = LinearDiscriminantAnalysis(n_components=1)\n",
    "#     QDA_spectra = pd.DataFrame(QDA.fit_transform(X.drop(['f','m','Age'], axis=1), y))\n",
    "#     QDA_spectra['target'] = y.values\n",
    "    \n",
    "    \n",
    "    fig = plt.figure(figsize=(15,6))\n",
    "#     ax1 = fig.add_subplot(121)\n",
    "#     ax1.set_title('Distribution')\n",
    "#     ax1.set_xlabel('QDA Component')\n",
    "#     sns.distplot(QDA_spectra[QDA_spectra.target == 0][0], label='Normal: {}'.format(y.value_counts().values[0]))\n",
    "#     sns.distplot(QDA_spectra[QDA_spectra.target == 1][0], label='Anomaly: {}'.format(y.value_counts().values[1]))\n",
    "#     plt.legend()\n",
    "#     plt.grid()\n",
    "\n",
    "    ax2 = fig.add_subplot(122)\n",
    "    ax2.set_title('ROC Curve')\n",
    "    ax2.set_xlabel('FPR')\n",
    "    ax2.set_ylabel('TPR')\n",
    "\n",
    "    Metrics = []\n",
    "    FPR, TPR = [], []\n",
    "    \n",
    "#     skf = StratifiedKFold(n_splits=10)\n",
    "    TRAIN_ARR, TEST_ARR = SGKF(X, group, y, n_splits=5)\n",
    "    \n",
    "    for train_data, test_data in zip(TRAIN_ARR, TEST_ARR):\n",
    "        Train_X, Test_X = train_data.drop(['Dataset', 'TOTAL_a'], axis=1), test_data.drop(['Dataset', 'TOTAL_a'], axis=1)\n",
    "        Train_y, Test_y = train_data['TOTAL_a'], test_data['TOTAL_a']\n",
    "        \n",
    "        QDA_CV = QuadraticDiscriminantAnalysis().fit(Train_X, Train_y)\n",
    "        \n",
    "        Preds = predict(QDA_CV, Test_X, 0.2) #log_reg.predict(QDA_Test_X)\n",
    "        Probs = QDA_CV.predict_proba(Test_X)\n",
    "        \n",
    "        Metrics.append(metrics_ret(Test_y, Preds, Probs[:,1]))\n",
    "        fpr, tpr, _ = roc_curve(Test_y, Probs[:,1])\n",
    "        plt.plot(fpr,tpr, alpha=0.5)\n",
    "        \n",
    "    plt.plot(range(2), range(2), c='r', linewidth=3, label='Худший случай')\n",
    "    plt.plot([0,0,1], [0,1,1], c='g', linewidth=3, label='Лучший случай')\n",
    "    plt.legend()\n",
    "    plt.grid()\n",
    "    \n",
    "#     QDA_Test_X['target'] = Test_y.values\n",
    "#     y=pd.Series(Test_y.values)\n",
    "#     ax1 = fig.add_subplot(121)\n",
    "#     ax1.set_title('Distribution')\n",
    "#     ax1.set_xlabel('QDA Component')\n",
    "#     sns.distplot(QDA_Test_X[QDA_Test_X.target == 0][0], label='Normal: {}'.format(y.value_counts().values[0]))\n",
    "#     sns.distplot(QDA_Test_X[QDA_Test_X.target == 1][0], label='Anomaly: {}'.format(y.value_counts().values[1]))\n",
    "#     plt.legend()\n",
    "#     plt.grid()\n",
    "        \n",
    "    Metrics = pd.DataFrame(Metrics, columns=['Accuracy', 'Precision', 'Recall', 'F-score', 'ROC-AUC'])\n",
    "    return Metrics.describe()"
   ]
  },
  {
   "cell_type": "code",
   "execution_count": null,
   "metadata": {},
   "outputs": [],
   "source": []
  }
 ],
 "metadata": {
  "kernelspec": {
   "display_name": "Python 3",
   "language": "python",
   "name": "python3"
  },
  "language_info": {
   "codemirror_mode": {
    "name": "ipython",
    "version": 3
   },
   "file_extension": ".py",
   "mimetype": "text/x-python",
   "name": "python",
   "nbconvert_exporter": "python",
   "pygments_lexer": "ipython3",
   "version": "3.7.5"
  }
 },
 "nbformat": 4,
 "nbformat_minor": 2
}
