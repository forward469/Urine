{
 "cells": [
  {
   "cell_type": "code",
   "execution_count": 1,
   "metadata": {},
   "outputs": [],
   "source": [
    "from copy import deepcopy\n",
    "\n",
    "import pandas as pd\n",
    "import numpy as np\n",
    "\n",
    "import matplotlib.pyplot as plt\n",
    "import seaborn as sns\n",
    "\n",
    "from sklearn.preprocessing import MinMaxScaler\n",
    "from sklearn.metrics import classification_report, accuracy_score, f1_score, precision_score,\\\n",
    "                            recall_score, roc_auc_score, roc_curve, cohen_kappa_score, fbeta_score\n",
    "from sklearn.cluster import AgglomerativeClustering, DBSCAN\n",
    "from sklearn.discriminant_analysis import LinearDiscriminantAnalysis, QuadraticDiscriminantAnalysis\n",
    "from sklearn.cross_decomposition import PLSRegression, PLSCanonical\n",
    "from sklearn.decomposition import PCA\n",
    "from sklearn.linear_model import LogisticRegression\n",
    "\n",
    "\n",
    "from sklearn.model_selection import train_test_split, KFold, StratifiedKFold\n",
    "\n",
    "pd.set_option('display.max_rows', 500)\n",
    "pd.set_option('display.max_columns', 500)\n",
    "pd.set_option('display.width', 1000)\n",
    "\n",
    "import warnings\n",
    "warnings.filterwarnings('ignore')"
   ]
  },
  {
   "cell_type": "code",
   "execution_count": 2,
   "metadata": {},
   "outputs": [],
   "source": [
    "from ipywidgets import interact, interactive, fixed, interact_manual\n",
    "import ipywidgets as widgets"
   ]
  },
  {
   "cell_type": "code",
   "execution_count": 3,
   "metadata": {},
   "outputs": [],
   "source": [
    "samples = pd.read_excel(u'20.01.23 список образцов Моча.xlsx', header=2)\n",
    "samples.dropna(subset=['Gender'], inplace=True)\n",
    "\n",
    "samples.fillna(0, inplace=True)\n",
    "samples.reset_index(drop=True, inplace=True)"
   ]
  },
  {
   "cell_type": "code",
   "execution_count": 4,
   "metadata": {},
   "outputs": [],
   "source": [
    "spectra1 = pd.read_csv('urine_chm001-250.csv')\n",
    "spectra2 = pd.read_csv('urine_chm251-500.csv')\n",
    "spectra_init = pd.concat([spectra1, spectra2],  ignore_index=True)\n",
    "\n",
    "spectra = spectra_init.filter(regex='^Ch')\n",
    "\n",
    "mmscaler = MinMaxScaler(feature_range=(-1,1))\n",
    "spectra = pd.DataFrame(mmscaler.fit_transform(spectra.T).T)\n",
    "del(spectra1, spectra2)\n",
    "\n",
    "frame_lol = samples[['Dataset']+list(samples.filter(regex=r'_a$').columns)]\n",
    "spectra['Dataset'] = spectra_init['Dataset']\n",
    "spectra = pd.merge(left=spectra, right=frame_lol, how='left', on='Dataset')\n",
    "spectra.dropna(subset=samples.filter(regex=r'_a$').columns, inplace=True)"
   ]
  },
  {
   "cell_type": "markdown",
   "metadata": {},
   "source": [
    "## PLS ( LDA ) + Differantation by 2 diods + LogReg"
   ]
  },
  {
   "cell_type": "markdown",
   "metadata": {},
   "source": [
    "* Используем LDA для снижения размерности пространства до одного признака для каждого диода в отдельности, получаем двумерное признаковое описание\n",
    "* На новых признаках используем LogReg\n",
    "\n",
    "### Проблема\n",
    "__Жесткая несбалансированность классов__"
   ]
  },
  {
   "cell_type": "code",
   "execution_count": 33,
   "metadata": {},
   "outputs": [
    {
     "data": {
      "application/vnd.jupyter.widget-view+json": {
       "model_id": "e75e40dd2e0849948cc2d3287e0a66d8",
       "version_major": 2,
       "version_minor": 0
      },
      "text/plain": [
       "interactive(children=(Dropdown(description='selected_target', options=('Density_a', 'pH_a', 'Protein_a', 'Gluc…"
      ]
     },
     "metadata": {},
     "output_type": "display_data"
    }
   ],
   "source": [
    "@interact\n",
    "def to_show(selected_target = ['Density_a', 'pH_a', 'Protein_a',\n",
    "                               'Glucose_a', 'Ketones_a', 'Leukocyte_a', 'Nitrite_a',\n",
    "                               'Urobilinogen_a', 'Blood_a', 'Erythrocyte_a',\n",
    "                               'Squamous cells_a', 'Hyaline cylinders_a', 'Bacteria_a',\n",
    "                               'Crystals_a', 'Ferment_a', 'Small cells_a', 'Pathological cylinders_a',\n",
    "                               'Slime_a', 'Spermatozoon_a']):\n",
    "    X = spectra.iloc[:,:36]\n",
    "    X1 = spectra.iloc[:,0:36:2]\n",
    "    X2 = spectra.iloc[:,1:37:2]\n",
    "    y = spectra[selected_target]\n",
    "    \n",
    "    LDA = LinearDiscriminantAnalysis(n_components=1)\n",
    "    LDA_Data = pd.DataFrame(LDA.fit_transform(X,y))\n",
    "    LDA_Data['target'] = y.values\n",
    "    \n",
    "    LDA_1 = LinearDiscriminantAnalysis(n_components=1)\n",
    "    LDA_spectra = pd.DataFrame(LDA_1.fit_transform(X1,y))\n",
    "    LDA_2 = LinearDiscriminantAnalysis(n_components=1)\n",
    "    LDA_spectra[1] = LDA_2.fit_transform(X2,y)\n",
    "    LDA_spectra['target'] = y.values\n",
    "    \n",
    "    fig, (ax1, ax2) = plt.subplots(1,2, figsize=(14,6))\n",
    "    ax1.scatter(LDA_spectra[LDA_spectra.target==0][0], LDA_spectra[LDA_spectra.target==0][1])\n",
    "    ax1.scatter(LDA_spectra[LDA_spectra.target==1][0], LDA_spectra[LDA_spectra.target==1][1])\n",
    "    \n",
    "    ax2\n",
    "    sns.distplot(LDA_Data[LDA_Data.target==0][0])\n",
    "    sns.distplot(LDA_Data[LDA_Data.target==1][0])"
   ]
  },
  {
   "cell_type": "markdown",
   "metadata": {},
   "source": [
    "# Распределения стали хуже, продолжать смысла нет"
   ]
  },
  {
   "cell_type": "code",
   "execution_count": null,
   "metadata": {},
   "outputs": [],
   "source": []
  }
 ],
 "metadata": {
  "kernelspec": {
   "display_name": "Python 3",
   "language": "python",
   "name": "python3"
  },
  "language_info": {
   "codemirror_mode": {
    "name": "ipython",
    "version": 3
   },
   "file_extension": ".py",
   "mimetype": "text/x-python",
   "name": "python",
   "nbconvert_exporter": "python",
   "pygments_lexer": "ipython3",
   "version": "3.7.5"
  }
 },
 "nbformat": 4,
 "nbformat_minor": 2
}
