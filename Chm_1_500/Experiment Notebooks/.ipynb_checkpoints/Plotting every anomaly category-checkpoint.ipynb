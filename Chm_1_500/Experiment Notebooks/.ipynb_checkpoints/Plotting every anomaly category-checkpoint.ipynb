{
 "cells": [
  {
   "cell_type": "code",
   "execution_count": 1,
   "metadata": {},
   "outputs": [],
   "source": [
    "%config InlineBackend.figure_format='retina'"
   ]
  },
  {
   "cell_type": "code",
   "execution_count": 2,
   "metadata": {},
   "outputs": [
    {
     "name": "stderr",
     "output_type": "stream",
     "text": [
      "/opt/miniconda3/envs/sphere-py37/lib/python3.7/site-packages/statsmodels/tools/_testing.py:19: FutureWarning: pandas.util.testing is deprecated. Use the functions in the public API at pandas.testing instead.\n",
      "  import pandas.util.testing as tm\n"
     ]
    }
   ],
   "source": [
    "from copy import deepcopy\n",
    "\n",
    "import pandas as pd\n",
    "import numpy as np\n",
    "\n",
    "import matplotlib.pyplot as plt\n",
    "import seaborn as sns\n",
    "\n",
    "from sklearn.preprocessing import MinMaxScaler\n",
    "\n",
    "from sklearn.discriminant_analysis import LinearDiscriminantAnalysis, QuadraticDiscriminantAnalysis\n",
    "from sklearn.cross_decomposition import PLSRegression, PLSCanonical\n",
    "from sklearn.decomposition import PCA\n",
    "\n",
    "pd.set_option('display.max_rows', 500)\n",
    "pd.set_option('display.max_columns', 500)\n",
    "pd.set_option('display.width', 1000)\n",
    "\n",
    "import warnings\n",
    "warnings.filterwarnings('ignore')"
   ]
  },
  {
   "cell_type": "code",
   "execution_count": 3,
   "metadata": {},
   "outputs": [],
   "source": [
    "from ipywidgets import interact, interactive, fixed, interact_manual\n",
    "import ipywidgets as widgets"
   ]
  },
  {
   "cell_type": "code",
   "execution_count": 4,
   "metadata": {},
   "outputs": [],
   "source": [
    "samples = pd.read_excel(\"../Data/20.01.23 список образцов Моча.xlsx\", header=2)\n",
    "samples.dropna(subset=['Gender'], inplace=True)\n",
    "\n",
    "samples.fillna(0, inplace=True)\n",
    "samples.reset_index(drop=True, inplace=True)"
   ]
  },
  {
   "cell_type": "code",
   "execution_count": 5,
   "metadata": {},
   "outputs": [
    {
     "data": {
      "text/plain": [
       "Index(['Density_a', 'pH_a', 'Protein_a', 'Bilirubin_a', 'Glucose_a', 'Ketones_a', 'Leukocyte_a', 'Nitrite_a', 'Urobilinogen_a', 'Blood_a', 'Erythrocyte_a', 'Squamous cells_a', 'Hyaline cylinders_a', 'Bacteria_a', 'Crystals_a', 'Ferment_a', 'Small cells_a', 'Pathological cylinders_a', 'Slime_a', 'Spermatozoon_a', 'TOTAL_a'], dtype='object')"
      ]
     },
     "execution_count": 5,
     "metadata": {},
     "output_type": "execute_result"
    }
   ],
   "source": [
    "samples.filter(regex=r'_a$').columns"
   ]
  },
  {
   "cell_type": "code",
   "execution_count": 6,
   "metadata": {},
   "outputs": [],
   "source": [
    "spectra1 = pd.read_csv(\"../Data/urine_chm001-250.csv\")\n",
    "spectra2 = pd.read_csv(\"../Data/urine_chm251-500.csv\")\n",
    "spectra_init = pd.concat([spectra1, spectra2],  ignore_index=True)\n",
    "\n",
    "spectra = spectra_init.filter(regex='^Ch')\n",
    "\n",
    "mmscaler = MinMaxScaler(feature_range=(-1,1))\n",
    "spectra = pd.DataFrame(mmscaler.fit_transform(spectra.T).T)\n",
    "del(spectra1, spectra2)\n",
    "\n",
    "frame_lol = samples[['Dataset']+list(samples.filter(regex=r'_a$').columns)]\n",
    "spectra['Dataset'] = spectra_init['Dataset']\n",
    "spectra = pd.merge(left=spectra, right=frame_lol, how='left', on='Dataset')\n",
    "spectra.dropna(subset=samples.filter(regex=r'_a$').columns, inplace=True)"
   ]
  },
  {
   "cell_type": "code",
   "execution_count": 7,
   "metadata": {},
   "outputs": [],
   "source": [
    "Categories = ['Density_a', 'pH_a', 'Protein_a',\n",
    "              'Glucose_a', 'Ketones_a', 'Leukocyte_a', 'Nitrite_a',\n",
    "              'Urobilinogen_a', 'Blood_a', 'Erythrocyte_a',\n",
    "              'Squamous cells_a', 'Hyaline cylinders_a', 'Bacteria_a',\n",
    "              'Crystals_a', 'Ferment_a', 'Small cells_a', 'Pathological cylinders_a',\n",
    "              'Slime_a', 'Spermatozoon_a']"
   ]
  },
  {
   "cell_type": "code",
   "execution_count": 8,
   "metadata": {},
   "outputs": [],
   "source": [
    "DIR_PATH = \"../PLS_csv Files for plot\"\n",
    "\n",
    "for anom in Categories:\n",
    "    X = spectra.iloc[:,:36]\n",
    "    y = spectra[anom]\n",
    "    \n",
    "    PLS_CV = PLSRegression(n_components=3)\n",
    "    PLS_Data = pd.DataFrame(PLS_CV.fit_transform(X, y)[0])\n",
    "    PLS_Data['target'] = y.values\n",
    "    \n",
    "    PLS_Data.to_csv('/'.join([DIR_PATH, \"{}_PLS.csv\".format(anom)]))"
   ]
  }
 ],
 "metadata": {
  "kernelspec": {
   "display_name": "Python 3",
   "language": "python",
   "name": "python3"
  },
  "language_info": {
   "codemirror_mode": {
    "name": "ipython",
    "version": 3
   },
   "file_extension": ".py",
   "mimetype": "text/x-python",
   "name": "python",
   "nbconvert_exporter": "python",
   "pygments_lexer": "ipython3",
   "version": "3.7.5"
  }
 },
 "nbformat": 4,
 "nbformat_minor": 2
}
