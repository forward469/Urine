{
 "cells": [
  {
   "cell_type": "code",
   "execution_count": 1,
   "metadata": {},
   "outputs": [],
   "source": [
    "from copy import deepcopy\n",
    "\n",
    "import pandas as pd\n",
    "import numpy as np\n",
    "\n",
    "import matplotlib.pyplot as plt\n",
    "import seaborn as sns\n",
    "\n",
    "from sklearn.preprocessing import MinMaxScaler\n",
    "from sklearn.metrics import classification_report, accuracy_score, f1_score, precision_score,\\\n",
    "                            recall_score, roc_auc_score, roc_curve, cohen_kappa_score, fbeta_score\n",
    "from sklearn.model_selection import GroupKFold\n",
    "\n",
    "\n",
    "import catboost\n",
    "from catboost import *\n",
    "\n",
    "from sklearn.model_selection import train_test_split, KFold, StratifiedKFold\n",
    "\n",
    "pd.set_option('display.max_rows', 500)\n",
    "pd.set_option('display.max_columns', 500)\n",
    "pd.set_option('display.width', 1000)\n",
    "\n",
    "import warnings\n",
    "warnings.filterwarnings('ignore')"
   ]
  },
  {
   "cell_type": "code",
   "execution_count": 2,
   "metadata": {},
   "outputs": [],
   "source": [
    "from ipywidgets import interact, interactive, fixed, interact_manual\n",
    "import ipywidgets as widgets"
   ]
  },
  {
   "cell_type": "code",
   "execution_count": 3,
   "metadata": {},
   "outputs": [],
   "source": [
    "samples = pd.read_excel(u'20.01.23 список образцов Моча.xlsx', header=2)\n",
    "samples.dropna(subset=['Gender'], inplace=True)\n",
    "\n",
    "samples.fillna(0, inplace=True)\n",
    "samples.reset_index(drop=True, inplace=True)"
   ]
  },
  {
   "cell_type": "code",
   "execution_count": 4,
   "metadata": {},
   "outputs": [],
   "source": [
    "spectra1 = pd.read_csv('urine_chm001-250.csv')\n",
    "spectra2 = pd.read_csv('urine_chm251-500.csv')\n",
    "spectra_init = pd.concat([spectra1, spectra2],  ignore_index=True)\n",
    "\n",
    "spectra = spectra_init.filter(regex='^Ch')\n",
    "\n",
    "mmscaler = MinMaxScaler(feature_range=(-1,1))\n",
    "# spectra = pd.DataFrame(mmscaler.fit_transform(spectra.T).T)\n",
    "del(spectra1, spectra2)\n",
    "\n",
    "frame_lol = samples[['Gender','Age','Dataset']+list(samples.filter(regex=r'_a$').columns)]\n",
    "spectra['Dataset'] = spectra_init['Dataset']\n",
    "spectra = pd.merge(left=spectra, right=frame_lol, how='left', on='Dataset')\n",
    "spectra.dropna(subset=samples.filter(regex=r'_a$').columns, inplace=True)"
   ]
  },
  {
   "cell_type": "code",
   "execution_count": 19,
   "metadata": {},
   "outputs": [
    {
     "data": {
      "application/vnd.jupyter.widget-view+json": {
       "model_id": "3073c4c3cc1144c9b5e64e995ec57008",
       "version_major": 2,
       "version_minor": 0
      },
      "text/plain": [
       "interactive(children=(Dropdown(description='selected_target', options=('Density_a', 'pH_a', 'Protein_a', 'Gluc…"
      ]
     },
     "metadata": {},
     "output_type": "display_data"
    }
   ],
   "source": [
    "@interact\n",
    "def to_show(selected_target = ['Density_a', 'pH_a', 'Protein_a',\n",
    "                               'Glucose_a', 'Ketones_a', 'Leukocyte_a', 'Nitrite_a',\n",
    "                               'Urobilinogen_a', 'Blood_a', 'Erythrocyte_a',\n",
    "                               'Squamous cells_a', 'Hyaline cylinders_a', 'Bacteria_a',\n",
    "                               'Crystals_a', 'Ferment_a', 'Small cells_a', 'Pathological cylinders_a',\n",
    "                               'Slime_a', 'Spermatozoon_a']):\n",
    "    \n",
    "    X = spectra.iloc[:,:39]\n",
    "    y = spectra[selected_target]\n",
    "    groups = X.Dataset.values\n",
    "    X.drop('Dataset', axis=1, inplace=True)\n",
    "    \n",
    "    gkf = GroupKFold(3)\n",
    "    \n",
    "    # counter\n",
    "    cntr = 0\n",
    "    plt_flag = False\n",
    "\n",
    "    for train_indicies, test_indicies in gkf.split(X, y, groups):\n",
    "        cntr+=1\n",
    "        if cntr == 3: plt_flag = True\n",
    "\n",
    "        Train_X, Test_X = X.iloc[train_indicies, :], X.iloc[test_indicies, :]\n",
    "        Train_y , Test_y = y.iloc[train_indicies], y.iloc[test_indicies]\n",
    "\n",
    "#         # initialize Pool\n",
    "#         train_pool = Pool(Train_X, Train_y, cat_features=['Gender'])\n",
    "#         test_pool = Pool(Test_X, cat_features=[1]) \n",
    "\n",
    "        # specify the training parameters \n",
    "        model = CatBoostClassifier(\n",
    "            loss_function='Logloss',\n",
    "            iterations=5000,\n",
    "            random_seed=21,\n",
    "            learning_rate=0.005,\n",
    "            custom_loss=['AUC', 'Accuracy', 'Precision', 'Recall'],\n",
    "            eval_metric='Precision',\n",
    "            use_best_model=True,\n",
    "            early_stopping_rounds=100,\n",
    "            class_weights=(0.05, 0.95)\n",
    "        )\n",
    "        model.fit(\n",
    "            Train_X, Train_y,\n",
    "            cat_features=['Gender'],\n",
    "            eval_set=(Test_X, Test_y),\n",
    "            verbose=False,\n",
    "            plot=plt_flag\n",
    "        )\n",
    "        # make the prediction using the resulting model\n",
    "        preds = model.predict(Test_X)\n",
    "        print(classification_report(Test_y, preds))\n",
    "        "
   ]
  },
  {
   "cell_type": "markdown",
   "metadata": {},
   "source": [
    "## CV for all Anomalies : threshold finding"
   ]
  },
  {
   "cell_type": "code",
   "execution_count": 20,
   "metadata": {},
   "outputs": [],
   "source": [
    "from tqdm import tqdm_notebook\n",
    "from itertools import product"
   ]
  },
  {
   "cell_type": "code",
   "execution_count": 21,
   "metadata": {},
   "outputs": [],
   "source": [
    "def predict(clf, X, trsh):\n",
    "    probs = clf.predict_proba(X)\n",
    "    preds = list(map(lambda x: 1 if x>=trsh else 0, probs[:,1]))\n",
    "    return preds\n",
    "\n",
    "def metrics_ret(y_true, y_pred, y_prob):\n",
    "    acc = accuracy_score(y_true, y_pred)\n",
    "    prec = precision_score(y_true, y_pred)\n",
    "    rec = recall_score(y_true, y_pred)\n",
    "    f1 = f1_score(y_true, y_pred)\n",
    "    cohen_kappa = cohen_kappa_score(y_true, y_pred)\n",
    "    return np.array([acc, prec, rec, f1, cohen_kappa])"
   ]
  },
  {
   "cell_type": "code",
   "execution_count": 22,
   "metadata": {},
   "outputs": [],
   "source": [
    "Anomaly_Cols = ['Density_a', 'pH_a', 'Protein_a',\n",
    "               'Glucose_a', 'Ketones_a', 'Leukocyte_a', 'Nitrite_a',\n",
    "               'Urobilinogen_a', 'Blood_a', 'Erythrocyte_a',\n",
    "               'Squamous cells_a', 'Hyaline cylinders_a', 'Bacteria_a',\n",
    "               'Crystals_a', 'Ferment_a', 'Small cells_a', 'Pathological cylinders_a',\n",
    "               'Slime_a', 'Spermatozoon_a']\n",
    "\n",
    "Metrics = ['Accuracy', 'Precision', 'Recall', 'F-Score', 'Cohen`s kappa', 'Norm/Anom']\n",
    "\n",
    "Exam_results_df = pd.DataFrame(index=pd.MultiIndex.from_product([Anomaly_Cols,['CV', 'EXAM']]), columns=Metrics)"
   ]
  },
  {
   "cell_type": "code",
   "execution_count": 24,
   "metadata": {},
   "outputs": [
    {
     "data": {
      "application/vnd.jupyter.widget-view+json": {
       "model_id": "c3c162f7967c4f7684addbeb018f8c93",
       "version_major": 2,
       "version_minor": 0
      },
      "text/plain": [
       "HBox(children=(IntProgress(value=0, max=19), HTML(value='')))"
      ]
     },
     "metadata": {},
     "output_type": "display_data"
    },
    {
     "ename": "AttributeError",
     "evalue": "'DataFrame' object has no attribute 'Dataset'",
     "output_type": "error",
     "traceback": [
      "\u001b[0;31m---------------------------------------------------------------------------\u001b[0m",
      "\u001b[0;31mAttributeError\u001b[0m                            Traceback (most recent call last)",
      "\u001b[0;32m<ipython-input-24-f541993e45d4>\u001b[0m in \u001b[0;36m<module>\u001b[0;34m\u001b[0m\n\u001b[1;32m     22\u001b[0m     \u001b[0mMetrics\u001b[0m \u001b[0;34m=\u001b[0m \u001b[0mdict\u001b[0m\u001b[0;34m(\u001b[0m\u001b[0;34m)\u001b[0m\u001b[0;34m\u001b[0m\u001b[0;34m\u001b[0m\u001b[0m\n\u001b[1;32m     23\u001b[0m     \u001b[0my\u001b[0m \u001b[0;34m=\u001b[0m \u001b[0mspectra\u001b[0m\u001b[0;34m[\u001b[0m\u001b[0mANOMAL\u001b[0m\u001b[0;34m]\u001b[0m\u001b[0;34m\u001b[0m\u001b[0;34m\u001b[0m\u001b[0m\n\u001b[0;32m---> 24\u001b[0;31m     \u001b[0mGroups\u001b[0m \u001b[0;34m=\u001b[0m \u001b[0mX\u001b[0m\u001b[0;34m.\u001b[0m\u001b[0mDataset\u001b[0m\u001b[0;34m.\u001b[0m\u001b[0mvalues\u001b[0m\u001b[0;34m\u001b[0m\u001b[0;34m\u001b[0m\u001b[0m\n\u001b[0m\u001b[1;32m     25\u001b[0m     \u001b[0mX\u001b[0m\u001b[0;34m.\u001b[0m\u001b[0mdrop\u001b[0m\u001b[0;34m(\u001b[0m\u001b[0;34m'Dataset'\u001b[0m\u001b[0;34m,\u001b[0m \u001b[0maxis\u001b[0m\u001b[0;34m=\u001b[0m\u001b[0;36m1\u001b[0m\u001b[0;34m,\u001b[0m \u001b[0minplace\u001b[0m\u001b[0;34m=\u001b[0m\u001b[0;32mTrue\u001b[0m\u001b[0;34m)\u001b[0m\u001b[0;34m\u001b[0m\u001b[0;34m\u001b[0m\u001b[0m\n\u001b[1;32m     26\u001b[0m \u001b[0;34m\u001b[0m\u001b[0m\n",
      "\u001b[0;32m/opt/miniconda3/envs/sphere-py37/lib/python3.7/site-packages/pandas/core/generic.py\u001b[0m in \u001b[0;36m__getattr__\u001b[0;34m(self, name)\u001b[0m\n\u001b[1;32m   5177\u001b[0m             \u001b[0;32mif\u001b[0m \u001b[0mself\u001b[0m\u001b[0;34m.\u001b[0m\u001b[0m_info_axis\u001b[0m\u001b[0;34m.\u001b[0m\u001b[0m_can_hold_identifiers_and_holds_name\u001b[0m\u001b[0;34m(\u001b[0m\u001b[0mname\u001b[0m\u001b[0;34m)\u001b[0m\u001b[0;34m:\u001b[0m\u001b[0;34m\u001b[0m\u001b[0;34m\u001b[0m\u001b[0m\n\u001b[1;32m   5178\u001b[0m                 \u001b[0;32mreturn\u001b[0m \u001b[0mself\u001b[0m\u001b[0;34m[\u001b[0m\u001b[0mname\u001b[0m\u001b[0;34m]\u001b[0m\u001b[0;34m\u001b[0m\u001b[0;34m\u001b[0m\u001b[0m\n\u001b[0;32m-> 5179\u001b[0;31m             \u001b[0;32mreturn\u001b[0m \u001b[0mobject\u001b[0m\u001b[0;34m.\u001b[0m\u001b[0m__getattribute__\u001b[0m\u001b[0;34m(\u001b[0m\u001b[0mself\u001b[0m\u001b[0;34m,\u001b[0m \u001b[0mname\u001b[0m\u001b[0;34m)\u001b[0m\u001b[0;34m\u001b[0m\u001b[0;34m\u001b[0m\u001b[0m\n\u001b[0m\u001b[1;32m   5180\u001b[0m \u001b[0;34m\u001b[0m\u001b[0m\n\u001b[1;32m   5181\u001b[0m     \u001b[0;32mdef\u001b[0m \u001b[0m__setattr__\u001b[0m\u001b[0;34m(\u001b[0m\u001b[0mself\u001b[0m\u001b[0;34m,\u001b[0m \u001b[0mname\u001b[0m\u001b[0;34m,\u001b[0m \u001b[0mvalue\u001b[0m\u001b[0;34m)\u001b[0m\u001b[0;34m:\u001b[0m\u001b[0;34m\u001b[0m\u001b[0;34m\u001b[0m\u001b[0m\n",
      "\u001b[0;31mAttributeError\u001b[0m: 'DataFrame' object has no attribute 'Dataset'"
     ]
    }
   ],
   "source": [
    "## Поиск порога\n",
    "\n",
    "def max_metric(name, y_true, y_pred):\n",
    "    if name=='precision':\n",
    "        return precision_score(y_true, y_pred)\n",
    "    elif name=='recall':\n",
    "        return recall_score(y_true, y_pred)\n",
    "    elif name=='f-score':\n",
    "        return fbeta_score(y_true, y_pred, beta=1)\n",
    "    elif name=='roc-auc':\n",
    "        return roc_auc_score(y_true, y_pred)\n",
    "    elif name=='cohen':\n",
    "        return cohen_kappa_score(y_true, y_pred)\n",
    "    \n",
    "\n",
    "Best_trsh_regul_dict = {}\n",
    "\n",
    "\n",
    "X = spectra.iloc[:,:39]\n",
    "\n",
    "for ANOMAL in tqdm_notebook(Anomaly_Cols):\n",
    "    Metrics = dict()\n",
    "    y = spectra[ANOMAL]\n",
    "    Groups = X.Dataset.values\n",
    "    X.drop('Dataset', axis=1, inplace=True)\n",
    "\n",
    "\n",
    "    BEST_TRSH = 0.5\n",
    "    gkf = GroupKFold(4)\n",
    "    for TRSH, LR in product(np.arange(0.05,1.0,0.05), [0.08, 0.1, 0.12]):\n",
    "        temp_results = []\n",
    "        for train_inds, test_inds in gkf.split(X, y, Groups):\n",
    "            Train_X, Train_y = X.iloc[train_inds,:], y.iloc[train_inds]\n",
    "            Test_X, Test_y =  X.iloc[test_inds,:], y.iloc[test_inds]\n",
    "\n",
    "#             LDA = LinearDiscriminantAnalysis(n_components=1)\n",
    "#             LDA_model = LDA.fit(Train_X, Train_y)\n",
    "#             LDA_train = pd.DataFrame(LDA_model.transform(Train_X))\n",
    "#             LDA_train['target'] = Train_y.values\n",
    "#             LDA_test = pd.DataFrame(LDA_model.transform(Test_X))\n",
    "#             LDA_test['target'] = Test_y.values\n",
    "\n",
    "            model = CatBoostClassifier(\n",
    "            loss_function='Logloss',\n",
    "            iterations=500,\n",
    "            random_seed=21,\n",
    "            learning_rate=LR,\n",
    "            custom_loss=['AUC', 'Accuracy', 'Precision', 'Recall'],\n",
    "            #eval_metric='AUC',\n",
    "            use_best_model=True,\n",
    "            early_stopping_rounds=20,\n",
    "            class_weights=(0.05, 0.95)\n",
    "            )\n",
    "    \n",
    "            model.fit(\n",
    "                Train_X, Train_y,\n",
    "                cat_features=['Gender'],\n",
    "                eval_set=(Test_X, Test_y),\n",
    "                verbose=False,\n",
    "                plot=False\n",
    "            )\n",
    "            Preds = predict(model, Test_X, TRSH)\n",
    "            temp_results.append(max_metric('f-score', Test_y, Preds))\n",
    "            \n",
    "        Metrics[np.mean(temp_results)] = (TRSH.round(2), LR)\n",
    "    \n",
    "    BEST_TRSH_LR = Metrics[max(Metrics)]\n",
    "    Best_trsh_regul_dict[ANOMAL] = BEST_TRSH_LR"
   ]
  },
  {
   "cell_type": "code",
   "execution_count": null,
   "metadata": {},
   "outputs": [],
   "source": []
  }
 ],
 "metadata": {
  "kernelspec": {
   "display_name": "Python 3",
   "language": "python",
   "name": "python3"
  },
  "language_info": {
   "codemirror_mode": {
    "name": "ipython",
    "version": 3
   },
   "file_extension": ".py",
   "mimetype": "text/x-python",
   "name": "python",
   "nbconvert_exporter": "python",
   "pygments_lexer": "ipython3",
   "version": "3.7.5"
  }
 },
 "nbformat": 4,
 "nbformat_minor": 2
}
