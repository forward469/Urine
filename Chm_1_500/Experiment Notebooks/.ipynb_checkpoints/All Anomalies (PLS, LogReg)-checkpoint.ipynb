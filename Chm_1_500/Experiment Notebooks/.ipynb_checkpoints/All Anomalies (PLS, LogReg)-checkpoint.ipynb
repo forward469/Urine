{
 "cells": [
  {
   "cell_type": "markdown",
   "metadata": {},
   "source": [
    "## Установка сторонних библиотек"
   ]
  },
  {
   "cell_type": "markdown",
   "metadata": {},
   "source": [
    "!pip install seaborn pandas ipywidgets"
   ]
  },
  {
   "cell_type": "markdown",
   "metadata": {},
   "source": [
    "!pip install -U imbalanced-learn"
   ]
  },
  {
   "cell_type": "code",
   "execution_count": 1,
   "metadata": {},
   "outputs": [],
   "source": [
    "%config InlineBackend.figure_format='retina'"
   ]
  },
  {
   "cell_type": "code",
   "execution_count": 2,
   "metadata": {},
   "outputs": [],
   "source": [
    "from sklearn.model_selection import StratifiedKFold"
   ]
  },
  {
   "cell_type": "code",
   "execution_count": 3,
   "metadata": {},
   "outputs": [],
   "source": [
    "from StratifiedGroupKFold import StratifiedGroupKFold as SGKF"
   ]
  },
  {
   "cell_type": "code",
   "execution_count": 4,
   "metadata": {},
   "outputs": [],
   "source": [
    "from copy import deepcopy\n",
    "\n",
    "import pandas as pd\n",
    "import numpy as np\n",
    "\n",
    "import matplotlib.pyplot as plt\n",
    "import seaborn as sns\n",
    "\n",
    "from sklearn.preprocessing import MinMaxScaler\n",
    "from sklearn.metrics import classification_report, accuracy_score, f1_score, precision_score,\\\n",
    "                            recall_score, roc_auc_score, roc_curve, cohen_kappa_score, fbeta_score\n",
    "from sklearn.cluster import AgglomerativeClustering, DBSCAN\n",
    "from sklearn.discriminant_analysis import LinearDiscriminantAnalysis, QuadraticDiscriminantAnalysis\n",
    "from sklearn.cross_decomposition import PLSRegression, PLSCanonical\n",
    "from sklearn.decomposition import PCA\n",
    "from sklearn.linear_model import LogisticRegression\n",
    "\n",
    "\n",
    "from sklearn.model_selection import train_test_split, KFold, StratifiedKFold, GroupKFold\n",
    "\n",
    "pd.set_option('display.max_rows', 500)\n",
    "pd.set_option('display.max_columns', 500)\n",
    "pd.set_option('display.width', 1000)\n",
    "\n",
    "import warnings\n",
    "warnings.filterwarnings('ignore')"
   ]
  },
  {
   "cell_type": "code",
   "execution_count": 5,
   "metadata": {},
   "outputs": [],
   "source": [
    "from ipywidgets import interact, interactive, fixed, interact_manual\n",
    "import ipywidgets as widgets"
   ]
  },
  {
   "cell_type": "markdown",
   "metadata": {},
   "source": [
    "## Загрузим данные"
   ]
  },
  {
   "cell_type": "code",
   "execution_count": 6,
   "metadata": {},
   "outputs": [],
   "source": [
    "samples = pd.read_excel(u'20.01.23 список образцов Моча.xlsx', header=2)\n",
    "samples.dropna(subset=['Gender'], inplace=True)\n",
    "\n",
    "samples.fillna(0, inplace=True)\n",
    "samples.reset_index(drop=True, inplace=True)"
   ]
  },
  {
   "cell_type": "code",
   "execution_count": 7,
   "metadata": {},
   "outputs": [
    {
     "data": {
      "text/plain": [
       "Index(['Density_a', 'pH_a', 'Protein_a', 'Bilirubin_a', 'Glucose_a', 'Ketones_a', 'Leukocyte_a', 'Nitrite_a', 'Urobilinogen_a', 'Blood_a', 'Erythrocyte_a', 'Squamous cells_a', 'Hyaline cylinders_a', 'Bacteria_a', 'Crystals_a', 'Ferment_a', 'Small cells_a', 'Pathological cylinders_a', 'Slime_a', 'Spermatozoon_a', 'TOTAL_a'], dtype='object')"
      ]
     },
     "execution_count": 7,
     "metadata": {},
     "output_type": "execute_result"
    }
   ],
   "source": [
    "samples.filter(regex=r'_a$').columns"
   ]
  },
  {
   "cell_type": "code",
   "execution_count": 8,
   "metadata": {},
   "outputs": [],
   "source": [
    "spectra1 = pd.read_csv('urine_chm001-250.csv')\n",
    "spectra2 = pd.read_csv('urine_chm251-500.csv')\n",
    "spectra_init = pd.concat([spectra1, spectra2], axis=0)\n",
    "\n",
    "spectra = spectra_init.filter(regex='^Ch')\n",
    "\n",
    "# mmscaler = MinMaxScaler(feature_range=(-1,1))\n",
    "# spectra = pd.DataFrame(mmscaler.fit_transform(spectra.T).T)\n",
    "del(spectra1, spectra2)\n",
    "\n",
    "frame_lol = samples[['Gender','Age','Dataset']+list(samples.filter(regex=r'_a$').columns)]\n",
    "spectra['Dataset'] = spectra_init['Dataset']\n",
    "spectra = pd.merge(left=spectra, right=frame_lol, how='left', on='Dataset')\n",
    "# spectra.dropna(subset=samples.filter(regex=r'_a$').columns, inplace=True)\n",
    "spectra.dropna(how='any', inplace=True)\n",
    "# spectra = spectra.reindex(index=range(spectra.shape[0]))\n",
    "spectra = pd.DataFrame(spectra.values, columns=spectra.columns)"
   ]
  },
  {
   "cell_type": "markdown",
   "metadata": {},
   "source": [
    "## PLS ( LDA ) + LogReg"
   ]
  },
  {
   "cell_type": "markdown",
   "metadata": {},
   "source": [
    "* Используем LDA для снижения размерности пространства до одного признака (ограничение метода, не более одной компоненты)\n",
    "* На новом признаке используем LogReg\n",
    "\n",
    "### Проблема\n",
    "__Жесткая несбалансированность классов__"
   ]
  },
  {
   "cell_type": "code",
   "execution_count": 337,
   "metadata": {},
   "outputs": [],
   "source": [
    "def Young():\n",
    "    return int(5*np.random.randn()+20)\n",
    "def Old():\n",
    "    return int(12*np.random.randn()+67)\n",
    "\n",
    "def gender():\n",
    "    return np.random.choice(['m','f'])"
   ]
  },
  {
   "cell_type": "code",
   "execution_count": 338,
   "metadata": {},
   "outputs": [],
   "source": [
    "a, b = [], []\n",
    "for _ in range(2000):\n",
    "    a.append(Young())\n",
    "    b.append(Old())\n",
    "Missing_Ages = np.array(a+b)\n",
    "\n",
    "g = []\n",
    "for _ in range(5000):\n",
    "    g.append(gender())\n",
    "Missing_Genders = np.array(g)\n"
   ]
  },
  {
   "cell_type": "code",
   "execution_count": 315,
   "metadata": {},
   "outputs": [],
   "source": [
    "spectra.Age.fillna(value=pd.Series(Missing_Ages), inplace=True)"
   ]
  },
  {
   "cell_type": "code",
   "execution_count": 316,
   "metadata": {},
   "outputs": [],
   "source": [
    "spectra.Gender.fillna(value=pd.Series(Missing_Genders), inplace=True)"
   ]
  },
  {
   "cell_type": "code",
   "execution_count": 10,
   "metadata": {
    "scrolled": true
   },
   "outputs": [],
   "source": [
    "from sklearn.preprocessing import OneHotEncoder\n",
    "\n",
    "OHE = OneHotEncoder().fit(spectra.Gender.values.reshape(-1,1))\n",
    "Gender_DF = pd.DataFrame(OHE.transform(spectra.Gender.values.reshape(-1,1)).toarray(), columns=OHE.categories_[0])\n",
    "\n"
   ]
  },
  {
   "cell_type": "code",
   "execution_count": 23,
   "metadata": {},
   "outputs": [],
   "source": [
    "X = pd.concat([spectra.iloc[:,:36], Gender_DF, spectra.Age], axis=1)\n",
    "y = spectra['Density_a'].values\n",
    "group = spectra.Dataset\n",
    "\n",
    "LDA = LinearDiscriminantAnalysis(n_components=1)\n",
    "LDA_spectra = pd.DataFrame(LDA.fit_transform(X.drop(['f','m','Age'], axis=1), list(y)))\n",
    "LDA_spectra['target'] = y"
   ]
  },
  {
   "cell_type": "code",
   "execution_count": 36,
   "metadata": {},
   "outputs": [
    {
     "data": {
      "text/plain": [
       "array([1., 1., 1., ..., 1., 1., 1.])"
      ]
     },
     "execution_count": 36,
     "metadata": {},
     "output_type": "execute_result"
    }
   ],
   "source": []
  },
  {
   "cell_type": "code",
   "execution_count": 81,
   "metadata": {
    "scrolled": false
   },
   "outputs": [
    {
     "data": {
      "application/vnd.jupyter.widget-view+json": {
       "model_id": "68fe3a89208c4093b6e24857ec6c0a62",
       "version_major": 2,
       "version_minor": 0
      },
      "text/plain": [
       "interactive(children=(Dropdown(description='selected_target', options=('Density_a', 'pH_a', 'Protein_a', 'Gluc…"
      ]
     },
     "metadata": {},
     "output_type": "display_data"
    }
   ],
   "source": [
    "def metrics_ret(y_true, y_pred, y_prob):\n",
    "    acc = accuracy_score(y_true, y_pred)\n",
    "    prec = precision_score(y_true, y_pred, average='binary')\n",
    "    rec = recall_score(y_true, y_pred, average='binary')\n",
    "#     f_score = f1_score(y_true, y_pred, average='binary')\n",
    "    f_score = fbeta_score(y_true, y_pred, beta=5, average='binary')\n",
    "    roc_auc = roc_auc_score(y_true, y_prob, average='micro')\n",
    "    \n",
    "    return [acc, prec, rec, f_score, roc_auc]\n",
    "\n",
    "@interact\n",
    "def to_show(selected_target = ['Density_a', 'pH_a', 'Protein_a',\n",
    "                               'Glucose_a', 'Ketones_a', 'Leukocyte_a', 'Nitrite_a',\n",
    "                               'Urobilinogen_a', 'Blood_a', 'Erythrocyte_a',\n",
    "                               'Squamous cells_a', 'Hyaline cylinders_a', 'Bacteria_a',\n",
    "                               'Crystals_a', 'Ferment_a', 'Small cells_a', 'Pathological cylinders_a',\n",
    "                               'Slime_a', 'Spermatozoon_a']):\n",
    "    \n",
    "\n",
    "    X = pd.concat([spectra.iloc[:,:36], Gender_DF, spectra['Age']], axis=1)\n",
    "    y = spectra[selected_target].astype(float)\n",
    "    group = spectra.Dataset\n",
    "    \n",
    "    LDA = LinearDiscriminantAnalysis(n_components=1)\n",
    "    LDA_spectra = pd.DataFrame(LDA.fit_transform(X.drop(['f','m','Age'], axis=1), y))\n",
    "    LDA_spectra['target'] = y.values\n",
    "    \n",
    "    \n",
    "    fig = plt.figure(figsize=(15,6))\n",
    "#     ax1 = fig.add_subplot(121)\n",
    "#     ax1.set_title('Distribution')\n",
    "#     ax1.set_xlabel('LDA Component')\n",
    "#     sns.distplot(LDA_spectra[LDA_spectra.target == 0][0], label='Normal: {}'.format(y.value_counts().values[0]))\n",
    "#     sns.distplot(LDA_spectra[LDA_spectra.target == 1][0], label='Anomaly: {}'.format(y.value_counts().values[1]))\n",
    "#     plt.legend()\n",
    "#     plt.grid()\n",
    "\n",
    "    ax2 = fig.add_subplot(122)\n",
    "    ax2.set_title('ROC Curve')\n",
    "    ax2.set_xlabel('FPR')\n",
    "    ax2.set_ylabel('TPR')\n",
    "\n",
    "    Metrics = []\n",
    "    FPR, TPR = [], []\n",
    "    \n",
    "#     skf = StratifiedKFold(n_splits=10)\n",
    "    TRAIN_ARR, TEST_ARR = SGKF(X, group, y, n_splits=5)\n",
    "    \n",
    "    for train_data, test_data in zip(TRAIN_ARR, TEST_ARR):\n",
    "        Train_X, Test_X = train_data.drop(['Dataset', 'TOTAL_a','f','m','Age'], axis=1),\\\n",
    "                          test_data.drop(['Dataset', 'TOTAL_a','f','m','Age'], axis=1)\n",
    "        Train_y, Test_y = train_data['TOTAL_a'], test_data['TOTAL_a']\n",
    "        \n",
    "        LDA_CV = LinearDiscriminantAnalysis(n_components=1)\n",
    "        LDA_Train_X = pd.DataFrame(LDA_CV.fit_transform(Train_X, Train_y))\n",
    "        LDA_Test_X = pd.DataFrame(LDA_CV.transform(Test_X))\n",
    "        \n",
    "        Train_Emb = pd.concat([LDA_Train_X, train_data[['f','m','Age']]], axis=1)\n",
    "        Test_Emb = pd.concat([LDA_Test_X, test_data[['f','m','Age']]], axis=1)\n",
    "        \n",
    "        log_reg = LogisticRegression(C=Best_trsh_regul_dict[selected_target][1])\\\n",
    "                            .fit(Train_Emb, Train_y)\n",
    "        Preds = predict(log_reg, Test_Emb, Best_trsh_regul_dict[selected_target][0]) #log_reg.predict(LDA_Test_X)\n",
    "        Probs = log_reg.predict_proba(Test_Emb)\n",
    "        Metrics.append(metrics_ret(Test_y, Preds, Probs[:,1]))\n",
    "        fpr, tpr, _ = roc_curve(Test_y, Probs[:,1])\n",
    "        plt.plot(fpr,tpr, alpha=0.5)\n",
    "        \n",
    "    plt.plot(range(2), range(2), c='r', linewidth=3, label='Худший случай')\n",
    "    plt.plot([0,0,1], [0,1,1], c='g', linewidth=3, label='Лучший случай')\n",
    "    plt.legend()\n",
    "    plt.grid()\n",
    "    \n",
    "    LDA_Test_X['target'] = Test_y.values\n",
    "    y=pd.Series(Test_y.values)\n",
    "    ax1 = fig.add_subplot(121)\n",
    "    ax1.set_title('Distribution')\n",
    "    ax1.set_xlabel('LDA Component')\n",
    "    sns.distplot(LDA_Test_X[LDA_Test_X.target == 0][0], label='Normal: {}'.format(y.value_counts().values[0]))\n",
    "    sns.distplot(LDA_Test_X[LDA_Test_X.target == 1][0], label='Anomaly: {}'.format(y.value_counts().values[1]))\n",
    "    plt.legend()\n",
    "    plt.grid()\n",
    "        \n",
    "    Metrics = pd.DataFrame(Metrics, columns=['Accuracy', 'Precision', 'Recall', 'F-score', 'ROC-AUC'])\n",
    "    return Metrics.describe()"
   ]
  },
  {
   "cell_type": "code",
   "execution_count": 52,
   "metadata": {},
   "outputs": [],
   "source": [
    "from sklearn.metrics import classification_report"
   ]
  },
  {
   "cell_type": "code",
   "execution_count": 51,
   "metadata": {},
   "outputs": [],
   "source": [
    "def predict(clf, X, trsh):\n",
    "    probs = clf.predict_proba(X)\n",
    "    preds = list(map(lambda x: 1 if x>=trsh else 0, probs[:,1]))\n",
    "    return preds\n",
    "\n",
    "def metrics_ret(y_true, y_pred, y_prob):\n",
    "    acc = accuracy_score(y_true, y_pred)\n",
    "    prec = precision_score(y_true, y_pred)\n",
    "    rec = recall_score(y_true, y_pred)\n",
    "    f1 = f1_score(y_true, y_pred)\n",
    "    roc_auc = roc_auc_score(y_true, y_prob)\n",
    "    cohen_kappa = cohen_kappa_score(y_true, y_pred)\n",
    "    return np.array([acc, prec, rec, f1, roc_auc, cohen_kappa])"
   ]
  },
  {
   "cell_type": "code",
   "execution_count": 16,
   "metadata": {
    "scrolled": false
   },
   "outputs": [
    {
     "data": {
      "application/vnd.jupyter.widget-view+json": {
       "model_id": "51999bea93c74b4f8ad6b41203a6eff3",
       "version_major": 2,
       "version_minor": 0
      },
      "text/plain": [
       "interactive(children=(Dropdown(description='selected_target', options=('Density_a', 'pH_a', 'Protein_a', 'Gluc…"
      ]
     },
     "metadata": {},
     "output_type": "display_data"
    }
   ],
   "source": [
    "@interact\n",
    "def to_show(selected_target = ['Density_a', 'pH_a', 'Protein_a',\n",
    "                               'Glucose_a', 'Ketones_a', 'Leukocyte_a', 'Nitrite_a',\n",
    "                               'Urobilinogen_a', 'Blood_a', 'Erythrocyte_a',\n",
    "                               'Squamous cells_a', 'Hyaline cylinders_a', 'Bacteria_a',\n",
    "                               'Crystals_a', 'Ferment_a', 'Small cells_a', 'Pathological cylinders_a',\n",
    "                               'Slime_a', 'Spermatozoon_a']):\n",
    "    \n",
    "\n",
    "    X = spectra.iloc[:,:36]\n",
    "    y = spectra[selected_target]\n",
    "    group = spectra.Dataset\n",
    "    \n",
    "    Metrics = []\n",
    "    FPR, TPR = [], []\n",
    "    \n",
    "#     skf = StratifiedKFold(n_splits=10)\n",
    "    TRAIN_ARR, TEST_ARR = SGKF(X, group, y, n_splits=4)\n",
    "\n",
    "    for i, (train_data, test_data) in enumerate(zip(TRAIN_ARR, TEST_ARR)):\n",
    "        Train_X, Test_X = train_data.drop(['Dataset', 'TOTAL_a'], axis=1),\\\n",
    "                          test_data.drop(['Dataset', 'TOTAL_a'], axis=1)\n",
    "        Train_y, Test_y = train_data['TOTAL_a'], test_data['TOTAL_a']\n",
    "        \n",
    "        LDA_CV = LinearDiscriminantAnalysis(n_components=1)\n",
    "        LDA_Train_X = LDA_CV.fit_transform(Train_X, Train_y)\n",
    "        LDA_Test_X = LDA_CV.transform(Test_X)\n",
    "        \n",
    "        \n",
    "#         PLS_CV = PLSRegression(n_components=6)\n",
    "#         PLS_Train_X = PLS_CV.fit_transform(Train_X, Train_y)[0]\n",
    "#         PLS_Test_X = PLS_CV.transform(Test_X)\n",
    "        \n",
    "        log_reg = LogisticRegression(C=Best_trsh_regul_dict[selected_target][1]).fit(LDA_Train_X, Train_y)\n",
    "        Preds = predict(log_reg, LDA_Test_X, 0.5)  #log_reg.predict(PLS_Test_X)\n",
    "        Probs = log_reg.predict_proba(LDA_Test_X)\n",
    "        Metrics.append(metrics_ret(Test_y, Preds, Probs[:,1]))\n",
    "        \n",
    "        print(\"Fold {}: \\n\".format(i+1))\n",
    "        print(classification_report(Test_y, Preds, target_names=[\"Normal\", \"Anomaly\"]))\n",
    "        "
   ]
  },
  {
   "cell_type": "code",
   "execution_count": null,
   "metadata": {},
   "outputs": [],
   "source": []
  },
  {
   "cell_type": "markdown",
   "metadata": {},
   "source": [
    "## PLS ( LDA ) + LogReg + Oversampling (SMOTE)"
   ]
  },
  {
   "cell_type": "markdown",
   "metadata": {},
   "source": [
    "* Используем SMOTE для балансирования классов в исходном спектральном пространстве\n",
    "* Используем LDA для снижения размерности пространства до одного признака (ограничение метода, не более одной компоненты)\n",
    "* На новом признаке используем LogReg"
   ]
  },
  {
   "cell_type": "code",
   "execution_count": 126,
   "metadata": {},
   "outputs": [
    {
     "data": {
      "application/vnd.jupyter.widget-view+json": {
       "model_id": "5977fa0a1886410fb92ff2f8e11dd3aa",
       "version_major": 2,
       "version_minor": 0
      },
      "text/plain": [
       "interactive(children=(Dropdown(description='selected_target', options=('Density_a', 'pH_a', 'Protein_a', 'Gluc…"
      ]
     },
     "metadata": {},
     "output_type": "display_data"
    }
   ],
   "source": [
    "@interact\n",
    "def to_show(selected_target = ['Density_a', 'pH_a', 'Protein_a',\n",
    "                               'Glucose_a', 'Ketones_a', 'Leukocyte_a', 'Nitrite_a',\n",
    "                               'Urobilinogen_a', 'Blood_a', 'Erythrocyte_a',\n",
    "                               'Squamous cells_a', 'Hyaline cylinders_a', 'Bacteria_a',\n",
    "                               'Crystals_a', 'Ferment_a', 'Small cells_a', 'Pathological cylinders_a',\n",
    "                               'Slime_a', 'Spermatozoon_a']):\n",
    "    \n",
    "\n",
    "    X = spectra.iloc[:,:36]\n",
    "    y = spectra[selected_target]\n",
    "\n",
    "    TrVal_X, Exam_X, TrVal_y, Exam_y = train_test_split(X,y, test_size=0.2, stratify=y)\n",
    "    \n",
    "    X_sampled, y_sampled = SMOTE().fit_sample(TrVal_X, TrVal_y)\n",
    "    \n",
    "    LDA = LinearDiscriminantAnalysis(n_components=1)\n",
    "    LDA_model = LDA.fit(X_sampled, y_sampled)\n",
    "    LDA_spectra = pd.DataFrame(LDA_model.transform(X_sampled))\n",
    "    LDA_spectra['target'] = y_sampled.values\n",
    "    \n",
    "    \n",
    "    fig = plt.figure(figsize=(15,6))\n",
    "    ax1 = fig.add_subplot(121)\n",
    "    ax1.set_title('Distribution')\n",
    "    ax1.set_xlabel('LDA Component')\n",
    "    sns.distplot(LDA_spectra[LDA_spectra.target == 0][0], label='Normal: {}'.format(y_sampled.value_counts().values[0]))\n",
    "    sns.distplot(LDA_spectra[LDA_spectra.target == 1][0], label='Anomaly: {}'.format(y_sampled.value_counts().values[1]))\n",
    "    plt.legend()\n",
    "    plt.grid()\n",
    "\n",
    "    ax2 = fig.add_subplot(122)\n",
    "    ax2.set_title('ROC Curve')\n",
    "    ax2.set_xlabel('FPR')\n",
    "    ax2.set_ylabel('TPR')\n",
    "\n",
    "    Metrics = []\n",
    "    FPR, TPR = [], []\n",
    "    skf = StratifiedKFold(n_splits=10)\n",
    "    for train_inds, test_inds in skf.split(X_sampled,y_sampled):\n",
    "        Train_X, Test_X = LDA_spectra.iloc[train_inds,:-1], LDA_spectra.iloc[test_inds,:-1]\n",
    "        Train_y, Test_y = LDA_spectra.iloc[train_inds,-1], LDA_spectra.iloc[test_inds,-1]\n",
    "        log_reg = LogisticRegression(C=100.0).fit(Train_X, Train_y)\n",
    "        Preds = log_reg.predict(Test_X)\n",
    "        Probs = log_reg.predict_proba(Test_X)\n",
    "        Metrics.append(metrics_ret(Test_y, Preds, Probs[:,1]))\n",
    "        fpr, tpr, _ = roc_curve(Test_y, Probs[:,1])\n",
    "        plt.plot(fpr,tpr, alpha=0.5)\n",
    "    plt.plot(range(2), range(2), c='r', linewidth=3, label='Худший случай')\n",
    "    plt.plot([0,0,1], [0,1,1], c='g', linewidth=3, label='Лучший случай')\n",
    "    plt.legend()\n",
    "    plt.grid()\n",
    "        \n",
    "    Metrics = pd.DataFrame(Metrics, columns=['accuracy', 'precision', 'recall',\n",
    "                                             'f-score', 'ROC-AUC', 'Cohen`s kappa'])\n",
    "    \n",
    "    final_log_reg = LogisticRegression().fit(LDA_spectra.drop('target',axis=1), LDA_spectra.target)\n",
    "    Ex_Preds = final_log_reg.predict(LDA_model.transform(Exam_X))\n",
    "    Ex_Probs = final_log_reg.predict_proba(LDA_model.transform(Exam_X))\n",
    "    print('Exam:\\n')\n",
    "    print('Normal: {}, Anomaly: {}'.format(Exam_y.value_counts().values[0],\n",
    "                                           Exam_y.shape[0]-Exam_y.value_counts().values[0]))\n",
    "    print('Accuracy: {}\\nPrecision: {}\\nRecall: {}\\nF-Score: {}\\nROC-AUC: {}\\nCohen`s kappa: {}'.format(*metrics_ret(Exam_y, Ex_Preds, Ex_Probs[:,1]).round(3)))\n",
    "    \n",
    "    return Metrics.describe()"
   ]
  },
  {
   "cell_type": "markdown",
   "metadata": {},
   "source": [
    "**\n",
    "Цвет мочи**, как и прозрачность, определяется лаборантом на глаз. В норме цвет может варьироваться от соломенного до насыщенного желтого. Он определяется присутствием в моче красящих веществ – __уробилина, урозеина, уроэритрина__. Любые другие оттенки могут сигнализировать о тех или иных патологиях в организме, например:\n",
    "\n",
    "* темно-бурый – желтуха, гепатит;\n",
    "* красный или розовый цвет говорит о наличии крови в анализе;\n",
    "* темно-красный – гемоглобинурия, гемолитический криз, порфириновая болезнь;\n",
    "* черный – алкаптонурия;\n",
    "* серовато-белый цвет говорит о присутствии гноя;\n",
    "* зеленый или синий цвет объясняется процессами гниения в кишечнике."
   ]
  },
  {
   "cell_type": "markdown",
   "metadata": {},
   "source": [
    "**Прозрачность мочи** здорового человека приближается к абсолютной. Замутнение может быть вызвано присутствием **эритроцитов**, **бактерий**, **слизи**, жиров, солей, гноя и других веществ. Наличие какого-либо вещества выявляется с помощью специальных методик (нагревание, добавление различных кислот и пр.). Если в моче были выявлены **эритроциты**, **бактерии**, белок или эпителий, это говорит о мочекаменной болезни, пиелонефрите, простатите и некоторых других заболеваниях. **Лейкоциты** свидетельствуют о цистите. Выпадение в осадок солей говорит о наличии уратов, фосфатов, оксалатов.\n",
    "\n"
   ]
  },
  {
   "cell_type": "markdown",
   "metadata": {},
   "source": [
    "## Кросс-валидация и подбор порога предсказания"
   ]
  },
  {
   "cell_type": "code",
   "execution_count": 63,
   "metadata": {},
   "outputs": [],
   "source": [
    "from tqdm.notebook import tqdm"
   ]
  },
  {
   "cell_type": "code",
   "execution_count": 77,
   "metadata": {},
   "outputs": [],
   "source": [
    "def predict(clf, X, trsh):\n",
    "    probs = clf.predict_proba(X)\n",
    "    preds = list(map(lambda x: 1 if x>=trsh else 0, probs[:,1]))\n",
    "    return preds\n",
    "\n",
    "def metrics_ret(y_true, y_pred, y_prob):\n",
    "    acc = accuracy_score(y_true, y_pred)\n",
    "    prec = precision_score(y_true, y_pred, average='binary')\n",
    "    rec = recall_score(y_true, y_pred, average='binary')\n",
    "    f1 = f1_score(y_true, y_pred, average='binary')\n",
    "    roc_auc = roc_auc_score(y_true, y_prob, average='mirco')\n",
    "    return np.array([acc, prec, rec, f1, roc_auc])"
   ]
  },
  {
   "cell_type": "code",
   "execution_count": 78,
   "metadata": {},
   "outputs": [],
   "source": [
    "anom_cols = ['Density_a', 'pH_a', 'Protein_a',\n",
    "    'Glucose_a', 'Ketones_a', 'Leukocyte_a', 'Nitrite_a',\n",
    "    'Urobilinogen_a', 'Blood_a', 'Erythrocyte_a',\n",
    "    'Squamous cells_a', 'Hyaline cylinders_a', 'Bacteria_a',\n",
    "    'Crystals_a', 'Ferment_a', 'Small cells_a', 'Pathological cylinders_a',\n",
    "    'Slime_a', 'Spermatozoon_a']"
   ]
  },
  {
   "cell_type": "code",
   "execution_count": 79,
   "metadata": {},
   "outputs": [],
   "source": [
    "from itertools import product"
   ]
  },
  {
   "cell_type": "code",
   "execution_count": 80,
   "metadata": {},
   "outputs": [
    {
     "data": {
      "application/vnd.jupyter.widget-view+json": {
       "model_id": "05a588df26274a059b9256bf3f5524f9",
       "version_major": 2,
       "version_minor": 0
      },
      "text/plain": [
       "HBox(children=(FloatProgress(value=0.0, max=19.0), HTML(value='')))"
      ]
     },
     "metadata": {},
     "output_type": "display_data"
    },
    {
     "name": "stdout",
     "output_type": "stream",
     "text": [
      "\n"
     ]
    }
   ],
   "source": [
    "## Поиск порога\n",
    "\n",
    "def max_metric(name, y_true, y_pred):\n",
    "    if name=='precision':\n",
    "        return precision_score(y_true, y_pred)\n",
    "    elif name=='recall':\n",
    "        return recall_score(y_true, y_pred)\n",
    "    elif name=='f-score':\n",
    "        return fbeta_score(y_true, y_pred, beta=2)\n",
    "    elif name=='roc-auc':\n",
    "        return roc_auc_score(y_true, y_pred)\n",
    "    elif name=='cohen':\n",
    "        return cohen_kappa_score(y_true, y_pred)\n",
    "    \n",
    "\n",
    "Best_trsh_regul_dict = {}\n",
    "X = spectra.iloc[:,:36]\n",
    "groups = spectra.Dataset\n",
    "\n",
    "for ANOMAL in tqdm(anom_cols):\n",
    "    Metrics = {}\n",
    "    y = spectra[ANOMAL].astype(int)\n",
    "    BEST_TRSH = 0.5\n",
    "\n",
    "    for TRSH, REGUL in product(np.arange(0.02,1.0,0.02), [10**-3, 10**-2, 0.1, 1, 10, 100, 1000]):\n",
    "        temp_results = []\n",
    "        \n",
    "        TRAIN_ARR, TEST_ARR = SGKF(X, groups, y)\n",
    "        for train_data, test_data in zip(TRAIN_ARR, TEST_ARR):\n",
    "            Train_X, Test_X = train_data.drop(['Dataset', 'TOTAL_a'], axis=1),\\\n",
    "                          test_data.drop(['Dataset', 'TOTAL_a'], axis=1)\n",
    "            Train_y, Test_y = train_data['TOTAL_a'], test_data['TOTAL_a']\n",
    "\n",
    "            LDA = LinearDiscriminantAnalysis(n_components=1)\n",
    "            LDA_model = LDA.fit(Train_X, Train_y)\n",
    "            LDA_train = pd.DataFrame(LDA_model.transform(Train_X))\n",
    "            LDA_train['target'] = Train_y.values\n",
    "            LDA_test = pd.DataFrame(LDA_model.transform(Test_X))\n",
    "            LDA_test['target'] = Test_y.values\n",
    "\n",
    "            log_reg = LogisticRegression(C=REGUL, class_weight={0:0.3, 1:0.7})\n",
    "            log_reg.fit(LDA_train.drop('target', axis=1), LDA_train.target)\n",
    "            Preds = predict(log_reg, LDA_test.drop('target', axis=1), TRSH)\n",
    "            temp_results.append(max_metric('f-score', LDA_test.target, Preds))\n",
    "            \n",
    "        Metrics[np.mean(temp_results)] = (TRSH.round(2), REGUL)\n",
    "    \n",
    "    BEST_TRSH_REGUL = Metrics[max(Metrics)]\n",
    "    Best_trsh_regul_dict[ANOMAL] = BEST_TRSH_REGUL"
   ]
  },
  {
   "cell_type": "code",
   "execution_count": 73,
   "metadata": {},
   "outputs": [
    {
     "data": {
      "text/plain": [
       "{'Density_a': (0.24, 0.001),\n",
       " 'pH_a': (0.02, 0.1),\n",
       " 'Protein_a': (0.1, 0.01),\n",
       " 'Glucose_a': (0.02, 0.001),\n",
       " 'Ketones_a': (0.02, 0.01),\n",
       " 'Leukocyte_a': (0.02, 0.1),\n",
       " 'Nitrite_a': (0.06, 0.01),\n",
       " 'Urobilinogen_a': (0.02, 0.01),\n",
       " 'Blood_a': (0.12, 0.001),\n",
       " 'Erythrocyte_a': (0.16, 0.001),\n",
       " 'Squamous cells_a': (0.02, 0.01),\n",
       " 'Hyaline cylinders_a': (0.04, 0.1),\n",
       " 'Bacteria_a': (0.2, 0.001),\n",
       " 'Crystals_a': (0.14, 0.001),\n",
       " 'Ferment_a': (0.02, 0.001),\n",
       " 'Small cells_a': (0.06, 0.01),\n",
       " 'Pathological cylinders_a': (0.06, 0.1),\n",
       " 'Slime_a': (0.12, 0.01),\n",
       " 'Spermatozoon_a': (0.98, 1000)}"
      ]
     },
     "execution_count": 73,
     "metadata": {},
     "output_type": "execute_result"
    }
   ],
   "source": [
    "Best_trsh_regul_dict"
   ]
  },
  {
   "cell_type": "code",
   "execution_count": 23,
   "metadata": {
    "scrolled": true
   },
   "outputs": [
    {
     "data": {
      "application/vnd.jupyter.widget-view+json": {
       "model_id": "4a3a3ca05e844a28abbecb60cebe3750",
       "version_major": 2,
       "version_minor": 0
      },
      "text/plain": [
       "interactive(children=(Dropdown(description='selected_target', options=('Density_a', 'pH_a', 'Protein_a', 'Gluc…"
      ]
     },
     "metadata": {},
     "output_type": "display_data"
    },
    {
     "data": {
      "image/png": "[encoded data removed]",
      "text/plain": [
       "<Figure size 1080x432 with 2 Axes>"
      ]
     },
     "metadata": {
      "image/png": {
       "height": 386,
       "width": 882
      },
      "needs_background": "light"
     },
     "output_type": "display_data"
    }
   ],
   "source": [
    "@interact\n",
    "def to_show(selected_target = ['Density_a', 'pH_a', 'Protein_a',\n",
    "                               'Glucose_a', 'Ketones_a', 'Leukocyte_a', 'Nitrite_a',\n",
    "                               'Urobilinogen_a', 'Blood_a', 'Erythrocyte_a',\n",
    "                               'Squamous cells_a', 'Hyaline cylinders_a', 'Bacteria_a',\n",
    "                               'Crystals_a', 'Ferment_a', 'Small cells_a', 'Pathological cylinders_a',\n",
    "                               'Slime_a', 'Spermatozoon_a']):\n",
    "    \n",
    "\n",
    "    X = spectra.iloc[:,:36]\n",
    "    y = spectra[selected_target]\n",
    "    groups = spectra.Dataset\n",
    "    \n",
    "    BEST_TRSH = Best_trsh_regul_dict[selected_target][0]\n",
    "    BEST_REGUL = Best_trsh_regul_dict[selected_target][1]\n",
    "    \n",
    "    gkf = GroupKFold(3)\n",
    "    print('EXAM:\\n')\n",
    "    \n",
    "    TrVal_ARR, Exam_ARR = SGKF(X, groups, y)\n",
    "    \n",
    "    for trval_data, exam_data in zip(TrVal_ARR, Exam_ARR):\n",
    "    \n",
    "        TrVal_X, Exam_X = trval_data.drop(['Dataset','TOTAL_a'],axis=1),\\\n",
    "                          exam_data.drop(['Dataset','TOTAL_a'],axis=1)\n",
    "        TrVal_y, Exam_y = trval_data['TOTAL_a'], exam_data['TOTAL_a']\n",
    "        TrVal_groups, Exam_groups = groups.iloc[trval_data.index], groups.iloc[exam_data.index]\n",
    "\n",
    "        #X_sampled, y_sampled = SMOTE().fit_sample(TrVal_X, TrVal_y)\n",
    "\n",
    "        LDA = LinearDiscriminantAnalysis(n_components=1)\n",
    "        LDA_model = LDA.fit(TrVal_X, TrVal_y)\n",
    "        LDA_spectra = pd.DataFrame(LDA_model.transform(TrVal_X))\n",
    "        LDA_spectra['target'] = TrVal_y.values\n",
    "\n",
    "\n",
    "        fig = plt.figure(figsize=(15,6))\n",
    "        ax1 = fig.add_subplot(121)\n",
    "        ax1.set_title('Distribution')\n",
    "        ax1.set_xlabel('LDA Component')\n",
    "        sns.distplot(LDA_spectra[LDA_spectra.target == 0][0], label='Normal: {}'.format(TrVal_y.value_counts().values[0]))\n",
    "        sns.distplot(LDA_spectra[LDA_spectra.target == 1][0], label='Anomaly: {}'.format(TrVal_y.value_counts().values[1]))\n",
    "        plt.legend()\n",
    "        plt.grid()\n",
    "\n",
    "        ax2 = fig.add_subplot(122)\n",
    "        ax2.set_title('ROC Curve')\n",
    "        ax2.set_xlabel('FPR')\n",
    "        ax2.set_ylabel('TPR')\n",
    "        \n",
    "        Metrics = []\n",
    "        \n",
    "        TRAIN_ARR, TEST_ARR = SGKF(LDA_spectra.drop('target',axis=1), TrVal_groups, LDA_spectra.target)\n",
    "        \n",
    "        for train_data, test_data in zip(TRAIN_ARR, TEST_ARR):\n",
    "            Train_X, Test_X = train_data.drop(['Dataset', 'TOTAL_a'], axis=1),\\\n",
    "                          test_data.drop(['Dataset', 'TOTAL_a'], axis=1)\n",
    "            Train_y, Test_y = train_data['TOTAL_a'], test_data['TOTAL_a']\n",
    "            \n",
    "            \n",
    "            log_reg = LogisticRegression(C=BEST_REGUL).fit(Train_X, Train_y)\n",
    "            Preds = predict(log_reg, Test_X, BEST_TRSH)\n",
    "            Probs = log_reg.predict_proba(Test_X)\n",
    "            Metrics.append(metrics_ret(Test_y, Preds, Probs[:,1]))\n",
    "            fpr, tpr, _ = roc_curve(Test_y, Probs[:,1])\n",
    "            plt.plot(fpr,tpr, alpha=0.5)\n",
    "            \n",
    "        plt.plot(range(2), range(2), c='r', linewidth=3, label='Худший случай')\n",
    "        plt.plot([0,0,1], [0,1,1], c='g', linewidth=3, label='Лучший случай')\n",
    "        plt.legend()\n",
    "        plt.grid()\n",
    "        \n",
    "        Metrics = pd.DataFrame(Metrics, columns=['accuracy', 'precision', 'recall',\n",
    "                                                 'f-score', 'ROC-AUC', 'Cohen`s kappa'])\n",
    "\n",
    "        final_log_reg = LogisticRegression(C=BEST_REGUL).fit(LDA_spectra.drop('target',axis=1), LDA_spectra.target)\n",
    "        Ex_Preds = predict(final_log_reg, LDA_model.transform(Exam_X), BEST_TRSH)\n",
    "        Ex_Probs = final_log_reg.predict_proba(LDA_model.transform(Exam_X))\n",
    "\n",
    "        print('Normal: {}, Anomaly: {}'.format(Exam_y.value_counts().values[0],\n",
    "                                               Exam_y.shape[0]-Exam_y.value_counts().values[0]))\n",
    "        print('Accuracy: {}\\nPrecision: {}\\nRecall: {}\\nF-Score: {}\\nROC-AUC: {}\\nCohen`s kappa: {}\\n'.format(*metrics_ret(Exam_y, Ex_Preds, Ex_Probs[:,1]).round(3)))\n",
    "\n",
    "    return Metrics.describe()\n",
    "\n",
    "\n"
   ]
  },
  {
   "cell_type": "markdown",
   "metadata": {},
   "source": [
    "## EXAM : All Anomalies"
   ]
  },
  {
   "cell_type": "code",
   "execution_count": 86,
   "metadata": {},
   "outputs": [],
   "source": [
    "def predict(clf, X, trsh):\n",
    "    probs = clf.predict_proba(X)\n",
    "    preds = list(map(lambda x: 1 if x>=trsh else 0, probs[:,1]))\n",
    "    return preds\n",
    "\n",
    "def metrics_ret(y_true, y_pred, y_prob):\n",
    "    acc = accuracy_score(y_true, y_pred)\n",
    "    prec = precision_score(y_true, y_pred, average='binary')\n",
    "    rec = recall_score(y_true, y_pred, average='binary')\n",
    "#     f_score = f1_score(y_true, y_pred, average='weighted')\n",
    "    f_score = fbeta_score(y_true, y_pred, beta=2, average='binary')\n",
    "    \n",
    "    return np.array([acc, prec, rec, f_score])"
   ]
  },
  {
   "cell_type": "code",
   "execution_count": 87,
   "metadata": {},
   "outputs": [
    {
     "data": {
      "application/vnd.jupyter.widget-view+json": {
       "model_id": "ffe1b195de354d9dafb949544658c71a",
       "version_major": 2,
       "version_minor": 0
      },
      "text/plain": [
       "HBox(children=(FloatProgress(value=0.0, max=19.0), HTML(value='')))"
      ]
     },
     "metadata": {},
     "output_type": "display_data"
    },
    {
     "ename": "ValueError",
     "evalue": "This solver needs samples of at least 2 classes in the data, but the data contains only one class: 0",
     "output_type": "error",
     "traceback": [
      "\u001b[0;31m---------------------------------------------------------------------------\u001b[0m",
      "\u001b[0;31mValueError\u001b[0m                                Traceback (most recent call last)",
      "\u001b[0;32m<ipython-input-87-c123a8a2d8fd>\u001b[0m in \u001b[0;36m<module>\u001b[0;34m\u001b[0m\n\u001b[1;32m     50\u001b[0m             \u001b[0mTrain_X\u001b[0m\u001b[0;34m,\u001b[0m \u001b[0mTest_X\u001b[0m \u001b[0;34m=\u001b[0m \u001b[0mLDA_spectra\u001b[0m\u001b[0;34m.\u001b[0m\u001b[0miloc\u001b[0m\u001b[0;34m[\u001b[0m\u001b[0mtrain_inds\u001b[0m\u001b[0;34m,\u001b[0m\u001b[0;34m:\u001b[0m\u001b[0;34m-\u001b[0m\u001b[0;36m1\u001b[0m\u001b[0;34m]\u001b[0m\u001b[0;34m,\u001b[0m \u001b[0mLDA_spectra\u001b[0m\u001b[0;34m.\u001b[0m\u001b[0miloc\u001b[0m\u001b[0;34m[\u001b[0m\u001b[0mtest_inds\u001b[0m\u001b[0;34m,\u001b[0m\u001b[0;34m:\u001b[0m\u001b[0;34m-\u001b[0m\u001b[0;36m1\u001b[0m\u001b[0;34m]\u001b[0m\u001b[0;34m\u001b[0m\u001b[0;34m\u001b[0m\u001b[0m\n\u001b[1;32m     51\u001b[0m             \u001b[0mTrain_y\u001b[0m\u001b[0;34m,\u001b[0m \u001b[0mTest_y\u001b[0m \u001b[0;34m=\u001b[0m \u001b[0mLDA_spectra\u001b[0m\u001b[0;34m.\u001b[0m\u001b[0miloc\u001b[0m\u001b[0;34m[\u001b[0m\u001b[0mtrain_inds\u001b[0m\u001b[0;34m,\u001b[0m\u001b[0;34m-\u001b[0m\u001b[0;36m1\u001b[0m\u001b[0;34m]\u001b[0m\u001b[0;34m,\u001b[0m \u001b[0mLDA_spectra\u001b[0m\u001b[0;34m.\u001b[0m\u001b[0miloc\u001b[0m\u001b[0;34m[\u001b[0m\u001b[0mtest_inds\u001b[0m\u001b[0;34m,\u001b[0m\u001b[0;34m-\u001b[0m\u001b[0;36m1\u001b[0m\u001b[0;34m]\u001b[0m\u001b[0;34m\u001b[0m\u001b[0;34m\u001b[0m\u001b[0m\n\u001b[0;32m---> 52\u001b[0;31m             \u001b[0mlog_reg\u001b[0m \u001b[0;34m=\u001b[0m \u001b[0mLogisticRegression\u001b[0m\u001b[0;34m(\u001b[0m\u001b[0mC\u001b[0m\u001b[0;34m=\u001b[0m\u001b[0mBEST_REGUL\u001b[0m\u001b[0;34m)\u001b[0m\u001b[0;34m.\u001b[0m\u001b[0mfit\u001b[0m\u001b[0;34m(\u001b[0m\u001b[0mTrain_X\u001b[0m\u001b[0;34m,\u001b[0m \u001b[0mTrain_y\u001b[0m\u001b[0;34m)\u001b[0m\u001b[0;34m\u001b[0m\u001b[0;34m\u001b[0m\u001b[0m\n\u001b[0m\u001b[1;32m     53\u001b[0m             \u001b[0mPreds\u001b[0m \u001b[0;34m=\u001b[0m \u001b[0mpredict\u001b[0m\u001b[0;34m(\u001b[0m\u001b[0mlog_reg\u001b[0m\u001b[0;34m,\u001b[0m \u001b[0mTest_X\u001b[0m\u001b[0;34m,\u001b[0m \u001b[0mBEST_TRSH\u001b[0m\u001b[0;34m)\u001b[0m\u001b[0;34m\u001b[0m\u001b[0;34m\u001b[0m\u001b[0m\n\u001b[1;32m     54\u001b[0m             \u001b[0mProbs\u001b[0m \u001b[0;34m=\u001b[0m \u001b[0mlog_reg\u001b[0m\u001b[0;34m.\u001b[0m\u001b[0mpredict_proba\u001b[0m\u001b[0;34m(\u001b[0m\u001b[0mTest_X\u001b[0m\u001b[0;34m)\u001b[0m\u001b[0;34m\u001b[0m\u001b[0;34m\u001b[0m\u001b[0m\n",
      "\u001b[0;32m/opt/miniconda3/envs/sphere-py37/lib/python3.7/site-packages/sklearn/linear_model/_logistic.py\u001b[0m in \u001b[0;36mfit\u001b[0;34m(self, X, y, sample_weight)\u001b[0m\n\u001b[1;32m   1556\u001b[0m             raise ValueError(\"This solver needs samples of at least 2 classes\"\n\u001b[1;32m   1557\u001b[0m                              \u001b[0;34m\" in the data, but the data contains only one\"\u001b[0m\u001b[0;34m\u001b[0m\u001b[0;34m\u001b[0m\u001b[0m\n\u001b[0;32m-> 1558\u001b[0;31m                              \" class: %r\" % classes_[0])\n\u001b[0m\u001b[1;32m   1559\u001b[0m \u001b[0;34m\u001b[0m\u001b[0m\n\u001b[1;32m   1560\u001b[0m         \u001b[0;32mif\u001b[0m \u001b[0mlen\u001b[0m\u001b[0;34m(\u001b[0m\u001b[0mself\u001b[0m\u001b[0;34m.\u001b[0m\u001b[0mclasses_\u001b[0m\u001b[0;34m)\u001b[0m \u001b[0;34m==\u001b[0m \u001b[0;36m2\u001b[0m\u001b[0;34m:\u001b[0m\u001b[0;34m\u001b[0m\u001b[0;34m\u001b[0m\u001b[0m\n",
      "\u001b[0;31mValueError\u001b[0m: This solver needs samples of at least 2 classes in the data, but the data contains only one class: 0"
     ]
    }
   ],
   "source": [
    "Anomaly_Cols = ['Density_a', 'pH_a', 'Protein_a',\n",
    "               'Glucose_a', 'Ketones_a', 'Leukocyte_a', 'Nitrite_a',\n",
    "               'Urobilinogen_a', 'Blood_a', 'Erythrocyte_a',\n",
    "               'Squamous cells_a', 'Hyaline cylinders_a', 'Bacteria_a',\n",
    "               'Crystals_a', 'Ferment_a', 'Small cells_a', 'Pathological cylinders_a',\n",
    "               'Slime_a', 'Spermatozoon_a']\n",
    "\n",
    "Metrics = ['Accuracy', 'Precision', 'Recall', 'F-Score', 'Norm/Anom']\n",
    "\n",
    "Exam_results_df = pd.DataFrame(index=pd.MultiIndex.from_product([Anomaly_Cols,['CV', 'EXAM']]), columns=Metrics)\n",
    "\n",
    "\n",
    "for selected_target in tqdm(Anomaly_Cols):\n",
    "\n",
    "    X = spectra.iloc[:,:36]\n",
    "    y = spectra[selected_target].astype(int)\n",
    "    groups = spectra.Dataset\n",
    "    \n",
    "    BEST_TRSH = Best_trsh_regul_dict[selected_target][0]\n",
    "    BEST_REGUL = Best_trsh_regul_dict[selected_target][1]\n",
    "    \n",
    "    CV_Metrics = []\n",
    "    EXAM_Metrics = []\n",
    "    \n",
    "#     gkf = GroupKFold(5)\n",
    "    \n",
    "    TrVal_ARR, Exam_ARR = SGKF(X, groups, y)\n",
    "    \n",
    "    for trval_data, exam_data in zip(TrVal_ARR, Exam_ARR):\n",
    "    \n",
    "        TrVal_X, Exam_X = trval_data.drop(['Dataset', 'TOTAL_a'], axis=1), exam_data.drop(['Dataset', 'TOTAL_a'], axis=1)\n",
    "        TrVal_y, Exam_y = trval_data['TOTAL_a'], exam_data['TOTAL_a']\n",
    "        TrVal_groups, Exam_groups = groups[trval_data.index], groups[exam_data.index]\n",
    "        \n",
    "\n",
    "        #X_sampled, y_sampled = SMOTE().fit_sample(TrVal_X, TrVal_y)\n",
    "\n",
    "        LDA = LinearDiscriminantAnalysis(n_components=1)\n",
    "        LDA_model = LDA.fit(TrVal_X, TrVal_y)\n",
    "        LDA_spectra = pd.DataFrame(LDA_model.transform(TrVal_X))\n",
    "        LDA_spectra['target'] = TrVal_y.values\n",
    "\n",
    "        \n",
    "        Metrics = []\n",
    "        \n",
    "#         skf = StratifiedKFold(n_splits=5, random_state=21)\n",
    "        gkf_cv = GroupKFold(5)\n",
    "        \n",
    "        for train_inds, test_inds in gkf_cv.split(TrVal_X, TrVal_y, TrVal_groups):\n",
    "            Train_X, Test_X = LDA_spectra.iloc[train_inds,:-1], LDA_spectra.iloc[test_inds,:-1]\n",
    "            Train_y, Test_y = LDA_spectra.iloc[train_inds,-1], LDA_spectra.iloc[test_inds,-1]\n",
    "            log_reg = LogisticRegression(C=BEST_REGUL).fit(Train_X, Train_y)\n",
    "            Preds = predict(log_reg, Test_X, BEST_TRSH)\n",
    "            Probs = log_reg.predict_proba(Test_X)\n",
    "            Metrics.append(metrics_ret(Test_y, Preds, Probs[:,1]))\n",
    "            fpr, tpr, _ = roc_curve(Test_y, Probs[:,1])\n",
    "        \n",
    "        final_log_reg = LogisticRegression(C=BEST_REGUL).fit(LDA_spectra.drop('target',axis=1), LDA_spectra.target)\n",
    "        Ex_Preds = predict(final_log_reg, LDA_model.transform(Exam_X), BEST_TRSH)\n",
    "        Ex_Probs = final_log_reg.predict_proba(LDA_model.transform(Exam_X))\n",
    "        \n",
    "        CV_Metrics.append(np.mean(Metrics, axis=0))\n",
    "        EXAM_Metrics.append(metrics_ret(Exam_y, Ex_Preds, Ex_Probs[:,1]).round(3))\n",
    "    \n",
    "    Exam_results_df.loc[(selected_target, 'CV'),:-1] = list(map( lambda x: '+-'.join([str(x[0].round(3)), str(x[1].round(3))]), zip(np.mean(CV_Metrics, axis=0),np.std(CV_Metrics, axis=0)) ))\n",
    "    Exam_results_df.loc[(selected_target, 'EXAM'),:-1] = list(map( lambda x: '+-'.join([str(x[0].round(3)), str(x[1].round(3))]), zip(np.mean(EXAM_Metrics, axis=0),np.std(EXAM_Metrics, axis=0)) ))\n",
    "    Exam_results_df.loc[(selected_target, 'EXAM'),'Norm/Anom'] = '/'.join([str(int(Exam_y.shape[0]-Exam_y.sum())), str(int(Exam_y.sum()))])\n"
   ]
  },
  {
   "cell_type": "code",
   "execution_count": 88,
   "metadata": {},
   "outputs": [
    {
     "data": {
      "text/html": [
       "<div>\n",
       "<style scoped>\n",
       "    .dataframe tbody tr th:only-of-type {\n",
       "        vertical-align: middle;\n",
       "    }\n",
       "\n",
       "    .dataframe tbody tr th {\n",
       "        vertical-align: top;\n",
       "    }\n",
       "\n",
       "    .dataframe thead th {\n",
       "        text-align: right;\n",
       "    }\n",
       "</style>\n",
       "<table border=\"1\" class=\"dataframe\">\n",
       "  <thead>\n",
       "    <tr style=\"text-align: right;\">\n",
       "      <th></th>\n",
       "      <th></th>\n",
       "      <th>Accuracy</th>\n",
       "      <th>Precision</th>\n",
       "      <th>Recall</th>\n",
       "      <th>F-Score</th>\n",
       "      <th>Norm/Anom</th>\n",
       "    </tr>\n",
       "  </thead>\n",
       "  <tbody>\n",
       "    <tr>\n",
       "      <th rowspan=\"2\" valign=\"top\">Density_a</th>\n",
       "      <th>CV</th>\n",
       "      <td>0.448+-0.014</td>\n",
       "      <td>0.436+-0.006</td>\n",
       "      <td>0.997+-0.004</td>\n",
       "      <td>0.789+-0.002</td>\n",
       "      <td>NaN</td>\n",
       "    </tr>\n",
       "    <tr>\n",
       "      <th>EXAM</th>\n",
       "      <td>0.459+-0.022</td>\n",
       "      <td>0.438+-0.011</td>\n",
       "      <td>0.948+-0.053</td>\n",
       "      <td>0.768+-0.022</td>\n",
       "      <td>479/359</td>\n",
       "    </tr>\n",
       "    <tr>\n",
       "      <th rowspan=\"2\" valign=\"top\">pH_a</th>\n",
       "      <th>CV</th>\n",
       "      <td>0.927+-0.006</td>\n",
       "      <td>0.215+-0.019</td>\n",
       "      <td>0.668+-0.157</td>\n",
       "      <td>0.432+-0.069</td>\n",
       "      <td>NaN</td>\n",
       "    </tr>\n",
       "    <tr>\n",
       "      <th>EXAM</th>\n",
       "      <td>0.887+-0.068</td>\n",
       "      <td>0.045+-0.061</td>\n",
       "      <td>0.24+-0.301</td>\n",
       "      <td>0.119+-0.149</td>\n",
       "      <td>818/19</td>\n",
       "    </tr>\n",
       "    <tr>\n",
       "      <th rowspan=\"2\" valign=\"top\">Protein_a</th>\n",
       "      <th>CV</th>\n",
       "      <td>0.917+-0.011</td>\n",
       "      <td>0.352+-0.045</td>\n",
       "      <td>0.606+-0.057</td>\n",
       "      <td>0.494+-0.045</td>\n",
       "      <td>NaN</td>\n",
       "    </tr>\n",
       "    <tr>\n",
       "      <th>EXAM</th>\n",
       "      <td>0.861+-0.117</td>\n",
       "      <td>0.255+-0.162</td>\n",
       "      <td>0.379+-0.187</td>\n",
       "      <td>0.291+-0.111</td>\n",
       "      <td>798/40</td>\n",
       "    </tr>\n",
       "    <tr>\n",
       "      <th rowspan=\"2\" valign=\"top\">Glucose_a</th>\n",
       "      <th>CV</th>\n",
       "      <td>0.876+-0.027</td>\n",
       "      <td>0.175+-0.028</td>\n",
       "      <td>0.569+-0.07</td>\n",
       "      <td>0.355+-0.025</td>\n",
       "      <td>NaN</td>\n",
       "    </tr>\n",
       "    <tr>\n",
       "      <th>EXAM</th>\n",
       "      <td>0.737+-0.263</td>\n",
       "      <td>0.03+-0.024</td>\n",
       "      <td>0.189+-0.14</td>\n",
       "      <td>0.075+-0.042</td>\n",
       "      <td>818/20</td>\n",
       "    </tr>\n",
       "    <tr>\n",
       "      <th rowspan=\"2\" valign=\"top\">Ketones_a</th>\n",
       "      <th>CV</th>\n",
       "      <td>0.903+-0.012</td>\n",
       "      <td>0.214+-0.052</td>\n",
       "      <td>0.512+-0.124</td>\n",
       "      <td>0.365+-0.07</td>\n",
       "      <td>NaN</td>\n",
       "    </tr>\n",
       "    <tr>\n",
       "      <th>EXAM</th>\n",
       "      <td>0.8+-0.141</td>\n",
       "      <td>0.017+-0.015</td>\n",
       "      <td>0.167+-0.195</td>\n",
       "      <td>0.056+-0.058</td>\n",
       "      <td>808/30</td>\n",
       "    </tr>\n",
       "    <tr>\n",
       "      <th rowspan=\"2\" valign=\"top\">Leukocyte_a</th>\n",
       "      <th>CV</th>\n",
       "      <td>0.855+-0.014</td>\n",
       "      <td>0.497+-0.043</td>\n",
       "      <td>0.572+-0.045</td>\n",
       "      <td>0.545+-0.045</td>\n",
       "      <td>NaN</td>\n",
       "    </tr>\n",
       "    <tr>\n",
       "      <th>EXAM</th>\n",
       "      <td>0.775+-0.136</td>\n",
       "      <td>0.364+-0.219</td>\n",
       "      <td>0.474+-0.261</td>\n",
       "      <td>0.413+-0.209</td>\n",
       "      <td>719/120</td>\n",
       "    </tr>\n",
       "    <tr>\n",
       "      <th rowspan=\"2\" valign=\"top\">Nitrite_a</th>\n",
       "      <th>CV</th>\n",
       "      <td>0.964+-0.004</td>\n",
       "      <td>0.405+-0.048</td>\n",
       "      <td>0.722+-0.156</td>\n",
       "      <td>0.587+-0.102</td>\n",
       "      <td>NaN</td>\n",
       "    </tr>\n",
       "    <tr>\n",
       "      <th>EXAM</th>\n",
       "      <td>0.901+-0.09</td>\n",
       "      <td>0.182+-0.051</td>\n",
       "      <td>0.411+-0.251</td>\n",
       "      <td>0.268+-0.111</td>\n",
       "      <td>818/20</td>\n",
       "    </tr>\n",
       "    <tr>\n",
       "      <th rowspan=\"2\" valign=\"top\">Urobilinogen_a</th>\n",
       "      <th>CV</th>\n",
       "      <td>0.878+-0.011</td>\n",
       "      <td>0.126+-0.007</td>\n",
       "      <td>0.897+-0.107</td>\n",
       "      <td>0.364+-0.03</td>\n",
       "      <td>NaN</td>\n",
       "    </tr>\n",
       "    <tr>\n",
       "      <th>EXAM</th>\n",
       "      <td>0.841+-0.053</td>\n",
       "      <td>0.029+-0.043</td>\n",
       "      <td>0.18+-0.194</td>\n",
       "      <td>0.085+-0.113</td>\n",
       "      <td>828/10</td>\n",
       "    </tr>\n",
       "    <tr>\n",
       "      <th rowspan=\"2\" valign=\"top\">Blood_a</th>\n",
       "      <th>CV</th>\n",
       "      <td>0.867+-0.014</td>\n",
       "      <td>0.453+-0.037</td>\n",
       "      <td>0.672+-0.06</td>\n",
       "      <td>0.601+-0.051</td>\n",
       "      <td>NaN</td>\n",
       "    </tr>\n",
       "    <tr>\n",
       "      <th>EXAM</th>\n",
       "      <td>0.758+-0.179</td>\n",
       "      <td>0.299+-0.111</td>\n",
       "      <td>0.467+-0.305</td>\n",
       "      <td>0.364+-0.214</td>\n",
       "      <td>739/100</td>\n",
       "    </tr>\n",
       "    <tr>\n",
       "      <th rowspan=\"2\" valign=\"top\">Erythrocyte_a</th>\n",
       "      <th>CV</th>\n",
       "      <td>0.873+-0.004</td>\n",
       "      <td>0.522+-0.009</td>\n",
       "      <td>0.609+-0.022</td>\n",
       "      <td>0.584+-0.018</td>\n",
       "      <td>NaN</td>\n",
       "    </tr>\n",
       "    <tr>\n",
       "      <th>EXAM</th>\n",
       "      <td>0.75+-0.208</td>\n",
       "      <td>0.426+-0.197</td>\n",
       "      <td>0.501+-0.241</td>\n",
       "      <td>0.413+-0.118</td>\n",
       "      <td>728/110</td>\n",
       "    </tr>\n",
       "    <tr>\n",
       "      <th rowspan=\"2\" valign=\"top\">Squamous cells_a</th>\n",
       "      <th>CV</th>\n",
       "      <td>0.842+-0.014</td>\n",
       "      <td>0.135+-0.02</td>\n",
       "      <td>0.672+-0.052</td>\n",
       "      <td>0.354+-0.038</td>\n",
       "      <td>NaN</td>\n",
       "    </tr>\n",
       "    <tr>\n",
       "      <th>EXAM</th>\n",
       "      <td>0.788+-0.111</td>\n",
       "      <td>0.041+-0.033</td>\n",
       "      <td>0.282+-0.269</td>\n",
       "      <td>0.118+-0.102</td>\n",
       "      <td>808/30</td>\n",
       "    </tr>\n",
       "    <tr>\n",
       "      <th rowspan=\"2\" valign=\"top\">Hyaline cylinders_a</th>\n",
       "      <th>CV</th>\n",
       "      <td>0.939+-0.01</td>\n",
       "      <td>0.297+-0.057</td>\n",
       "      <td>0.537+-0.035</td>\n",
       "      <td>0.416+-0.037</td>\n",
       "      <td>NaN</td>\n",
       "    </tr>\n",
       "    <tr>\n",
       "      <th>EXAM</th>\n",
       "      <td>0.888+-0.122</td>\n",
       "      <td>0.217+-0.228</td>\n",
       "      <td>0.448+-0.316</td>\n",
       "      <td>0.298+-0.212</td>\n",
       "      <td>818/20</td>\n",
       "    </tr>\n",
       "    <tr>\n",
       "      <th rowspan=\"2\" valign=\"top\">Bacteria_a</th>\n",
       "      <th>CV</th>\n",
       "      <td>0.887+-0.012</td>\n",
       "      <td>0.6+-0.042</td>\n",
       "      <td>0.727+-0.023</td>\n",
       "      <td>0.688+-0.028</td>\n",
       "      <td>NaN</td>\n",
       "    </tr>\n",
       "    <tr>\n",
       "      <th>EXAM</th>\n",
       "      <td>0.831+-0.062</td>\n",
       "      <td>0.503+-0.224</td>\n",
       "      <td>0.582+-0.132</td>\n",
       "      <td>0.545+-0.1</td>\n",
       "      <td>718/120</td>\n",
       "    </tr>\n",
       "    <tr>\n",
       "      <th rowspan=\"2\" valign=\"top\">Crystals_a</th>\n",
       "      <th>CV</th>\n",
       "      <td>0.727+-0.009</td>\n",
       "      <td>0.289+-0.009</td>\n",
       "      <td>0.714+-0.013</td>\n",
       "      <td>0.543+-0.015</td>\n",
       "      <td>NaN</td>\n",
       "    </tr>\n",
       "    <tr>\n",
       "      <th>EXAM</th>\n",
       "      <td>0.676+-0.069</td>\n",
       "      <td>0.232+-0.035</td>\n",
       "      <td>0.586+-0.139</td>\n",
       "      <td>0.438+-0.075</td>\n",
       "      <td>728/110</td>\n",
       "    </tr>\n",
       "    <tr>\n",
       "      <th rowspan=\"2\" valign=\"top\">Ferment_a</th>\n",
       "      <th>CV</th>\n",
       "      <td>0.923+-0.016</td>\n",
       "      <td>0.243+-0.04</td>\n",
       "      <td>0.399+-0.201</td>\n",
       "      <td>0.261+-0.088</td>\n",
       "      <td>NaN</td>\n",
       "    </tr>\n",
       "    <tr>\n",
       "      <th>EXAM</th>\n",
       "      <td>0.821+-0.225</td>\n",
       "      <td>0.125+-0.238</td>\n",
       "      <td>0.216+-0.361</td>\n",
       "      <td>0.057+-0.073</td>\n",
       "      <td>818/20</td>\n",
       "    </tr>\n",
       "    <tr>\n",
       "      <th rowspan=\"2\" valign=\"top\">Small cells_a</th>\n",
       "      <th>CV</th>\n",
       "      <td>0.926+-0.008</td>\n",
       "      <td>0.339+-0.04</td>\n",
       "      <td>0.625+-0.094</td>\n",
       "      <td>0.516+-0.07</td>\n",
       "      <td>NaN</td>\n",
       "    </tr>\n",
       "    <tr>\n",
       "      <th>EXAM</th>\n",
       "      <td>0.859+-0.129</td>\n",
       "      <td>0.325+-0.28</td>\n",
       "      <td>0.419+-0.211</td>\n",
       "      <td>0.31+-0.121</td>\n",
       "      <td>798/40</td>\n",
       "    </tr>\n",
       "    <tr>\n",
       "      <th rowspan=\"2\" valign=\"top\">Pathological cylinders_a</th>\n",
       "      <th>CV</th>\n",
       "      <td>0.912+-0.006</td>\n",
       "      <td>0.333+-0.017</td>\n",
       "      <td>0.615+-0.113</td>\n",
       "      <td>0.481+-0.052</td>\n",
       "      <td>NaN</td>\n",
       "    </tr>\n",
       "    <tr>\n",
       "      <th>EXAM</th>\n",
       "      <td>0.87+-0.079</td>\n",
       "      <td>0.211+-0.122</td>\n",
       "      <td>0.417+-0.246</td>\n",
       "      <td>0.314+-0.165</td>\n",
       "      <td>798/40</td>\n",
       "    </tr>\n",
       "    <tr>\n",
       "      <th rowspan=\"2\" valign=\"top\">Slime_a</th>\n",
       "      <th>CV</th>\n",
       "      <td>0.936+-0.008</td>\n",
       "      <td>0.498+-0.157</td>\n",
       "      <td>0.206+-0.129</td>\n",
       "      <td>0.224+-0.135</td>\n",
       "      <td>NaN</td>\n",
       "    </tr>\n",
       "    <tr>\n",
       "      <th>EXAM</th>\n",
       "      <td>0.925+-0.026</td>\n",
       "      <td>0.54+-0.29</td>\n",
       "      <td>0.215+-0.094</td>\n",
       "      <td>0.236+-0.103</td>\n",
       "      <td>788/50</td>\n",
       "    </tr>\n",
       "    <tr>\n",
       "      <th rowspan=\"2\" valign=\"top\">Spermatozoon_a</th>\n",
       "      <th>CV</th>\n",
       "      <td>NaN</td>\n",
       "      <td>NaN</td>\n",
       "      <td>NaN</td>\n",
       "      <td>NaN</td>\n",
       "      <td>NaN</td>\n",
       "    </tr>\n",
       "    <tr>\n",
       "      <th>EXAM</th>\n",
       "      <td>NaN</td>\n",
       "      <td>NaN</td>\n",
       "      <td>NaN</td>\n",
       "      <td>NaN</td>\n",
       "      <td>NaN</td>\n",
       "    </tr>\n",
       "  </tbody>\n",
       "</table>\n",
       "</div>"
      ],
      "text/plain": [
       "                                   Accuracy     Precision        Recall       F-Score Norm/Anom\n",
       "Density_a                CV    0.448+-0.014  0.436+-0.006  0.997+-0.004  0.789+-0.002       NaN\n",
       "                         EXAM  0.459+-0.022  0.438+-0.011  0.948+-0.053  0.768+-0.022   479/359\n",
       "pH_a                     CV    0.927+-0.006  0.215+-0.019  0.668+-0.157  0.432+-0.069       NaN\n",
       "                         EXAM  0.887+-0.068  0.045+-0.061   0.24+-0.301  0.119+-0.149    818/19\n",
       "Protein_a                CV    0.917+-0.011  0.352+-0.045  0.606+-0.057  0.494+-0.045       NaN\n",
       "                         EXAM  0.861+-0.117  0.255+-0.162  0.379+-0.187  0.291+-0.111    798/40\n",
       "Glucose_a                CV    0.876+-0.027  0.175+-0.028   0.569+-0.07  0.355+-0.025       NaN\n",
       "                         EXAM  0.737+-0.263   0.03+-0.024   0.189+-0.14  0.075+-0.042    818/20\n",
       "Ketones_a                CV    0.903+-0.012  0.214+-0.052  0.512+-0.124   0.365+-0.07       NaN\n",
       "                         EXAM    0.8+-0.141  0.017+-0.015  0.167+-0.195  0.056+-0.058    808/30\n",
       "Leukocyte_a              CV    0.855+-0.014  0.497+-0.043  0.572+-0.045  0.545+-0.045       NaN\n",
       "                         EXAM  0.775+-0.136  0.364+-0.219  0.474+-0.261  0.413+-0.209   719/120\n",
       "Nitrite_a                CV    0.964+-0.004  0.405+-0.048  0.722+-0.156  0.587+-0.102       NaN\n",
       "                         EXAM   0.901+-0.09  0.182+-0.051  0.411+-0.251  0.268+-0.111    818/20\n",
       "Urobilinogen_a           CV    0.878+-0.011  0.126+-0.007  0.897+-0.107   0.364+-0.03       NaN\n",
       "                         EXAM  0.841+-0.053  0.029+-0.043   0.18+-0.194  0.085+-0.113    828/10\n",
       "Blood_a                  CV    0.867+-0.014  0.453+-0.037   0.672+-0.06  0.601+-0.051       NaN\n",
       "                         EXAM  0.758+-0.179  0.299+-0.111  0.467+-0.305  0.364+-0.214   739/100\n",
       "Erythrocyte_a            CV    0.873+-0.004  0.522+-0.009  0.609+-0.022  0.584+-0.018       NaN\n",
       "                         EXAM   0.75+-0.208  0.426+-0.197  0.501+-0.241  0.413+-0.118   728/110\n",
       "Squamous cells_a         CV    0.842+-0.014   0.135+-0.02  0.672+-0.052  0.354+-0.038       NaN\n",
       "                         EXAM  0.788+-0.111  0.041+-0.033  0.282+-0.269  0.118+-0.102    808/30\n",
       "Hyaline cylinders_a      CV     0.939+-0.01  0.297+-0.057  0.537+-0.035  0.416+-0.037       NaN\n",
       "                         EXAM  0.888+-0.122  0.217+-0.228  0.448+-0.316  0.298+-0.212    818/20\n",
       "Bacteria_a               CV    0.887+-0.012    0.6+-0.042  0.727+-0.023  0.688+-0.028       NaN\n",
       "                         EXAM  0.831+-0.062  0.503+-0.224  0.582+-0.132    0.545+-0.1   718/120\n",
       "Crystals_a               CV    0.727+-0.009  0.289+-0.009  0.714+-0.013  0.543+-0.015       NaN\n",
       "                         EXAM  0.676+-0.069  0.232+-0.035  0.586+-0.139  0.438+-0.075   728/110\n",
       "Ferment_a                CV    0.923+-0.016   0.243+-0.04  0.399+-0.201  0.261+-0.088       NaN\n",
       "                         EXAM  0.821+-0.225  0.125+-0.238  0.216+-0.361  0.057+-0.073    818/20\n",
       "Small cells_a            CV    0.926+-0.008   0.339+-0.04  0.625+-0.094   0.516+-0.07       NaN\n",
       "                         EXAM  0.859+-0.129   0.325+-0.28  0.419+-0.211   0.31+-0.121    798/40\n",
       "Pathological cylinders_a CV    0.912+-0.006  0.333+-0.017  0.615+-0.113  0.481+-0.052       NaN\n",
       "                         EXAM   0.87+-0.079  0.211+-0.122  0.417+-0.246  0.314+-0.165    798/40\n",
       "Slime_a                  CV    0.936+-0.008  0.498+-0.157  0.206+-0.129  0.224+-0.135       NaN\n",
       "                         EXAM  0.925+-0.026    0.54+-0.29  0.215+-0.094  0.236+-0.103    788/50\n",
       "Spermatozoon_a           CV             NaN           NaN           NaN           NaN       NaN\n",
       "                         EXAM           NaN           NaN           NaN           NaN       NaN"
      ]
     },
     "execution_count": 88,
     "metadata": {},
     "output_type": "execute_result"
    }
   ],
   "source": [
    "Exam_results_df"
   ]
  },
  {
   "cell_type": "code",
   "execution_count": 111,
   "metadata": {},
   "outputs": [],
   "source": [
    "Exam_results_df.to_csv('All_anomalies_Exam_results_MaxPrecision.csv')"
   ]
  }
 ],
 "metadata": {
  "kernelspec": {
   "display_name": "Python 3",
   "language": "python",
   "name": "python3"
  },
  "language_info": {
   "codemirror_mode": {
    "name": "ipython",
    "version": 3
   },
   "file_extension": ".py",
   "mimetype": "text/x-python",
   "name": "python",
   "nbconvert_exporter": "python",
   "pygments_lexer": "ipython3",
   "version": "3.7.5"
  }
 },
 "nbformat": 4,
 "nbformat_minor": 2
}
