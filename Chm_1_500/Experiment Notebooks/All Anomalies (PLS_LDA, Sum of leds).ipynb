{
 "cells": [
  {
   "cell_type": "code",
   "execution_count": 5,
   "metadata": {},
   "outputs": [],
   "source": [
    "from StratifiedGroupKFold import StratifiedGroupKFold as SGKF\n",
    "from copy import deepcopy\n",
    "\n",
    "# Для работы с табличными данными\n",
    "import pandas as pd\n",
    "import numpy as np\n",
    "\n",
    "# Подрубаем рисовалки\n",
    "import matplotlib.pyplot as plt\n",
    "import seaborn as sns\n",
    "\n",
    "# Необходимые метрики и препроцессинг\n",
    "from sklearn.preprocessing import MinMaxScaler\n",
    "from sklearn.metrics import classification_report, accuracy_score, f1_score, precision_score,\\\n",
    "                            recall_score, roc_auc_score, roc_curve, cohen_kappa_score, fbeta_score\n",
    "\n",
    "from sklearn.linear_model import LogisticRegression\n",
    "from sklearn.discriminant_analysis import LinearDiscriminantAnalysis\n",
    "from sklearn.cross_decomposition import PLSRegression\n",
    "\n",
    "pd.set_option('display.max_rows', 500)\n",
    "pd.set_option('display.max_columns', 500)\n",
    "pd.set_option('display.width', 1000)\n",
    "from sklearn.model_selection import train_test_split, KFold, StratifiedKFold, GroupKFold, cross_val_score\n",
    "\n",
    "# Подрубаем progress bar\n",
    "from tqdm.notebook import tqdm\n",
    "\n",
    "# Отрубаем warning\n",
    "import warnings\n",
    "warnings.filterwarnings('ignore')"
   ]
  },
  {
   "cell_type": "code",
   "execution_count": 2,
   "metadata": {},
   "outputs": [],
   "source": [
    "# Для интерактивных графиков (в самом конце)\n",
    "from ipywidgets import interact, interactive, fixed, interact_manual\n",
    "import ipywidgets as widgets"
   ]
  },
  {
   "cell_type": "code",
   "execution_count": 3,
   "metadata": {},
   "outputs": [],
   "source": [
    "samples = pd.read_excel(u'20.01.23 список образцов Моча.xlsx', header=2)\n",
    "samples.dropna(subset=['Gender'], inplace=True)\n",
    "\n",
    "samples.fillna(0, inplace=True)\n",
    "samples.reset_index(drop=True, inplace=True)"
   ]
  },
  {
   "cell_type": "code",
   "execution_count": 4,
   "metadata": {},
   "outputs": [],
   "source": [
    "spectra1 = pd.read_csv('urine_chm001-250.csv')\n",
    "spectra2 = pd.read_csv('urine_chm251-500.csv')\n",
    "spectra_init = pd.concat([spectra1, spectra2], axis=0)\n",
    "\n",
    "spectra = spectra_init.filter(regex='^Ch')\n",
    "spectra = pd.DataFrame(spectra.values[:,::2]+spectra.values[:,1::2],\n",
    "                       columns=['Ch_'+str(i) for i in range(18)]) # Sum of two LED spectra\n",
    "\n",
    "# mmscaler = MinMaxScaler(feature_range=(-1,1))\n",
    "# spectra = pd.DataFrame(mmscaler.fit_transform(spectra.T).T)\n",
    "del(spectra1, spectra2)\n",
    "\n",
    "frame_lol = samples[['Gender','Age','Dataset']+list(samples.filter(regex=r'_a$').columns)]\n",
    "spectra['Dataset'] = spectra_init.Dataset.values\n",
    "spectra = pd.merge(left=spectra, right=frame_lol, how='left', on='Dataset')\n",
    "# spectra.dropna(subset=samples.filter(regex=r'_a$').columns, inplace=True)\n",
    "spectra.dropna(how='any', inplace=True)\n",
    "# spectra = spectra.reindex(index=range(spectra.shape[0]))\n",
    "spectra = pd.DataFrame(spectra.values, columns=spectra.columns)"
   ]
  },
  {
   "cell_type": "code",
   "execution_count": 5,
   "metadata": {},
   "outputs": [],
   "source": [
    "spectra.iloc[:,:18] = MinMaxScaler(feature_range=(0,1)).fit_transform(spectra.iloc[:,:18].T).T"
   ]
  },
  {
   "cell_type": "code",
   "execution_count": 6,
   "metadata": {},
   "outputs": [],
   "source": [
    "Anom_Names = spectra.filter(regex='_a$').columns[:-1]"
   ]
  },
  {
   "cell_type": "code",
   "execution_count": 9,
   "metadata": {},
   "outputs": [
    {
     "name": "stdout",
     "output_type": "stream",
     "text": [
      "Density_a\n",
      "pH_a\n",
      "Protein_a\n",
      "Bilirubin_a\n",
      "Glucose_a\n",
      "Ketones_a\n",
      "Leukocyte_a\n",
      "Nitrite_a\n",
      "Urobilinogen_a\n",
      "Blood_a\n",
      "Erythrocyte_a\n",
      "Squamous cells_a\n",
      "Hyaline cylinders_a\n",
      "Bacteria_a\n",
      "Crystals_a\n",
      "Ferment_a\n",
      "Small cells_a\n",
      "Pathological cylinders_a\n",
      "Slime_a\n",
      "Spermatozoon_a\n"
     ]
    }
   ],
   "source": [
    "print(*Anom_Names, sep='\\n')"
   ]
  },
  {
   "cell_type": "code",
   "execution_count": null,
   "metadata": {},
   "outputs": [],
   "source": []
  },
  {
   "cell_type": "code",
   "execution_count": null,
   "metadata": {},
   "outputs": [],
   "source": []
  },
  {
   "cell_type": "code",
   "execution_count": null,
   "metadata": {},
   "outputs": [],
   "source": [
    "PLSRegression().fit()"
   ]
  },
  {
   "cell_type": "code",
   "execution_count": 9,
   "metadata": {},
   "outputs": [],
   "source": [
    "Best_trsh_regul_dict = { 'Density_a': (0.24, 0.001),\n",
    "                         'pH_a': (0.02, 0.1),\n",
    "                         'Protein_a': (0.1, 0.01),\n",
    "                         'Glucose_a': (0.02, 0.001),\n",
    "                         'Ketones_a': (0.02, 0.01),\n",
    "                         'Leukocyte_a': (0.02, 0.1),\n",
    "                         'Nitrite_a': (0.06, 0.01),\n",
    "                         'Urobilinogen_a': (0.02, 0.01),\n",
    "                         'Blood_a': (0.12, 0.001),\n",
    "                         'Erythrocyte_a': (0.16, 0.001),\n",
    "                         'Squamous cells_a': (0.02, 0.01),\n",
    "                         'Hyaline cylinders_a': (0.04, 0.1),\n",
    "                         'Bacteria_a': (0.2, 0.001),\n",
    "                         'Crystals_a': (0.14, 0.001),\n",
    "                         'Ferment_a': (0.02, 0.001),\n",
    "                         'Small cells_a': (0.06, 0.01),\n",
    "                         'Pathological cylinders_a': (0.06, 0.1),\n",
    "                         'Slime_a': (0.12, 0.01),\n",
    "                         'Spermatozoon_a': (0.98, 1000) }"
   ]
  },
  {
   "cell_type": "code",
   "execution_count": 13,
   "metadata": {},
   "outputs": [
    {
     "data": {
      "application/vnd.jupyter.widget-view+json": {
       "model_id": "c5ec4ab36d2248a288e83ddad7bf9040",
       "version_major": 2,
       "version_minor": 0
      },
      "text/plain": [
       "interactive(children=(Dropdown(description='selected_target', options=('Density_a', 'pH_a', 'Protein_a', 'Gluc…"
      ]
     },
     "metadata": {},
     "output_type": "display_data"
    }
   ],
   "source": [
    "def predict(clf, X, trsh):\n",
    "    probs = clf.predict_proba(X)\n",
    "    preds = list(map(lambda x: 1 if x>=trsh else 0, probs[:,1]))\n",
    "    return preds\n",
    "\n",
    "def metrics_ret(y_true, y_pred, y_prob):\n",
    "    acc = accuracy_score(y_true, y_pred)\n",
    "    prec = precision_score(y_true, y_pred, average='binary')\n",
    "    rec = recall_score(y_true, y_pred, average='binary')\n",
    "#     f_score = f1_score(y_true, y_pred, average='binary')\n",
    "    f_score = fbeta_score(y_true, y_pred, beta=5, average='binary')\n",
    "    roc_auc = roc_auc_score(y_true, y_prob, average='micro')\n",
    "    \n",
    "    return [acc, prec, rec, f_score, roc_auc]\n",
    "\n",
    "@interact\n",
    "def to_show(selected_target = ['Density_a', 'pH_a', 'Protein_a',\n",
    "                               'Glucose_a', 'Ketones_a', 'Leukocyte_a', 'Nitrite_a',\n",
    "                               'Urobilinogen_a', 'Blood_a', 'Erythrocyte_a',\n",
    "                               'Squamous cells_a', 'Hyaline cylinders_a', 'Bacteria_a',\n",
    "                               'Crystals_a', 'Ferment_a', 'Small cells_a', 'Pathological cylinders_a',\n",
    "                               'Slime_a', 'Spermatozoon_a']):\n",
    "    \n",
    "\n",
    "    X = spectra.iloc[:,:18]\n",
    "    y = spectra[selected_target].astype(float)\n",
    "    group = spectra.Dataset\n",
    "    \n",
    "#     LDA = LinearDiscriminantAnalysis(n_components=1)\n",
    "#     LDA_spectra = pd.DataFrame(LDA.fit_transform(X.drop(['f','m','Age'], axis=1), y))\n",
    "#     LDA_spectra['target'] = y.values\n",
    "    \n",
    "    \n",
    "    fig = plt.figure(figsize=(15,6))\n",
    "#     ax1 = fig.add_subplot(121)\n",
    "#     ax1.set_title('Distribution')\n",
    "#     ax1.set_xlabel('LDA Component')\n",
    "#     sns.distplot(LDA_spectra[LDA_spectra.target == 0][0], label='Normal: {}'.format(y.value_counts().values[0]))\n",
    "#     sns.distplot(LDA_spectra[LDA_spectra.target == 1][0], label='Anomaly: {}'.format(y.value_counts().values[1]))\n",
    "#     plt.legend()\n",
    "#     plt.grid()\n",
    "\n",
    "    ax2 = fig.add_subplot(122)\n",
    "    ax2.set_title('ROC Curve')\n",
    "    ax2.set_xlabel('FPR')\n",
    "    ax2.set_ylabel('TPR')\n",
    "\n",
    "    Metrics = []\n",
    "    FPR, TPR = [], []\n",
    "    \n",
    "#     skf = StratifiedKFold(n_splits=10)\n",
    "    TRAIN_ARR, TEST_ARR = SGKF(X, group, y, n_splits=5)\n",
    "    \n",
    "    for train_data, test_data in zip(TRAIN_ARR, TEST_ARR):\n",
    "        Train_X, Test_X = train_data.drop(['Dataset', 'TOTAL_a'], axis=1),\\\n",
    "                          test_data.drop(['Dataset', 'TOTAL_a'], axis=1)\n",
    "        Train_y, Test_y = train_data['TOTAL_a'], test_data['TOTAL_a']\n",
    "        \n",
    "        LDA_CV = LinearDiscriminantAnalysis(n_components=1)\n",
    "        LDA_Train_X = pd.DataFrame(LDA_CV.fit_transform(Train_X, Train_y))\n",
    "        LDA_Test_X = pd.DataFrame(LDA_CV.transform(Test_X))\n",
    "        \n",
    "        \n",
    "        log_reg = LogisticRegression(C=Best_trsh_regul_dict[selected_target][1])\\\n",
    "                            .fit(LDA_Train_X, Train_y)\n",
    "        Preds = predict(log_reg, LDA_Test_X, Best_trsh_regul_dict[selected_target][0]) #log_reg.predict(LDA_Test_X)\n",
    "        Probs = log_reg.predict_proba(LDA_Test_X)\n",
    "        Metrics.append(metrics_ret(Test_y, Preds, Probs[:,1]))\n",
    "        fpr, tpr, _ = roc_curve(Test_y, Probs[:,1])\n",
    "        plt.plot(fpr,tpr, alpha=0.5)\n",
    "        \n",
    "    plt.plot(range(2), range(2), c='r', linewidth=3, label='Худший случай')\n",
    "    plt.plot([0,0,1], [0,1,1], c='g', linewidth=3, label='Лучший случай')\n",
    "    plt.legend()\n",
    "    plt.grid()\n",
    "    \n",
    "    LDA_Test_X['target'] = Test_y.values\n",
    "    y=pd.Series(Test_y.values)\n",
    "    ax1 = fig.add_subplot(121)\n",
    "    ax1.set_title('Distribution')\n",
    "    ax1.set_xlabel('LDA Component')\n",
    "    sns.distplot(LDA_Test_X[LDA_Test_X.target == 0][0], label='Normal: {}'.format(y.value_counts().values[0]))\n",
    "    sns.distplot(LDA_Test_X[LDA_Test_X.target == 1][0], label='Anomaly: {}'.format(y.value_counts().values[1]))\n",
    "    plt.legend()\n",
    "    plt.grid()\n",
    "        \n",
    "    Metrics = pd.DataFrame(Metrics, columns=['Accuracy', 'Precision', 'Recall', 'F-score', 'ROC-AUC'])\n",
    "    return Metrics.describe()"
   ]
  },
  {
   "cell_type": "code",
   "execution_count": null,
   "metadata": {},
   "outputs": [],
   "source": []
  }
 ],
 "metadata": {
  "kernelspec": {
   "display_name": "Python 3",
   "language": "python",
   "name": "python3"
  },
  "language_info": {
   "codemirror_mode": {
    "name": "ipython",
    "version": 3
   },
   "file_extension": ".py",
   "mimetype": "text/x-python",
   "name": "python",
   "nbconvert_exporter": "python",
   "pygments_lexer": "ipython3",
   "version": "3.7.5"
  }
 },
 "nbformat": 4,
 "nbformat_minor": 2
}
