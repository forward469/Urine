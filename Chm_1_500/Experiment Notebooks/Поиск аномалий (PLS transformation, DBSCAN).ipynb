{
 "cells": [
  {
   "cell_type": "code",
   "execution_count": 2,
   "metadata": {},
   "outputs": [],
   "source": [
    "from sklearn.linear_model import LogisticRegression\n",
    "from sklearn.feature_extraction.text import TfidfVectorizer"
   ]
  },
  {
   "cell_type": "code",
   "execution_count": 1,
   "metadata": {},
   "outputs": [],
   "source": [
    "%config InlineBackend.figure_format='retina'"
   ]
  },
  {
   "cell_type": "code",
   "execution_count": 2,
   "metadata": {},
   "outputs": [
    {
     "name": "stderr",
     "output_type": "stream",
     "text": [
      "/opt/miniconda3/envs/sphere-py37/lib/python3.7/importlib/_bootstrap.py:219: RuntimeWarning: numpy.ufunc size changed, may indicate binary incompatibility. Expected 192 from C header, got 216 from PyObject\n",
      "  return f(*args, **kwds)\n",
      "/opt/miniconda3/envs/sphere-py37/lib/python3.7/importlib/_bootstrap.py:219: RuntimeWarning: numpy.ufunc size changed, may indicate binary incompatibility. Expected 192 from C header, got 216 from PyObject\n",
      "  return f(*args, **kwds)\n",
      "/opt/miniconda3/envs/sphere-py37/lib/python3.7/importlib/_bootstrap.py:219: RuntimeWarning: numpy.ufunc size changed, may indicate binary incompatibility. Expected 192 from C header, got 216 from PyObject\n",
      "  return f(*args, **kwds)\n",
      "/opt/miniconda3/envs/sphere-py37/lib/python3.7/importlib/_bootstrap.py:219: RuntimeWarning: numpy.ufunc size changed, may indicate binary incompatibility. Expected 192 from C header, got 216 from PyObject\n",
      "  return f(*args, **kwds)\n",
      "/opt/miniconda3/envs/sphere-py37/lib/python3.7/importlib/_bootstrap.py:219: RuntimeWarning: numpy.ufunc size changed, may indicate binary incompatibility. Expected 192 from C header, got 216 from PyObject\n",
      "  return f(*args, **kwds)\n"
     ]
    }
   ],
   "source": [
    "from copy import deepcopy\n",
    "\n",
    "import pandas as pd\n",
    "import numpy as np\n",
    "\n",
    "import matplotlib.pyplot as plt\n",
    "import seaborn as sns\n",
    "\n",
    "from sklearn.preprocessing import MinMaxScaler\n",
    "from sklearn.metrics import classification_report, accuracy_score, f1_score, precision_score,\\\n",
    "                            recall_score, roc_auc_score, roc_curve, cohen_kappa_score, fbeta_score\n",
    "from sklearn.cluster import AgglomerativeClustering, DBSCAN\n",
    "from sklearn.discriminant_analysis import LinearDiscriminantAnalysis, QuadraticDiscriminantAnalysis\n",
    "\n",
    "from sklearn.model_selection import train_test_split, KFold, StratifiedKFold, GroupKFold\n",
    "\n",
    "pd.set_option('display.max_rows', 500)\n",
    "pd.set_option('display.max_columns', 500)\n",
    "pd.set_option('display.width', 1000)\n",
    "\n",
    "import warnings\n",
    "warnings.filterwarnings('ignore')"
   ]
  },
  {
   "cell_type": "code",
   "execution_count": 3,
   "metadata": {},
   "outputs": [],
   "source": [
    "from ipywidgets import interact, interactive, fixed, interact_manual\n",
    "import ipywidgets as widgets"
   ]
  },
  {
   "cell_type": "code",
   "execution_count": 4,
   "metadata": {},
   "outputs": [],
   "source": [
    "samples = pd.read_excel(u'20.01.23 список образцов Моча.xlsx', header=2)\n",
    "samples.dropna(subset=['Gender'], inplace=True)\n",
    "\n",
    "samples.fillna(0, inplace=True)\n",
    "samples.reset_index(drop=True, inplace=True)"
   ]
  },
  {
   "cell_type": "code",
   "execution_count": 5,
   "metadata": {},
   "outputs": [],
   "source": [
    "spectra1 = pd.read_csv('urine_chm001-250.csv')\n",
    "spectra2 = pd.read_csv('urine_chm251-500.csv')\n",
    "spectra_init = pd.concat([spectra1, spectra2],  ignore_index=True)\n",
    "\n",
    "spectra = spectra_init.filter(regex='^Ch')\n",
    "\n",
    "mmscaler = MinMaxScaler(feature_range=(-1,1))\n",
    "spectra = pd.DataFrame(mmscaler.fit_transform(spectra.T).T)\n",
    "del(spectra1, spectra2)\n",
    "\n",
    "frame_lol = samples[['Dataset']+list(samples.filter(regex=r'_a$').columns)]\n",
    "spectra['Dataset'] = spectra_init['Dataset']\n",
    "spectra = pd.merge(left=spectra, right=frame_lol, how='left', on='Dataset')\n",
    "spectra.dropna(subset=samples.filter(regex=r'_a$').columns, inplace=True)"
   ]
  },
  {
   "cell_type": "markdown",
   "metadata": {},
   "source": [
    "## PLS ( LDA ) + AgglomerativeClusterization"
   ]
  },
  {
   "cell_type": "code",
   "execution_count": 39,
   "metadata": {},
   "outputs": [
    {
     "data": {
      "application/vnd.jupyter.widget-view+json": {
       "model_id": "e3112816834243e891cba1be2a14733d",
       "version_major": 2,
       "version_minor": 0
      },
      "text/plain": [
       "interactive(children=(Dropdown(description='selected_target', options=('Density_a', 'pH_a', 'Protein_a', 'Gluc…"
      ]
     },
     "metadata": {},
     "output_type": "display_data"
    }
   ],
   "source": [
    "def metrics_ret(y_true, y_pred):\n",
    "    acc = accuracy_score(y_true, y_pred)\n",
    "    prec = precision_score(y_true, y_pred)\n",
    "    rec = recall_score(y_true, y_pred)\n",
    "    f1 = f1_score(y_true, y_pred)\n",
    "    cohen_kappa = cohen_kappa_score(y_true, y_pred)\n",
    "    \n",
    "    return [acc, f1, prec, rec, cohen_kappa]\n",
    "\n",
    "@interact\n",
    "def to_show(selected_target = ['Density_a', 'pH_a', 'Protein_a',\n",
    "                               'Glucose_a', 'Ketones_a', 'Leukocyte_a', 'Nitrite_a',\n",
    "                               'Urobilinogen_a', 'Blood_a', 'Erythrocyte_a',\n",
    "                               'Squamous cells_a', 'Hyaline cylinders_a', 'Bacteria_a',\n",
    "                               'Crystals_a', 'Ferment_a', 'Small cells_a', 'Pathological cylinders_a',\n",
    "                               'Slime_a', 'Spermatozoon_a']):\n",
    "    \n",
    "\n",
    "    X = spectra.iloc[:,:36]\n",
    "    y = spectra[selected_target]\n",
    "    \n",
    "    LDA = LinearDiscriminantAnalysis(n_components=2)\n",
    "    LDA_spectra = pd.DataFrame(LDA.fit_transform(X,y))\n",
    "    LDA_spectra['target'] = y.values\n",
    "    \n",
    "    \n",
    "    plt.figure(figsize=(15,6))\n",
    "    plt.title('Distribution')\n",
    "    plt.xlabel('LDA Component')\n",
    "    sns.distplot(LDA_spectra[LDA_spectra.target == 0][0], label='Normal: {}'.format(y.value_counts().values[0]))\n",
    "    sns.distplot(LDA_spectra[LDA_spectra.target == 1][0], label='Anomaly: {}'.format(y.value_counts().values[1]))\n",
    "    plt.legend()\n",
    "    plt.grid()\n",
    "    \n",
    "    Metrics = []\n",
    "    Preds = AgglomerativeClustering(linkage='complete', affinity='l2').fit_predict(LDA_spectra[0].values.reshape(-1,1))\n",
    "\n",
    "    Metrics.append(metrics_ret(LDA_spectra.target, Preds))\n",
    "\n",
    "    print(1-Preds)\n",
    "    print(LDA_spectra.target.values)\n",
    "        \n",
    "    Metrics = pd.DataFrame(Metrics, columns=['Accuracy', 'f-score', 'Precision', 'Recall', 'Cohen`s kappa'])\n",
    "    return Metrics.describe()"
   ]
  },
  {
   "cell_type": "code",
   "execution_count": null,
   "metadata": {},
   "outputs": [],
   "source": []
  }
 ],
 "metadata": {
  "kernelspec": {
   "display_name": "Python 3",
   "language": "python",
   "name": "python3"
  },
  "language_info": {
   "codemirror_mode": {
    "name": "ipython",
    "version": 3
   },
   "file_extension": ".py",
   "mimetype": "text/x-python",
   "name": "python",
   "nbconvert_exporter": "python",
   "pygments_lexer": "ipython3",
   "version": "3.7.5"
  }
 },
 "nbformat": 4,
 "nbformat_minor": 2
}
